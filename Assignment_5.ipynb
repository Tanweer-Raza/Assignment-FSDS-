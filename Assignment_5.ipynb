{
 "cells": [
  {
   "cell_type": "markdown",
   "id": "c7e83c60",
   "metadata": {},
   "source": [
    "Q.1. What does an empty dictionary's code look like?"
   ]
  },
  {
   "cell_type": "code",
   "execution_count": 1,
   "id": "7e9d96c5",
   "metadata": {},
   "outputs": [],
   "source": [
    "dic = {}"
   ]
  },
  {
   "cell_type": "code",
   "execution_count": null,
   "id": "baf837c1",
   "metadata": {},
   "outputs": [],
   "source": []
  },
  {
   "cell_type": "markdown",
   "id": "80fd3628",
   "metadata": {},
   "source": [
    "Q.2. What is the value of a dictionary value with the key 'foo' and the value 42?"
   ]
  },
  {
   "cell_type": "code",
   "execution_count": 2,
   "id": "0dc72927",
   "metadata": {},
   "outputs": [],
   "source": [
    "dic1 = {'foo' : 42}"
   ]
  },
  {
   "cell_type": "code",
   "execution_count": null,
   "id": "7261af93",
   "metadata": {},
   "outputs": [],
   "source": []
  },
  {
   "cell_type": "markdown",
   "id": "9d2fc0cc",
   "metadata": {},
   "source": [
    "Q.3. What is the most significant distinction between a dictionary   and a list?"
   ]
  },
  {
   "cell_type": "code",
   "execution_count": 4,
   "id": "91375ced",
   "metadata": {},
   "outputs": [
    {
     "data": {
      "text/plain": [
       "'\\nAns.(3)\\n1. List dneoted by [] is an ordered set of elements. But, a dictionary denoted by {} is a data structure that is used \\nfor matching one element (Key) with another (Value).  \\n\\n2. The index values can be used to access a particular element. But, in dictionary key \\nrepresents index. Remember that, key may be a number of a string. \\n\\n3. Lists are used to look up a value whereas a dictionary is used to take one value and \\nlook up another value.\\n'"
      ]
     },
     "execution_count": 4,
     "metadata": {},
     "output_type": "execute_result"
    }
   ],
   "source": [
    "\"\"\"\n",
    "Ans.(3)\n",
    "1. List dneoted by [] is an ordered set of elements. But, a dictionary denoted by {} is a data structure that is used \n",
    "for matching one element (Key) with another (Value).  \n",
    "\n",
    "2. The index values can be used to access a particular element. But, in dictionary key \n",
    "represents index. Remember that, key may be a number of a string. \n",
    "\n",
    "3. Lists are used to look up a value whereas a dictionary is used to take one value and \n",
    "look up another value.\n",
    "\"\"\""
   ]
  },
  {
   "cell_type": "code",
   "execution_count": null,
   "id": "4b774fd9",
   "metadata": {},
   "outputs": [],
   "source": []
  },
  {
   "cell_type": "markdown",
   "id": "bce2bbca",
   "metadata": {},
   "source": [
    "Q.4. What happens if you try to access spam['foo'] if spam is {'bar': 100}?"
   ]
  },
  {
   "cell_type": "code",
   "execution_count": 7,
   "id": "785d1159",
   "metadata": {},
   "outputs": [],
   "source": [
    "# Ans.(4) It will give key error as no key as 'foo' or associated values are there in the spam dictionary\n",
    "spam = {'bar' : 100}"
   ]
  },
  {
   "cell_type": "code",
   "execution_count": 6,
   "id": "ddf79446",
   "metadata": {},
   "outputs": [
    {
     "ename": "KeyError",
     "evalue": "'foo'",
     "output_type": "error",
     "traceback": [
      "\u001b[1;31m---------------------------------------------------------------------------\u001b[0m",
      "\u001b[1;31mKeyError\u001b[0m                                  Traceback (most recent call last)",
      "\u001b[1;32m~\\AppData\\Local\\Temp/ipykernel_12804/3999281786.py\u001b[0m in \u001b[0;36m<module>\u001b[1;34m\u001b[0m\n\u001b[1;32m----> 1\u001b[1;33m \u001b[0mspam\u001b[0m\u001b[1;33m[\u001b[0m\u001b[1;34m'foo'\u001b[0m\u001b[1;33m]\u001b[0m\u001b[1;33m\u001b[0m\u001b[1;33m\u001b[0m\u001b[0m\n\u001b[0m",
      "\u001b[1;31mKeyError\u001b[0m: 'foo'"
     ]
    }
   ],
   "source": [
    "spam['foo']"
   ]
  },
  {
   "cell_type": "code",
   "execution_count": null,
   "id": "f928e2b6",
   "metadata": {},
   "outputs": [],
   "source": []
  },
  {
   "cell_type": "markdown",
   "id": "f76d25ba",
   "metadata": {},
   "source": [
    "Q.5. If a dictionary is stored in spam, what is the difference between the expressions 'cat' in spam and 'cat' in spam.keys()?"
   ]
  },
  {
   "cell_type": "code",
   "execution_count": 31,
   "id": "ea6f10ea",
   "metadata": {},
   "outputs": [],
   "source": [
    "#Ans.(5)There is no difference. The in operator checks whether a value exists as a key in the dictionary.\n",
    "# While the spam.keys() gives all the keys available in the dicitonary .\n",
    "spam = {'cat' : 'animal'}"
   ]
  },
  {
   "cell_type": "code",
   "execution_count": 32,
   "id": "4c04f589",
   "metadata": {},
   "outputs": [
    {
     "data": {
      "text/plain": [
       "True"
      ]
     },
     "execution_count": 32,
     "metadata": {},
     "output_type": "execute_result"
    }
   ],
   "source": [
    "'cat' in spam"
   ]
  },
  {
   "cell_type": "code",
   "execution_count": 33,
   "id": "3464e746",
   "metadata": {},
   "outputs": [
    {
     "data": {
      "text/plain": [
       "dict_keys(['cat'])"
      ]
     },
     "execution_count": 33,
     "metadata": {},
     "output_type": "execute_result"
    }
   ],
   "source": [
    "spam.keys()"
   ]
  },
  {
   "cell_type": "code",
   "execution_count": null,
   "id": "ffa3457c",
   "metadata": {},
   "outputs": [],
   "source": []
  },
  {
   "cell_type": "markdown",
   "id": "dffaa549",
   "metadata": {},
   "source": [
    "Q.6. If a dictionary is stored in spam, what is the difference between the expressions 'cat' in spam and 'cat' in spam.values()?"
   ]
  },
  {
   "cell_type": "code",
   "execution_count": 37,
   "id": "a4c1acbd",
   "metadata": {},
   "outputs": [],
   "source": [
    "#Ans.(6)'cat' in spam checks whether there is a 'cat' key in the dictionary, while \n",
    "# 'cat' in spam.values() checks whether there is a value 'cat' for one of the keys in spam.\n",
    "spam = {'cat' : 'cat'}"
   ]
  },
  {
   "cell_type": "code",
   "execution_count": 38,
   "id": "84d80f39",
   "metadata": {},
   "outputs": [
    {
     "data": {
      "text/plain": [
       "True"
      ]
     },
     "execution_count": 38,
     "metadata": {},
     "output_type": "execute_result"
    }
   ],
   "source": [
    "'cat' in spam"
   ]
  },
  {
   "cell_type": "code",
   "execution_count": 39,
   "id": "3749f328",
   "metadata": {},
   "outputs": [
    {
     "data": {
      "text/plain": [
       "dict_values(['cat'])"
      ]
     },
     "execution_count": 39,
     "metadata": {},
     "output_type": "execute_result"
    }
   ],
   "source": [
    "spam.values()"
   ]
  },
  {
   "cell_type": "code",
   "execution_count": null,
   "id": "7170fe20",
   "metadata": {},
   "outputs": [],
   "source": []
  },
  {
   "cell_type": "markdown",
   "id": "cf48ee73",
   "metadata": {},
   "source": [
    "Q.7. What is a shortcut for the following code?\n",
    "\n",
    "if 'color' not in spam:\n",
    "\n",
    "spam['color'] = 'black'\n"
   ]
  },
  {
   "cell_type": "code",
   "execution_count": 40,
   "id": "e154c66d",
   "metadata": {},
   "outputs": [],
   "source": [
    "spam = {\n",
    "    'cat' : 'meow',\n",
    "    'dog' : 'bark'\n",
    "}"
   ]
  },
  {
   "cell_type": "code",
   "execution_count": 41,
   "id": "75fc5f02",
   "metadata": {},
   "outputs": [
    {
     "data": {
      "text/plain": [
       "'black'"
      ]
     },
     "execution_count": 41,
     "metadata": {},
     "output_type": "execute_result"
    }
   ],
   "source": [
    "spam.setdefault('color','black')"
   ]
  },
  {
   "cell_type": "code",
   "execution_count": 42,
   "id": "74725532",
   "metadata": {},
   "outputs": [
    {
     "data": {
      "text/plain": [
       "{'cat': 'meow', 'dog': 'bark', 'color': 'black'}"
      ]
     },
     "execution_count": 42,
     "metadata": {},
     "output_type": "execute_result"
    }
   ],
   "source": [
    "spam"
   ]
  },
  {
   "cell_type": "code",
   "execution_count": null,
   "id": "0445d6a2",
   "metadata": {},
   "outputs": [],
   "source": []
  },
  {
   "cell_type": "code",
   "execution_count": 43,
   "id": "a3782540",
   "metadata": {
    "scrolled": true
   },
   "outputs": [
    {
     "name": "stdout",
     "output_type": "stream",
     "text": [
      "Object `function` not found.\n"
     ]
    }
   ],
   "source": [
    "Q.8. How do you \"pretty print\" dictionary values using which module and function?"
   ]
  },
  {
   "cell_type": "code",
   "execution_count": null,
   "id": "61e5c20a",
   "metadata": {},
   "outputs": [],
   "source": []
  },
  {
   "cell_type": "markdown",
   "id": "88f5ba2b",
   "metadata": {},
   "source": [
    "Q.8. How do you \"pretty print\" dictionary values using which module and function"
   ]
  },
  {
   "cell_type": "code",
   "execution_count": 47,
   "id": "08652e3a",
   "metadata": {},
   "outputs": [],
   "source": [
    "#Ans.(8) pprint.pprint()"
   ]
  },
  {
   "cell_type": "code",
   "execution_count": null,
   "id": "a0866c43",
   "metadata": {},
   "outputs": [],
   "source": []
  }
 ],
 "metadata": {
  "kernelspec": {
   "display_name": "Python 3 (ipykernel)",
   "language": "python",
   "name": "python3"
  },
  "language_info": {
   "codemirror_mode": {
    "name": "ipython",
    "version": 3
   },
   "file_extension": ".py",
   "mimetype": "text/x-python",
   "name": "python",
   "nbconvert_exporter": "python",
   "pygments_lexer": "ipython3",
   "version": "3.9.7"
  }
 },
 "nbformat": 4,
 "nbformat_minor": 5
}
