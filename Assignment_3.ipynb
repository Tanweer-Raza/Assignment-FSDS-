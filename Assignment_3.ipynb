{
 "cells": [
  {
   "cell_type": "markdown",
   "id": "31fe536e",
   "metadata": {},
   "source": [
    "Q.1. Why are functions advantageous to have in your programs?"
   ]
  },
  {
   "cell_type": "code",
   "execution_count": 6,
   "id": "5b2cf3a7",
   "metadata": {},
   "outputs": [
    {
     "data": {
      "text/plain": [
       "\"\\nAns.(1)\\na)The first reason being the reusability. Once a function is defined, it can be used over and over and over again. \\nwe can invoke the same function many times in our program, which saves our work and time.\\n\\nb)The second reason is abstraction. In order to use a particular function we need to know the following things:\\n    --The name of the function;\\n    --What the function does;\\n    --What arguments you must give to the function; and\\n    --What kind of result the function returns.\\nBut If we just want to use the function in our program, we don't have to know how it works inside! we don't have\\nto understand anything about what goes on inside the function.i.e Its main goal is to handle complexity by hiding\\nunnecessary details from the user. That enables the user to implement more complex logic on top of the provided \\nabstraction without understanding or even thinking about all the hidden complexity.\\n\""
      ]
     },
     "execution_count": 6,
     "metadata": {},
     "output_type": "execute_result"
    }
   ],
   "source": [
    "\"\"\"\n",
    "Ans.(1)\n",
    "a)The first reason being the reusability. Once a function is defined, it can be used over and over and over again. \n",
    "we can invoke the same function many times in our program, which saves our work and time.\n",
    "\n",
    "b)The second reason is abstraction. In order to use a particular function we need to know the following things:\n",
    "    --The name of the function;\n",
    "    --What the function does;\n",
    "    --What arguments you must give to the function; and\n",
    "    --What kind of result the function returns.\n",
    "But If we just want to use the function in our program, we don't have to know how it works inside! we don't have\n",
    "to understand anything about what goes on inside the function.i.e Its main goal is to handle complexity by hiding\n",
    "unnecessary details from the user. That enables the user to implement more complex logic on top of the provided \n",
    "abstraction without understanding or even thinking about all the hidden complexity.\n",
    "\"\"\"\n"
   ]
  },
  {
   "cell_type": "code",
   "execution_count": null,
   "id": "922f672f",
   "metadata": {},
   "outputs": [],
   "source": []
  },
  {
   "cell_type": "markdown",
   "id": "90335e3a",
   "metadata": {},
   "source": [
    "Q.2. When does the code in a function run: when it's specified or when it's called?"
   ]
  },
  {
   "cell_type": "code",
   "execution_count": 7,
   "id": "56da8ffd",
   "metadata": {},
   "outputs": [
    {
     "data": {
      "text/plain": [
       "'\\nAns.(2)\\nThe code in a function executes or run when the function is called, not when the function is defined or specified.\\n'"
      ]
     },
     "execution_count": 7,
     "metadata": {},
     "output_type": "execute_result"
    }
   ],
   "source": [
    "\"\"\"\n",
    "Ans.(2)\n",
    "The code in a function executes or run when the function is called, not when the function is defined or specified.\n",
    "\"\"\""
   ]
  },
  {
   "cell_type": "code",
   "execution_count": null,
   "id": "bf9551ed",
   "metadata": {},
   "outputs": [],
   "source": []
  },
  {
   "cell_type": "markdown",
   "id": "b80a0c48",
   "metadata": {},
   "source": [
    "Q.3.What statement creates a function?"
   ]
  },
  {
   "cell_type": "code",
   "execution_count": 8,
   "id": "5466338d",
   "metadata": {},
   "outputs": [
    {
     "data": {
      "text/plain": [
       "'\\nAns.(3)\\nThe def statement defines (that is, creates) a function.\\n'"
      ]
     },
     "execution_count": 8,
     "metadata": {},
     "output_type": "execute_result"
    }
   ],
   "source": [
    "\"\"\"\n",
    "Ans.(3)\n",
    "The def statement defines (that is, creates) a function.\n",
    "\"\"\""
   ]
  },
  {
   "cell_type": "code",
   "execution_count": null,
   "id": "d2f187bf",
   "metadata": {},
   "outputs": [],
   "source": []
  },
  {
   "cell_type": "markdown",
   "id": "cd704dd7",
   "metadata": {},
   "source": [
    "Q.4.What is the difference between a function and a function call?"
   ]
  },
  {
   "cell_type": "code",
   "execution_count": 9,
   "id": "38f3b19b",
   "metadata": {},
   "outputs": [
    {
     "data": {
      "text/plain": [
       "\"\\nAns.(4)\\nA function consists of the def statement and the code in its def clause.\\n\\nWhile a function call is what moves the program execution into the function, \\nand the function call evaluates to the function's return value.\\n\""
      ]
     },
     "execution_count": 9,
     "metadata": {},
     "output_type": "execute_result"
    }
   ],
   "source": [
    "\"\"\"\n",
    "Ans.(4)\n",
    "A function consists of the def statement and the code in its def clause.\n",
    "\n",
    "While a function call is what moves the program execution into the function, \n",
    "and the function call evaluates to the function's return value.\n",
    "\"\"\""
   ]
  },
  {
   "cell_type": "code",
   "execution_count": null,
   "id": "815aff8c",
   "metadata": {},
   "outputs": [],
   "source": []
  },
  {
   "cell_type": "markdown",
   "id": "8f6197c5",
   "metadata": {},
   "source": [
    "Q.5. How many global scopes are there in a Python program? How many local scopes?"
   ]
  },
  {
   "cell_type": "code",
   "execution_count": 11,
   "id": "03ae8134",
   "metadata": {},
   "outputs": [
    {
     "data": {
      "text/plain": [
       "'\\nAns.(5)\\nThere is one global scope, and a local scope is created whenever a function is called.\\nAll Python variabes which are accessible at some point in code are either in local scope \\nor in global scope. The explanation is that local scope includes all variables defined in\\nthe current function and global scope includes variabled defined outside of the current \\nfunction. \\n'"
      ]
     },
     "execution_count": 11,
     "metadata": {},
     "output_type": "execute_result"
    }
   ],
   "source": [
    "\"\"\"\n",
    "Ans.(5)\n",
    "There is one global scope, and a local scope is created whenever a function is called.\n",
    "All Python variabes which are accessible at some point in code are either in local scope \n",
    "or in global scope. The explanation is that local scope includes all variables defined in\n",
    "the current function and global scope includes variabled defined outside of the current \n",
    "function. \n",
    "\"\"\""
   ]
  },
  {
   "cell_type": "code",
   "execution_count": null,
   "id": "43823439",
   "metadata": {},
   "outputs": [],
   "source": []
  },
  {
   "cell_type": "markdown",
   "id": "b153c32d",
   "metadata": {},
   "source": [
    "Q.6.What happens to variables in a local scope when the function call returns?"
   ]
  },
  {
   "cell_type": "code",
   "execution_count": 12,
   "id": "8a34bd6b",
   "metadata": {},
   "outputs": [
    {
     "data": {
      "text/plain": [
       "'\\nAns.(6)\\nWhen a function returns, the local scope is destroyed, and all the variables in it are forgotten.\\n\\n'"
      ]
     },
     "execution_count": 12,
     "metadata": {},
     "output_type": "execute_result"
    }
   ],
   "source": [
    "\"\"\"\n",
    "Ans.(6)\n",
    "When a function returns, the local scope is destroyed, and all the variables in it are forgotten.\n",
    "\n",
    "\"\"\""
   ]
  },
  {
   "cell_type": "code",
   "execution_count": null,
   "id": "17b73220",
   "metadata": {},
   "outputs": [],
   "source": []
  },
  {
   "cell_type": "markdown",
   "id": "063d26d5",
   "metadata": {},
   "source": [
    "Q.7. What is the concept of a return value? Is it possible to have a return value in an expression?"
   ]
  },
  {
   "cell_type": "code",
   "execution_count": 13,
   "id": "9d5e00f3",
   "metadata": {},
   "outputs": [
    {
     "data": {
      "text/plain": [
       "'\\nAns.(7)\\nA return value is the value that a function call evaluates to. Like any value, a return value can be used as part of an expression.\\n'"
      ]
     },
     "execution_count": 13,
     "metadata": {},
     "output_type": "execute_result"
    }
   ],
   "source": [
    "\"\"\"\n",
    "Ans.(7)\n",
    "A return value is the value that a function call evaluates to. Like any value, a return value can be used as part of an expression.\n",
    "\"\"\""
   ]
  },
  {
   "cell_type": "code",
   "execution_count": null,
   "id": "dd3fe4c0",
   "metadata": {},
   "outputs": [],
   "source": []
  },
  {
   "cell_type": "markdown",
   "id": "9a90fa7c",
   "metadata": {},
   "source": [
    "Q.8.If a function does not have a return statement, what is the return value of a call to that function?"
   ]
  },
  {
   "cell_type": "code",
   "execution_count": 15,
   "id": "2c600f09",
   "metadata": {},
   "outputs": [
    {
     "data": {
      "text/plain": [
       "'\\nAns.(8)\\nIf there is no return statement for a function, its return value is None.\\n'"
      ]
     },
     "execution_count": 15,
     "metadata": {},
     "output_type": "execute_result"
    }
   ],
   "source": [
    "\"\"\"\n",
    "Ans.(8)\n",
    "If there is no return statement for a function, its return value is None.\n",
    "\"\"\""
   ]
  },
  {
   "cell_type": "code",
   "execution_count": null,
   "id": "5c0a60d2",
   "metadata": {},
   "outputs": [],
   "source": []
  },
  {
   "cell_type": "markdown",
   "id": "de624b57",
   "metadata": {},
   "source": [
    "Q.9.How do you make a function variable refer to the global variable?"
   ]
  },
  {
   "cell_type": "code",
   "execution_count": 16,
   "id": "b43bc99e",
   "metadata": {},
   "outputs": [
    {
     "data": {
      "text/plain": [
       "'\\nAns.(9)\\nA global statement will force a variable in a function to refer to the global variable.\\n'"
      ]
     },
     "execution_count": 16,
     "metadata": {},
     "output_type": "execute_result"
    }
   ],
   "source": [
    "\"\"\"\n",
    "Ans.(9)\n",
    "A global statement will force a variable in a function to refer to the global variable.\n",
    "\"\"\""
   ]
  },
  {
   "cell_type": "code",
   "execution_count": null,
   "id": "79bcd3d0",
   "metadata": {},
   "outputs": [],
   "source": []
  },
  {
   "cell_type": "markdown",
   "id": "6f4cc076",
   "metadata": {},
   "source": [
    "Q.10.What is the data type of None?"
   ]
  },
  {
   "cell_type": "code",
   "execution_count": 17,
   "id": "28a8c4bd",
   "metadata": {},
   "outputs": [
    {
     "data": {
      "text/plain": [
       "'\\nAns.(10)\\nThe data type of None is NoneType.\\n'"
      ]
     },
     "execution_count": 17,
     "metadata": {},
     "output_type": "execute_result"
    }
   ],
   "source": [
    "\"\"\"\n",
    "Ans.(10)\n",
    "The data type of None is NoneType.\n",
    "\"\"\""
   ]
  },
  {
   "cell_type": "code",
   "execution_count": null,
   "id": "05fa6531",
   "metadata": {},
   "outputs": [],
   "source": []
  },
  {
   "cell_type": "markdown",
   "id": "27bcebae",
   "metadata": {},
   "source": [
    "Q.11.What does the sentence import areallyourpetsnamederic do?"
   ]
  },
  {
   "cell_type": "code",
   "execution_count": 18,
   "id": "3272ab0e",
   "metadata": {},
   "outputs": [
    {
     "data": {
      "text/plain": [
       "\"\\nAns.(11)\\nThat import statement imports a module named areallyourpetsnamederic. (This isn't a real Python module, by the way.)\\n\""
      ]
     },
     "execution_count": 18,
     "metadata": {},
     "output_type": "execute_result"
    }
   ],
   "source": [
    "\"\"\"\n",
    "Ans.(11)\n",
    "That import statement imports a module named areallyourpetsnamederic. (This isn't a real Python module, by the way.)\n",
    "\"\"\""
   ]
  },
  {
   "cell_type": "code",
   "execution_count": null,
   "id": "e1393e35",
   "metadata": {},
   "outputs": [],
   "source": []
  },
  {
   "cell_type": "markdown",
   "id": "19a2467e",
   "metadata": {},
   "source": [
    "Q.12.If you had a bacon() feature in a spam module, what would you call it after importing spam?"
   ]
  },
  {
   "cell_type": "code",
   "execution_count": 20,
   "id": "7204f075",
   "metadata": {},
   "outputs": [
    {
     "data": {
      "text/plain": [
       "'\\nAns.(12)\\nThis function can be called with spam.bacon().\\n'"
      ]
     },
     "execution_count": 20,
     "metadata": {},
     "output_type": "execute_result"
    }
   ],
   "source": [
    "\"\"\"\n",
    "Ans.(12)\n",
    "This function can be called with spam.bacon().\n",
    "\"\"\""
   ]
  },
  {
   "cell_type": "code",
   "execution_count": null,
   "id": "0f53d426",
   "metadata": {},
   "outputs": [],
   "source": []
  },
  {
   "cell_type": "markdown",
   "id": "db0f65ea",
   "metadata": {},
   "source": [
    "Q.13.What can you do to save a programme from crashing if it encounters an error?"
   ]
  },
  {
   "cell_type": "code",
   "execution_count": 22,
   "id": "dc61f21e",
   "metadata": {},
   "outputs": [
    {
     "data": {
      "text/plain": [
       "'\\nAns.(13)\\nThe programme can be saved from crashing if it encounters an error by placing the line of code that might cause an error in a try clause.\\n\\n'"
      ]
     },
     "execution_count": 22,
     "metadata": {},
     "output_type": "execute_result"
    }
   ],
   "source": [
    "\"\"\"\n",
    "Ans.(13)\n",
    "The programme can be saved from crashing if it encounters an error by placing the line of code that might cause an error in a try clause.\n",
    "\n",
    "\"\"\""
   ]
  },
  {
   "cell_type": "code",
   "execution_count": null,
   "id": "d85eb944",
   "metadata": {},
   "outputs": [],
   "source": []
  },
  {
   "cell_type": "markdown",
   "id": "e0bd142f",
   "metadata": {},
   "source": [
    "Q.14.What is the purpose of the try clause? What is the purpose of the except clause?"
   ]
  },
  {
   "cell_type": "code",
   "execution_count": 23,
   "id": "431eacca",
   "metadata": {},
   "outputs": [
    {
     "data": {
      "text/plain": [
       "'\\nAns.(14)\\nThe purpose of the try clause and except clause is to save the programme from crashing and\\nmaking the programme to avoid throwings error .So in try and excet clause \\n\\nThe code that could potentially cause an error goes in the try clause.\\n\\nThe code that executes if an error happens goes in the except clause.\\n'"
      ]
     },
     "execution_count": 23,
     "metadata": {},
     "output_type": "execute_result"
    }
   ],
   "source": [
    "\"\"\"\n",
    "Ans.(14)\n",
    "The purpose of the try clause and except clause is to save the programme from crashing and\n",
    "making the programme to avoid throwings error .So in try and excet clause \n",
    "\n",
    "The code that could potentially cause an error goes in the try clause.\n",
    "\n",
    "The code that executes if an error happens goes in the except clause.\n",
    "\"\"\""
   ]
  },
  {
   "cell_type": "code",
   "execution_count": null,
   "id": "813ab9cc",
   "metadata": {},
   "outputs": [],
   "source": []
  },
  {
   "cell_type": "code",
   "execution_count": null,
   "id": "330679f3",
   "metadata": {},
   "outputs": [],
   "source": []
  },
  {
   "cell_type": "code",
   "execution_count": null,
   "id": "7f3d3f7d",
   "metadata": {},
   "outputs": [],
   "source": []
  },
  {
   "cell_type": "code",
   "execution_count": null,
   "id": "e1f0ddf1",
   "metadata": {},
   "outputs": [],
   "source": []
  },
  {
   "cell_type": "code",
   "execution_count": null,
   "id": "fbf2a8e4",
   "metadata": {},
   "outputs": [],
   "source": []
  },
  {
   "cell_type": "code",
   "execution_count": null,
   "id": "134c603a",
   "metadata": {},
   "outputs": [],
   "source": []
  },
  {
   "cell_type": "code",
   "execution_count": null,
   "id": "855765a6",
   "metadata": {},
   "outputs": [],
   "source": []
  },
  {
   "cell_type": "code",
   "execution_count": null,
   "id": "3b4be456",
   "metadata": {},
   "outputs": [],
   "source": []
  },
  {
   "cell_type": "code",
   "execution_count": null,
   "id": "99a484d9",
   "metadata": {},
   "outputs": [],
   "source": []
  },
  {
   "cell_type": "code",
   "execution_count": null,
   "id": "04b09bc5",
   "metadata": {},
   "outputs": [],
   "source": []
  }
 ],
 "metadata": {
  "kernelspec": {
   "display_name": "Python 3 (ipykernel)",
   "language": "python",
   "name": "python3"
  },
  "language_info": {
   "codemirror_mode": {
    "name": "ipython",
    "version": 3
   },
   "file_extension": ".py",
   "mimetype": "text/x-python",
   "name": "python",
   "nbconvert_exporter": "python",
   "pygments_lexer": "ipython3",
   "version": "3.9.7"
  }
 },
 "nbformat": 4,
 "nbformat_minor": 5
}
