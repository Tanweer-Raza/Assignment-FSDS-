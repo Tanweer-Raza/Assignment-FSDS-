{
 "cells": [
  {
   "cell_type": "markdown",
   "id": "070956e9",
   "metadata": {},
   "source": [
    "### Q.1. How do you distinguish between shutil.copy() and shutil.copytree()? "
   ]
  },
  {
   "cell_type": "markdown",
   "id": "1098ff32",
   "metadata": {},
   "source": [
    "    Ans.1) Calling shutil.copy(source, destination) will copy the specific file at the path source to the folder at the path destination.\n",
    "    \n",
    "    While shutil.copy() will copy a single file, shutil.copytree() will copy an entire folder and every folder and file contained in it. \n",
    "    \n",
    "    Calling shutil.copytree(source, destination) will copy the folder at the path source, along with all of its files and subfolders, to the folder at the path destination.\n",
    "    \n",
    "    This function returns a string of the path of the copied file."
   ]
  },
  {
   "cell_type": "code",
   "execution_count": null,
   "id": "1daa48f8",
   "metadata": {},
   "outputs": [],
   "source": []
  },
  {
   "cell_type": "markdown",
   "id": "fcb7e988",
   "metadata": {},
   "source": [
    "### Q.2. What function is used to rename files?? "
   ]
  },
  {
   "cell_type": "markdown",
   "id": "54647e29",
   "metadata": {},
   "source": [
    "    Ans.2) os.rename(source, destination) function is used to rename a file or directory.\n",
    "    \n",
    "    OR\n",
    "    \n",
    "    shutil.move() function can also be used for renaming files as well as moving them.\n",
    "    \n",
    "Difference is OS module might fail to move a file if the source and destination path is on different file systems or drive.But shutil.move will not fail in this kind of cases. So we Use shutil.moves() for moving files on disk. With shutil.move(), it is possible to not only rename a file but also change the file directory at the same time."
   ]
  },
  {
   "cell_type": "markdown",
   "id": "54c41c2b",
   "metadata": {},
   "source": [
    "Example:\n",
    "\n",
    "\n",
    "import shutil\n",
    "\n",
    "src=r'C:\\py_scripts\\photos\\red_sky.jpg'\n",
    "dst=r'C:\\py_scripts\\photos\\awesome\\awesome_sky.jpg'\n",
    "\n",
    "#### change file directory and rename file as awesome_sky\n",
    "shutil.move(src, dst)"
   ]
  },
  {
   "cell_type": "markdown",
   "id": "80513eed",
   "metadata": {},
   "source": [
    "### Q. 3. What is the difference between the delete functions in the send2trash and shutil modules?"
   ]
  },
  {
   "cell_type": "markdown",
   "id": "a506cf0e",
   "metadata": {},
   "source": [
    "    Ans.3) The send2trash functions will move a file or folder to the recycle bin, while shutil functions will permanently delete files and folders."
   ]
  },
  {
   "cell_type": "code",
   "execution_count": null,
   "id": "553b5bfa",
   "metadata": {},
   "outputs": [],
   "source": []
  },
  {
   "cell_type": "markdown",
   "id": "031782fc",
   "metadata": {},
   "source": [
    "### Q.4.ZipFile objects have a close() method just like File objects’ close() method. What ZipFile method is equivalent to File objects’ open() method?"
   ]
  },
  {
   "cell_type": "markdown",
   "id": "445aa38d",
   "metadata": {},
   "source": [
    "    Ans.4. \n",
    "    zipfile is inbuilt python module. ZipFile is imported from it and then we work on zip files .\n",
    "    ZipFile() function is equivalent to the open() function as the first argument passed is the filename,\n",
    "    and the second argument is the mode to open the ZIP file in read, write or append modes."
   ]
  },
  {
   "cell_type": "code",
   "execution_count": null,
   "id": "07d16410",
   "metadata": {},
   "outputs": [],
   "source": []
  },
  {
   "cell_type": "markdown",
   "id": "ae43186d",
   "metadata": {},
   "source": [
    "### Q.5. Create a programme that searches a folder tree for files with a certain file extension (such as .pdf or .jpg). Copy these files from whatever location they are in to a new folder."
   ]
  },
  {
   "cell_type": "code",
   "execution_count": 11,
   "id": "7c59f3d6",
   "metadata": {},
   "outputs": [],
   "source": [
    "import os\n",
    "import shutil\n",
    "\n",
    "src = r\"C:\\Users\\tanat\\iNeuron_clasees\"\n",
    "dst = r\"C:\\Users\\tanat\\iNeuron_clasees\\Assignment (FSDS)\\Assign_10_demo\"\n",
    "\n",
    "for dirpath, dirnames, files in os.walk(src):\n",
    "    for full_filename in files:\n",
    "        file_name,extension = os.path.splitext(full_filename)\n",
    "        if extension == \".csv\":\n",
    "            srcs_file_path = os.path.join(dirpath, full_filename)\n",
    "            try:\n",
    "                shutil.copy(srcs_file_path,dst)\n",
    "            except shutil.SameFileError:\n",
    "                pass"
   ]
  },
  {
   "cell_type": "code",
   "execution_count": 9,
   "id": "86a97ddd",
   "metadata": {},
   "outputs": [],
   "source": [
    "import os\n",
    "import shutil\n",
    "\n",
    "def FileCopy(source_path,destination_path,file_type_list):\n",
    "    for dirpath, dirnames, files in os.walk(source_path):\n",
    "        for full_filename in files:\n",
    "            file_name,extension = os.path.splitext(full_filename)\n",
    "            if extension in file_type:\n",
    "                srcs_file_path = os.path.join(dirpath, full_filename)\n",
    "                \n",
    "                try:\n",
    "                    shutil.copy(srcs_file_path,destination_path)\n",
    "                except shutil.SameFileError:\n",
    "                    pass"
   ]
  },
  {
   "cell_type": "code",
   "execution_count": 7,
   "id": "d08fdd87",
   "metadata": {},
   "outputs": [],
   "source": [
    "source_path = r\"C:\\Users\\tanat\\iNeuron_clasees\"\n",
    "destination_path = r\"C:\\Users\\tanat\\iNeuron_clasees\\Assignment (FSDS)\\Assign_10_demo\"\n",
    "file_type =[\".csv\"]"
   ]
  },
  {
   "cell_type": "code",
   "execution_count": 8,
   "id": "b60dbe8e",
   "metadata": {},
   "outputs": [],
   "source": [
    "FileCopy(source_path,destination_path,file_type)"
   ]
  },
  {
   "cell_type": "code",
   "execution_count": null,
   "id": "19debcc0",
   "metadata": {},
   "outputs": [],
   "source": []
  },
  {
   "cell_type": "code",
   "execution_count": null,
   "id": "64d91969",
   "metadata": {},
   "outputs": [],
   "source": []
  },
  {
   "cell_type": "code",
   "execution_count": null,
   "id": "3d1f96dc",
   "metadata": {},
   "outputs": [],
   "source": []
  },
  {
   "cell_type": "markdown",
   "id": "de3ec9de",
   "metadata": {},
   "source": [
    "    NOTE: How to delete files and folders in Python\n",
    "    \n",
    "    os.remove(\"filename\")  # error if not found\n",
    "    os.rmdir(\"folder\")  # error if not empty, or not found\n",
    "    shutil.rmtree(\"folder\")  # works for non empty directories"
   ]
  },
  {
   "cell_type": "code",
   "execution_count": null,
   "id": "c65052b5",
   "metadata": {},
   "outputs": [],
   "source": []
  }
 ],
 "metadata": {
  "kernelspec": {
   "display_name": "Python 3 (ipykernel)",
   "language": "python",
   "name": "python3"
  },
  "language_info": {
   "codemirror_mode": {
    "name": "ipython",
    "version": 3
   },
   "file_extension": ".py",
   "mimetype": "text/x-python",
   "name": "python",
   "nbconvert_exporter": "python",
   "pygments_lexer": "ipython3",
   "version": "3.9.7"
  }
 },
 "nbformat": 4,
 "nbformat_minor": 5
}
