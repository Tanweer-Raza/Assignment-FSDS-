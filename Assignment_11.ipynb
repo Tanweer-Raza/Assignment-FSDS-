{
 "cells": [
  {
   "cell_type": "markdown",
   "id": "6e6b8f43",
   "metadata": {},
   "source": [
    "### Q. 1. Create an assert statement that throws an AssertionError if the variable spam is a negative integer."
   ]
  },
  {
   "cell_type": "markdown",
   "id": "a3ad3f88",
   "metadata": {},
   "source": [
    "     Ans.1) assert statement has a condition or expression which is supposed to be always true. If the condition is false assert halts the program and gives an AssertionError."
   ]
  },
  {
   "cell_type": "code",
   "execution_count": 1,
   "id": "40d2e0ff",
   "metadata": {},
   "outputs": [],
   "source": [
    "def AssertSpam(variable):\n",
    "    spam = variable\n",
    "    assert spam > 0 , f\"variable spam always takes positive integer , got negative as spam = {spam}\"\n"
   ]
  },
  {
   "cell_type": "code",
   "execution_count": 2,
   "id": "ae88ed0d",
   "metadata": {},
   "outputs": [],
   "source": [
    "AssertSpam(10) # It won't  throw  error as the condition is true here."
   ]
  },
  {
   "cell_type": "code",
   "execution_count": 3,
   "id": "161ccc43",
   "metadata": {},
   "outputs": [
    {
     "ename": "AssertionError",
     "evalue": "variable spam always takes positive integer , got negative as spam = -10",
     "output_type": "error",
     "traceback": [
      "\u001b[1;31m---------------------------------------------------------------------------\u001b[0m",
      "\u001b[1;31mAssertionError\u001b[0m                            Traceback (most recent call last)",
      "\u001b[1;32m~\\AppData\\Local\\Temp/ipykernel_55016/3479043762.py\u001b[0m in \u001b[0;36m<module>\u001b[1;34m\u001b[0m\n\u001b[1;32m----> 1\u001b[1;33m \u001b[0mAssertSpam\u001b[0m\u001b[1;33m(\u001b[0m\u001b[1;33m-\u001b[0m\u001b[1;36m10\u001b[0m\u001b[1;33m)\u001b[0m \u001b[1;31m# It will throw AssertionError as condition is not true.\u001b[0m\u001b[1;33m\u001b[0m\u001b[1;33m\u001b[0m\u001b[0m\n\u001b[0m",
      "\u001b[1;32m~\\AppData\\Local\\Temp/ipykernel_55016/3469296046.py\u001b[0m in \u001b[0;36mAssertSpam\u001b[1;34m(variable)\u001b[0m\n\u001b[0;32m      1\u001b[0m \u001b[1;32mdef\u001b[0m \u001b[0mAssertSpam\u001b[0m\u001b[1;33m(\u001b[0m\u001b[0mvariable\u001b[0m\u001b[1;33m)\u001b[0m\u001b[1;33m:\u001b[0m\u001b[1;33m\u001b[0m\u001b[1;33m\u001b[0m\u001b[0m\n\u001b[0;32m      2\u001b[0m     \u001b[0mspam\u001b[0m \u001b[1;33m=\u001b[0m \u001b[0mvariable\u001b[0m\u001b[1;33m\u001b[0m\u001b[1;33m\u001b[0m\u001b[0m\n\u001b[1;32m----> 3\u001b[1;33m     \u001b[1;32massert\u001b[0m \u001b[0mspam\u001b[0m \u001b[1;33m>\u001b[0m \u001b[1;36m0\u001b[0m \u001b[1;33m,\u001b[0m \u001b[1;34mf\"variable spam always takes positive integer , got negative as spam = {spam}\"\u001b[0m\u001b[1;33m\u001b[0m\u001b[1;33m\u001b[0m\u001b[0m\n\u001b[0m",
      "\u001b[1;31mAssertionError\u001b[0m: variable spam always takes positive integer , got negative as spam = -10"
     ]
    }
   ],
   "source": [
    "AssertSpam(-10) # It will throw AssertionError as condition is not true."
   ]
  },
  {
   "cell_type": "code",
   "execution_count": null,
   "id": "e972d1fd",
   "metadata": {},
   "outputs": [],
   "source": []
  },
  {
   "cell_type": "markdown",
   "id": "c295234c",
   "metadata": {},
   "source": [
    "### Q.2. Write an assert statement that triggers an AssertionError if the variables eggs and bacon contain strings that are the same as each other, even if their cases are different (that is, 'hello' and 'hello' are considered the same, and 'goodbye' and 'GOODbye' are also considered the same). "
   ]
  },
  {
   "cell_type": "code",
   "execution_count": 10,
   "id": "5494241c",
   "metadata": {},
   "outputs": [
    {
     "name": "stdout",
     "output_type": "stream",
     "text": [
      "Enter the string for variable eggs:  goodbye\n",
      "Enter the string for variable bacon:  GOODbye\n"
     ]
    },
    {
     "ename": "AssertionError",
     "evalue": "The string value of both variables eggs and bacon can't be same here",
     "output_type": "error",
     "traceback": [
      "\u001b[1;31m---------------------------------------------------------------------------\u001b[0m",
      "\u001b[1;31mAssertionError\u001b[0m                            Traceback (most recent call last)",
      "\u001b[1;32m~\\AppData\\Local\\Temp/ipykernel_55016/2123699472.py\u001b[0m in \u001b[0;36m<module>\u001b[1;34m\u001b[0m\n\u001b[0;32m      3\u001b[0m \u001b[0mbacon\u001b[0m \u001b[1;33m=\u001b[0m \u001b[0mpypi\u001b[0m\u001b[1;33m.\u001b[0m\u001b[0minputStr\u001b[0m\u001b[1;33m(\u001b[0m\u001b[1;34m\"Enter the string for variable bacon:  \"\u001b[0m\u001b[1;33m)\u001b[0m\u001b[1;33m\u001b[0m\u001b[1;33m\u001b[0m\u001b[0m\n\u001b[0;32m      4\u001b[0m \u001b[1;33m\u001b[0m\u001b[0m\n\u001b[1;32m----> 5\u001b[1;33m \u001b[1;32massert\u001b[0m \u001b[0meggs\u001b[0m\u001b[1;33m.\u001b[0m\u001b[0mlower\u001b[0m\u001b[1;33m(\u001b[0m\u001b[1;33m)\u001b[0m \u001b[1;33m!=\u001b[0m \u001b[0mbacon\u001b[0m\u001b[1;33m.\u001b[0m\u001b[0mlower\u001b[0m\u001b[1;33m(\u001b[0m\u001b[1;33m)\u001b[0m \u001b[1;33m,\u001b[0m \u001b[1;34mf\"The string value of both variables eggs and bacon can't be same here\"\u001b[0m\u001b[1;33m\u001b[0m\u001b[1;33m\u001b[0m\u001b[0m\n\u001b[0m",
      "\u001b[1;31mAssertionError\u001b[0m: The string value of both variables eggs and bacon can't be same here"
     ]
    }
   ],
   "source": [
    "#Ans.2)\n",
    "import pyinputplus as pypi\n",
    "eggs = pypi.inputStr(\"Enter the string for variable eggs:  \")\n",
    "bacon = pypi.inputStr(\"Enter the string for variable bacon:  \")\n",
    "\n",
    "assert eggs.lower() != bacon.lower() , f\"The string value of both variables eggs and bacon can't be same here\"\n"
   ]
  },
  {
   "cell_type": "code",
   "execution_count": null,
   "id": "b79602e0",
   "metadata": {},
   "outputs": [],
   "source": []
  },
  {
   "cell_type": "markdown",
   "id": "bb768cc7",
   "metadata": {},
   "source": [
    "### Q. 3. Create an assert statement that throws an AssertionError every time."
   ]
  },
  {
   "cell_type": "code",
   "execution_count": 14,
   "id": "b5768219",
   "metadata": {},
   "outputs": [],
   "source": [
    "assert True , \"Will never throw error\""
   ]
  },
  {
   "cell_type": "code",
   "execution_count": 15,
   "id": "5d69b9cb",
   "metadata": {},
   "outputs": [
    {
     "ename": "AssertionError",
     "evalue": "Will always throw AssertionError",
     "output_type": "error",
     "traceback": [
      "\u001b[1;31m---------------------------------------------------------------------------\u001b[0m",
      "\u001b[1;31mAssertionError\u001b[0m                            Traceback (most recent call last)",
      "\u001b[1;32m~\\AppData\\Local\\Temp/ipykernel_55016/2895384317.py\u001b[0m in \u001b[0;36m<module>\u001b[1;34m\u001b[0m\n\u001b[1;32m----> 1\u001b[1;33m \u001b[1;32massert\u001b[0m \u001b[1;32mFalse\u001b[0m \u001b[1;33m,\u001b[0m \u001b[1;34m\"Will always throw AssertionError\"\u001b[0m\u001b[1;33m\u001b[0m\u001b[1;33m\u001b[0m\u001b[0m\n\u001b[0m",
      "\u001b[1;31mAssertionError\u001b[0m: Will always throw AssertionError"
     ]
    }
   ],
   "source": [
    "assert False , \"Will always throw AssertionError\""
   ]
  },
  {
   "cell_type": "code",
   "execution_count": null,
   "id": "7c919f35",
   "metadata": {},
   "outputs": [],
   "source": []
  },
  {
   "cell_type": "markdown",
   "id": "c1d1485a",
   "metadata": {},
   "source": [
    "### Q. 4. What are the two lines that must be present in your software in order to call logging.debug()?"
   ]
  },
  {
   "cell_type": "markdown",
   "id": "e97dd0d5",
   "metadata": {},
   "source": [
    "    Ans.4) In order to call logging.debug(), following lines of codes must be present at the\n",
    "    start of our program.\n",
    "    \n",
    "    1.) import logging\n",
    "    2.) logging.basicConfig(filename=LOG.log, \n",
    "                            filemode=\"w\", \n",
    "                            level=logging.DEBUG , \n",
    "                            format='[%(asctime)s],(message)s')"
   ]
  },
  {
   "cell_type": "code",
   "execution_count": null,
   "id": "3a45d5fc",
   "metadata": {},
   "outputs": [],
   "source": []
  },
  {
   "cell_type": "markdown",
   "id": "51b7a36a",
   "metadata": {},
   "source": [
    "### Q.5. What are the two lines that your program must have in order to have logging.debug() send a logging message to a file named programLog.txt?"
   ]
  },
  {
   "cell_type": "markdown",
   "id": "4d65308f",
   "metadata": {},
   "source": [
    "    Ans.5) \n",
    "    \n",
    "    import logging\n",
    "    logging.basicConfig(filename='programLog.txt',\n",
    "                        filemode=\"w\",\n",
    "                        level=logging.DEBUG,\n",
    "                        format=' %(asctime)s - %(levelname)s - %(message)s')"
   ]
  },
  {
   "cell_type": "code",
   "execution_count": null,
   "id": "10b852ac",
   "metadata": {},
   "outputs": [],
   "source": []
  },
  {
   "cell_type": "markdown",
   "id": "5c0455f4",
   "metadata": {},
   "source": [
    "### Q.6. What are the five levels of logging? "
   ]
  },
  {
   "cell_type": "markdown",
   "id": "80374dec",
   "metadata": {},
   "source": [
    "    Ans.6) \n",
    "    Python has five log levels with each one assigned a specific integer indicating the severity of the            log:\n",
    "      1)  DEBUG=10.\n",
    "      2)  INFO=20.\n",
    "      3)  WARN=30.\n",
    "      4)  ERROR=40.\n",
    "      5)  CRITICAL=50."
   ]
  },
  {
   "cell_type": "code",
   "execution_count": null,
   "id": "09464cc4",
   "metadata": {},
   "outputs": [],
   "source": []
  },
  {
   "cell_type": "markdown",
   "id": "fb86364d",
   "metadata": {},
   "source": [
    "### Q.7. What line of code would you add to your software to disable all logging messages? "
   ]
  },
  {
   "cell_type": "markdown",
   "id": "6996efd9",
   "metadata": {},
   "source": [
    "    Ans.7) \n",
    "      logging.disable(logging.CRITICAL)\n",
    "      or\n",
    "      logging.disable(level = 50)\n",
    "\n",
    "      Above code will disable all logging calls of severity 'level' and below."
   ]
  },
  {
   "cell_type": "code",
   "execution_count": null,
   "id": "905d8b26",
   "metadata": {},
   "outputs": [],
   "source": []
  },
  {
   "cell_type": "markdown",
   "id": "bd8161fa",
   "metadata": {},
   "source": [
    "### Q.8.Why is using logging messages better than using print() to display the same message? "
   ]
  },
  {
   "cell_type": "markdown",
   "id": "623b7044",
   "metadata": {},
   "source": [
    "    Ans.8)\n",
    "    The Python logging library lets us to:\n",
    "\n",
    "    1) Logging has different levels of severity that allows us to display log messages according to                    the level we want. A print statement does not give us that flexibility.\n",
    "    2) Logging allows you to direct the log messages to separate files that can then be used for post                  analysis while the same is not easily available with print statement\n",
    "    3) Configure how it looks when it’s emitted( date,time,even line number etc)\n",
    "    4) Most importantly, set the destination for your logs\n",
    "\n",
    "\n"
   ]
  },
  {
   "cell_type": "code",
   "execution_count": null,
   "id": "dd3b2f1d",
   "metadata": {},
   "outputs": [],
   "source": []
  },
  {
   "cell_type": "markdown",
   "id": "34760f42",
   "metadata": {},
   "source": [
    "### Q.9. What are the differences between the Step Over, Step In, and Step Out buttons in the debugger? "
   ]
  },
  {
   "cell_type": "markdown",
   "id": "2a506d53",
   "metadata": {},
   "source": [
    "    Ans.9) \n",
    "    Step over – An action to take in the debugger that will step over a given line. If the line contains a         function the function will be executed and the result returned without debugging each line.\n",
    "\n",
    "    Step into – An action to take in the debugger. If the line does not contain a function it behaves the           same as “step over” but if it does the debugger will enter the called function and continue line-by-line       debugging there.\n",
    "    \n",
    "    \n",
    "    Step out – An action to take in the debugger that returns to the line where the current function was           called.\n",
    "    \n",
    "    \n"
   ]
  },
  {
   "cell_type": "code",
   "execution_count": null,
   "id": "f9e27f6c",
   "metadata": {},
   "outputs": [],
   "source": []
  },
  {
   "cell_type": "markdown",
   "id": "c34bdc1f",
   "metadata": {},
   "source": [
    "### Q.10.After you click Continue, when will the debugger stop ? "
   ]
  },
  {
   "cell_type": "markdown",
   "id": "71ca3142",
   "metadata": {},
   "source": [
    "    Ans.10)\n",
    "    Continue – An action to take in the debugger that will continue execution until the next breakpoint            is reached or the program exits."
   ]
  },
  {
   "cell_type": "code",
   "execution_count": null,
   "id": "f3b9508d",
   "metadata": {},
   "outputs": [],
   "source": []
  },
  {
   "cell_type": "markdown",
   "id": "125d42eb",
   "metadata": {},
   "source": [
    "### Q.11. What is the concept of a breakpoint?"
   ]
  },
  {
   "cell_type": "markdown",
   "id": "76c01ad9",
   "metadata": {},
   "source": [
    "    Ans.11)\n",
    "    Breakpoint – A line number of interest in our program. When the debugger is running it halts execution of       the program at this line."
   ]
  },
  {
   "cell_type": "code",
   "execution_count": null,
   "id": "f11957e1",
   "metadata": {},
   "outputs": [],
   "source": []
  },
  {
   "cell_type": "code",
   "execution_count": null,
   "id": "73641a2b",
   "metadata": {},
   "outputs": [],
   "source": []
  }
 ],
 "metadata": {
  "kernelspec": {
   "display_name": "Python 3 (ipykernel)",
   "language": "python",
   "name": "python3"
  },
  "language_info": {
   "codemirror_mode": {
    "name": "ipython",
    "version": 3
   },
   "file_extension": ".py",
   "mimetype": "text/x-python",
   "name": "python",
   "nbconvert_exporter": "python",
   "pygments_lexer": "ipython3",
   "version": "3.9.7"
  }
 },
 "nbformat": 4,
 "nbformat_minor": 5
}
