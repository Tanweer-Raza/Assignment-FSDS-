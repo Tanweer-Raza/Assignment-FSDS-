{
 "cells": [
  {
   "cell_type": "markdown",
   "id": "a36e7ea9",
   "metadata": {},
   "source": [
    "### Q.1) What are escape characters, and how do you use them?"
   ]
  },
  {
   "cell_type": "code",
   "execution_count": null,
   "id": "66503aba",
   "metadata": {},
   "outputs": [],
   "source": [
    "\"\"\"\n",
    "Ans.1) \n",
    " To insert characters that are illegal in a string,we use an escape character.\n",
    " An escape character is a backslash \\ followed by the character we want to insert. e.g \\\"escape character\\\"\n",
    " An example of an illegal character is a double quote inside a string that is surrounded by double quotes.\n",
    " \n",
    " Escape characters represent characters in string values that would otherwise be difficult or impossible to type into code.\n",
    "\n",
    "\"\"\""
   ]
  },
  {
   "cell_type": "code",
   "execution_count": 33,
   "id": "dcfcfa34",
   "metadata": {},
   "outputs": [
    {
     "ename": "SyntaxError",
     "evalue": "invalid syntax (Temp/ipykernel_18308/4173745296.py, line 1)",
     "output_type": "error",
     "traceback": [
      "\u001b[1;36m  File \u001b[1;32m\"C:\\Users\\tanat\\AppData\\Local\\Temp/ipykernel_18308/4173745296.py\"\u001b[1;36m, line \u001b[1;32m1\u001b[0m\n\u001b[1;33m    esc = \"This is Python \"BASIC\" assignment\"\u001b[0m\n\u001b[1;37m                           ^\u001b[0m\n\u001b[1;31mSyntaxError\u001b[0m\u001b[1;31m:\u001b[0m invalid syntax\n"
     ]
    }
   ],
   "source": [
    "esc = \"This is Python \"BASIC\" assignment\"   "
   ]
  },
  {
   "cell_type": "code",
   "execution_count": 4,
   "id": "ecfe5fdc",
   "metadata": {},
   "outputs": [],
   "source": [
    "esc = \"This is Python \\\"BASIC\\\" assignment\""
   ]
  },
  {
   "cell_type": "code",
   "execution_count": 5,
   "id": "df047518",
   "metadata": {},
   "outputs": [
    {
     "data": {
      "text/plain": [
       "'This is Python \"BASIC\" assignment'"
      ]
     },
     "execution_count": 5,
     "metadata": {},
     "output_type": "execute_result"
    }
   ],
   "source": [
    "esc"
   ]
  },
  {
   "cell_type": "code",
   "execution_count": null,
   "id": "05717175",
   "metadata": {},
   "outputs": [],
   "source": []
  },
  {
   "cell_type": "markdown",
   "id": "3c43b102",
   "metadata": {},
   "source": [
    "### Q.2) What do the escape characters n and t stand for?"
   ]
  },
  {
   "cell_type": "code",
   "execution_count": null,
   "id": "3d5ce119",
   "metadata": {},
   "outputs": [],
   "source": [
    "\"\"\"\n",
    "Ans.2) \\n stands for new line\n",
    "       \\t stands for tab\n",
    "\"\"\""
   ]
  },
  {
   "cell_type": "code",
   "execution_count": 26,
   "id": "6001709d",
   "metadata": {},
   "outputs": [
    {
     "name": "stdout",
     "output_type": "stream",
     "text": [
      "iNeuron\n",
      "FSDS\n"
     ]
    }
   ],
   "source": [
    "newline = \"iNeuron\\nFSDS\"\n",
    "print(newline)"
   ]
  },
  {
   "cell_type": "code",
   "execution_count": 25,
   "id": "380513c6",
   "metadata": {},
   "outputs": [
    {
     "name": "stdout",
     "output_type": "stream",
     "text": [
      "iNeuron\t\tFSDS\n"
     ]
    }
   ],
   "source": [
    "tab = \"iNeuron\\t\\tFSDS\"\n",
    "print(tab)"
   ]
  },
  {
   "cell_type": "code",
   "execution_count": null,
   "id": "d48a13b4",
   "metadata": {},
   "outputs": [],
   "source": []
  },
  {
   "cell_type": "markdown",
   "id": "536539e2",
   "metadata": {},
   "source": [
    "### Q.3) What is the way to include backslash characters in a string?"
   ]
  },
  {
   "cell_type": "code",
   "execution_count": null,
   "id": "eaa9c27f",
   "metadata": {},
   "outputs": [],
   "source": [
    "\"\"\"\n",
    "Ans.3) We can use or include backslash in a string by using escape character i.e \\\\\n",
    "\"\"\""
   ]
  },
  {
   "cell_type": "code",
   "execution_count": 27,
   "id": "66ef7216",
   "metadata": {},
   "outputs": [
    {
     "name": "stdout",
     "output_type": "stream",
     "text": [
      "iNeuron\\FSDS\n"
     ]
    }
   ],
   "source": [
    "backslash = \"iNeuron\\\\FSDS\"\n",
    "print(backslash)"
   ]
  },
  {
   "cell_type": "code",
   "execution_count": null,
   "id": "7b605e4f",
   "metadata": {},
   "outputs": [],
   "source": []
  },
  {
   "cell_type": "markdown",
   "id": "11fa7aeb",
   "metadata": {},
   "source": [
    "### Q.4) The string \"Howl's Moving Castle\" is a correct value. Why isn't the single quote character in the word    Howl's not escaped a problem?"
   ]
  },
  {
   "cell_type": "code",
   "execution_count": null,
   "id": "eed9d7c7",
   "metadata": {},
   "outputs": [],
   "source": [
    "\"\"\"\n",
    "\n",
    "Ans.4) The single quote in Howl's is fine because we’ve used double quotes to mark the beginning and end of the string.\n",
    "It would have been problem if we enclosed the string in single quote then in that case we need to use escape character i.e \\\n",
    "\"\"\""
   ]
  },
  {
   "cell_type": "code",
   "execution_count": 37,
   "id": "a5ca2d2c",
   "metadata": {},
   "outputs": [
    {
     "name": "stdout",
     "output_type": "stream",
     "text": [
      "Howl's Moving Castle\n"
     ]
    }
   ],
   "source": [
    "string = \"Howl\\'s Moving Castle\"\n",
    "print(string)"
   ]
  },
  {
   "cell_type": "code",
   "execution_count": 38,
   "id": "5d6631bf",
   "metadata": {},
   "outputs": [
    {
     "ename": "SyntaxError",
     "evalue": "invalid syntax (Temp/ipykernel_18308/388960930.py, line 1)",
     "output_type": "error",
     "traceback": [
      "\u001b[1;36m  File \u001b[1;32m\"C:\\Users\\tanat\\AppData\\Local\\Temp/ipykernel_18308/388960930.py\"\u001b[1;36m, line \u001b[1;32m1\u001b[0m\n\u001b[1;33m    string = 'Howl's Moving Castle'\u001b[0m\n\u001b[1;37m                   ^\u001b[0m\n\u001b[1;31mSyntaxError\u001b[0m\u001b[1;31m:\u001b[0m invalid syntax\n"
     ]
    }
   ],
   "source": [
    "string = 'Howl's Moving Castle'\n",
    "print(string)"
   ]
  },
  {
   "cell_type": "code",
   "execution_count": 39,
   "id": "37d95071",
   "metadata": {},
   "outputs": [
    {
     "name": "stdout",
     "output_type": "stream",
     "text": [
      "Howl's Moving Castle\n"
     ]
    }
   ],
   "source": [
    "string = 'Howl\\'s Moving Castle' # Here using escape character\n",
    "print(string)"
   ]
  },
  {
   "cell_type": "code",
   "execution_count": null,
   "id": "e9dc3a57",
   "metadata": {},
   "outputs": [],
   "source": []
  },
  {
   "cell_type": "markdown",
   "id": "30474b09",
   "metadata": {},
   "source": [
    "### Q.5) How do you write a string of newlines if you don't want to use the n character?"
   ]
  },
  {
   "cell_type": "code",
   "execution_count": null,
   "id": "d78f53c8",
   "metadata": {},
   "outputs": [],
   "source": [
    "\"\"\"\n",
    "Ans.5) By default, print statements add a new line character \"behind the scenes\" at the end of the string.\n",
    "print(*objects, end = '\\n'). So we can use print statements to use a newline without using \\n escape character.\n",
    "\"\"\""
   ]
  },
  {
   "cell_type": "code",
   "execution_count": null,
   "id": "13a678fd",
   "metadata": {},
   "outputs": [],
   "source": []
  },
  {
   "cell_type": "markdown",
   "id": "bd405b42",
   "metadata": {},
   "source": [
    "### Q.6) What are the values of the given expressions?\n",
    "\n",
    "'Hello, world!'[1]\n",
    "\n",
    "'Hello, world!'[0:5]\n",
    "\n",
    "'Hello, world!'[:5]\n",
    "\n",
    "'Hello, world!'[3:]\n"
   ]
  },
  {
   "cell_type": "code",
   "execution_count": null,
   "id": "d248474b",
   "metadata": {},
   "outputs": [],
   "source": [
    "\"\"\"\n",
    "Ans.6) These all are slicing operations. we can return a range of characters by using the slice syntax.\n",
    "Specify the start index and the end index, separated by a colon, to return a part of the string. e.g [start:end]\n",
    "end position is not included.\n",
    "\n",
    "The expressions evaluate to the following:\n",
    "\"\"\""
   ]
  },
  {
   "cell_type": "code",
   "execution_count": 41,
   "id": "046b2de2",
   "metadata": {},
   "outputs": [
    {
     "data": {
      "text/plain": [
       "'e'"
      ]
     },
     "execution_count": 41,
     "metadata": {},
     "output_type": "execute_result"
    }
   ],
   "source": [
    "'Hello, world!'[1]"
   ]
  },
  {
   "cell_type": "code",
   "execution_count": 42,
   "id": "4746f0ab",
   "metadata": {},
   "outputs": [
    {
     "data": {
      "text/plain": [
       "'Hello'"
      ]
     },
     "execution_count": 42,
     "metadata": {},
     "output_type": "execute_result"
    }
   ],
   "source": [
    "'Hello, world!'[0:5]"
   ]
  },
  {
   "cell_type": "code",
   "execution_count": 43,
   "id": "da079a23",
   "metadata": {},
   "outputs": [
    {
     "data": {
      "text/plain": [
       "'Hello'"
      ]
     },
     "execution_count": 43,
     "metadata": {},
     "output_type": "execute_result"
    }
   ],
   "source": [
    "'Hello, world!'[:5]"
   ]
  },
  {
   "cell_type": "code",
   "execution_count": 44,
   "id": "933ebb35",
   "metadata": {},
   "outputs": [
    {
     "data": {
      "text/plain": [
       "'lo, world!'"
      ]
     },
     "execution_count": 44,
     "metadata": {},
     "output_type": "execute_result"
    }
   ],
   "source": [
    "'Hello, world!'[3:]"
   ]
  },
  {
   "cell_type": "code",
   "execution_count": null,
   "id": "07807927",
   "metadata": {},
   "outputs": [],
   "source": []
  },
  {
   "cell_type": "markdown",
   "id": "67460e48",
   "metadata": {},
   "source": [
    "### Q.7) What are the values of the following expressions?\n",
    "\n",
    "'Hello'.upper()\n",
    "\n",
    "'Hello'.upper().isupper()\n",
    "\n",
    "'Hello'.upper().lower()\n"
   ]
  },
  {
   "cell_type": "code",
   "execution_count": null,
   "id": "e4c81efe",
   "metadata": {},
   "outputs": [],
   "source": [
    "# Ans.7) The expressions evaluate to the following:"
   ]
  },
  {
   "cell_type": "code",
   "execution_count": 50,
   "id": "8ddfa92b",
   "metadata": {},
   "outputs": [
    {
     "data": {
      "text/plain": [
       "'HELLO'"
      ]
     },
     "execution_count": 50,
     "metadata": {},
     "output_type": "execute_result"
    }
   ],
   "source": [
    "'Hello'.upper()"
   ]
  },
  {
   "cell_type": "code",
   "execution_count": 51,
   "id": "b6e3910e",
   "metadata": {},
   "outputs": [
    {
     "data": {
      "text/plain": [
       "True"
      ]
     },
     "execution_count": 51,
     "metadata": {},
     "output_type": "execute_result"
    }
   ],
   "source": [
    "'Hello'.upper().isupper()"
   ]
  },
  {
   "cell_type": "code",
   "execution_count": 52,
   "id": "796a5b70",
   "metadata": {},
   "outputs": [
    {
     "data": {
      "text/plain": [
       "'hello'"
      ]
     },
     "execution_count": 52,
     "metadata": {},
     "output_type": "execute_result"
    }
   ],
   "source": [
    "'Hello'.upper().lower()"
   ]
  },
  {
   "cell_type": "code",
   "execution_count": null,
   "id": "7e0c72e9",
   "metadata": {},
   "outputs": [],
   "source": []
  },
  {
   "cell_type": "markdown",
   "id": "d62de80d",
   "metadata": {},
   "source": [
    "### Q. 8) What are the values of the following expressions?\n",
    "\n",
    "'Remember, remember, the fifth of July.'.split()\n",
    "\n",
    "'-'.join('There can only one.'.split())\n"
   ]
  },
  {
   "cell_type": "code",
   "execution_count": null,
   "id": "eb9b233f",
   "metadata": {},
   "outputs": [],
   "source": [
    "\"\"\"\n",
    "Ans.8) This is splitting and joining operations that will return list of items.\n",
    "The expressions evaluate to the following:\n",
    "\"\"\""
   ]
  },
  {
   "cell_type": "code",
   "execution_count": 53,
   "id": "36243ca3",
   "metadata": {},
   "outputs": [
    {
     "data": {
      "text/plain": [
       "['Remember,', 'remember,', 'the', 'fifth', 'of', 'July.']"
      ]
     },
     "execution_count": 53,
     "metadata": {},
     "output_type": "execute_result"
    }
   ],
   "source": [
    "'Remember, remember, the fifth of July.'.split()"
   ]
  },
  {
   "cell_type": "code",
   "execution_count": 54,
   "id": "72c42457",
   "metadata": {},
   "outputs": [
    {
     "data": {
      "text/plain": [
       "'There-can-only-one.'"
      ]
     },
     "execution_count": 54,
     "metadata": {},
     "output_type": "execute_result"
    }
   ],
   "source": [
    "'-'.join('There can only one.'.split())"
   ]
  },
  {
   "cell_type": "code",
   "execution_count": null,
   "id": "9a220f8b",
   "metadata": {},
   "outputs": [],
   "source": []
  },
  {
   "cell_type": "markdown",
   "id": "0cae0b7b",
   "metadata": {},
   "source": [
    "### Q.9) What are the methods for right-justifying, left-justifying, and centering a string?"
   ]
  },
  {
   "cell_type": "code",
   "execution_count": null,
   "id": "eeab7403",
   "metadata": {},
   "outputs": [],
   "source": [
    "\"\"\"\n",
    "Ans.9) right-justifying, left-justifying, and centering a string are used for String alignment.\n",
    "string.ljust( len, fillchr )  syntax for left-justifying\n",
    "string.rjust(len, fillchr)  syntax for right-justifying\n",
    "string.center(len, fillchr) syntax for centering\n",
    "\n",
    "Here fillchr (optional): The character to fill in remaining space.\n",
    "and len is length of the string including the fillchr if any\n",
    "\"\"\""
   ]
  },
  {
   "cell_type": "code",
   "execution_count": 55,
   "id": "f5fdc58e",
   "metadata": {},
   "outputs": [],
   "source": [
    "string = \"iNeuron FSDS course\""
   ]
  },
  {
   "cell_type": "code",
   "execution_count": 62,
   "id": "d3255f00",
   "metadata": {},
   "outputs": [
    {
     "name": "stdout",
     "output_type": "stream",
     "text": [
      "The left aligned string is : \n",
      "iNeuron FSDS course*******************************\n"
     ]
    }
   ],
   "source": [
    "print (\"The left aligned string is : \")\n",
    "print(string.ljust(50,'*'))"
   ]
  },
  {
   "cell_type": "code",
   "execution_count": 64,
   "id": "a424bac5",
   "metadata": {},
   "outputs": [
    {
     "name": "stdout",
     "output_type": "stream",
     "text": [
      "The right aligned string is : \n",
      "*******************************iNeuron FSDS course\n"
     ]
    }
   ],
   "source": [
    "print (\"The right aligned string is : \")\n",
    "print(string.rjust(50,'*'))"
   ]
  },
  {
   "cell_type": "code",
   "execution_count": 65,
   "id": "88e5e8f9",
   "metadata": {},
   "outputs": [
    {
     "name": "stdout",
     "output_type": "stream",
     "text": [
      "The right aligned string is : \n",
      "***************iNeuron FSDS course****************\n"
     ]
    }
   ],
   "source": [
    "print (\"The right aligned string is : \")\n",
    "print(string.center(50,'*'))"
   ]
  },
  {
   "cell_type": "code",
   "execution_count": null,
   "id": "0379e1db",
   "metadata": {},
   "outputs": [],
   "source": []
  },
  {
   "cell_type": "markdown",
   "id": "d4c25e9e",
   "metadata": {},
   "source": [
    "### Q.10) What is the best way to remove whitespace characters from the start or end?"
   ]
  },
  {
   "cell_type": "code",
   "execution_count": null,
   "id": "6f0a5c33",
   "metadata": {},
   "outputs": [],
   "source": [
    "\"\"\"\n",
    "Ans.10) The best way to remove the whitespaces characters from the start or end is possible by using \n",
    "rstrip(), lstrip() and strip() methods in Python. These three functions do the same thing, but there is a \n",
    "slight difference between these three functions.\n",
    "\n",
    "Note that these three methods do not remove empty spaces between the strings and are usually used where\n",
    "the input is taken from the user.\n",
    "\n",
    "rstrip() method removes whitespace at the end of a string.\n",
    "lstrip() method removes whitespace at the beginning of a string.\n",
    "strip() method removes whitespace at the beginning and end (both sides) of a string.\n",
    "\n",
    "\n",
    "\"\"\""
   ]
  },
  {
   "cell_type": "code",
   "execution_count": 68,
   "id": "4cf256c5",
   "metadata": {},
   "outputs": [],
   "source": [
    "string = \"    iNeuron FSDS       \""
   ]
  },
  {
   "cell_type": "code",
   "execution_count": 69,
   "id": "c25851e5",
   "metadata": {},
   "outputs": [
    {
     "data": {
      "text/plain": [
       "'iNeuron FSDS       '"
      ]
     },
     "execution_count": 69,
     "metadata": {},
     "output_type": "execute_result"
    }
   ],
   "source": [
    "string.lstrip()"
   ]
  },
  {
   "cell_type": "code",
   "execution_count": 70,
   "id": "7f7c79f5",
   "metadata": {},
   "outputs": [
    {
     "data": {
      "text/plain": [
       "'    iNeuron FSDS'"
      ]
     },
     "execution_count": 70,
     "metadata": {},
     "output_type": "execute_result"
    }
   ],
   "source": [
    "string.rstrip()"
   ]
  },
  {
   "cell_type": "code",
   "execution_count": 71,
   "id": "b8357b66",
   "metadata": {},
   "outputs": [
    {
     "data": {
      "text/plain": [
       "'iNeuron FSDS'"
      ]
     },
     "execution_count": 71,
     "metadata": {},
     "output_type": "execute_result"
    }
   ],
   "source": [
    "string.strip()"
   ]
  },
  {
   "cell_type": "code",
   "execution_count": null,
   "id": "b1dd1d9e",
   "metadata": {},
   "outputs": [],
   "source": []
  }
 ],
 "metadata": {
  "kernelspec": {
   "display_name": "Python 3 (ipykernel)",
   "language": "python",
   "name": "python3"
  },
  "language_info": {
   "codemirror_mode": {
    "name": "ipython",
    "version": 3
   },
   "file_extension": ".py",
   "mimetype": "text/x-python",
   "name": "python",
   "nbconvert_exporter": "python",
   "pygments_lexer": "ipython3",
   "version": "3.9.7"
  }
 },
 "nbformat": 4,
 "nbformat_minor": 5
}
