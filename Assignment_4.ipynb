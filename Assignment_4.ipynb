{
 "cells": [
  {
   "cell_type": "markdown",
   "id": "07f8ee8b",
   "metadata": {},
   "source": [
    "Q. 1. What exactly is [] ?"
   ]
  },
  {
   "cell_type": "code",
   "execution_count": 4,
   "id": "7de55fbb",
   "metadata": {},
   "outputs": [
    {
     "data": {
      "text/plain": [
       "'\\nAns(1)\\n[]  is an empty list'"
      ]
     },
     "execution_count": 4,
     "metadata": {},
     "output_type": "execute_result"
    }
   ],
   "source": [
    "\"\"\"\n",
    "Ans(1)\n",
    "[]  is an empty list\"\"\""
   ]
  },
  {
   "cell_type": "code",
   "execution_count": null,
   "id": "22c8ca83",
   "metadata": {},
   "outputs": [],
   "source": []
  },
  {
   "cell_type": "markdown",
   "id": "ebc6bf32",
   "metadata": {},
   "source": [
    "Q.2. In a list of values stored in a variable called spam, how would you assign the value 'hello' as the third value? (Assume [2, 4, 6, 8, 10] are in spam.)"
   ]
  },
  {
   "cell_type": "code",
   "execution_count": 19,
   "id": "c462a723",
   "metadata": {},
   "outputs": [
    {
     "name": "stdout",
     "output_type": "stream",
     "text": [
      "[2, 4, 'hello', 8, 10]\n"
     ]
    }
   ],
   "source": [
    "#Ans(2)\n",
    "spam = [2,4,6,8,10]\n",
    "spam[2] = \"hello\"\n",
    "print(spam)"
   ]
  },
  {
   "cell_type": "code",
   "execution_count": null,
   "id": "12c37f17",
   "metadata": {},
   "outputs": [],
   "source": []
  },
  {
   "cell_type": "code",
   "execution_count": 25,
   "id": "4ad9994c",
   "metadata": {},
   "outputs": [],
   "source": [
    "spam = ['a','b','c','d'] # for the next three questions"
   ]
  },
  {
   "cell_type": "markdown",
   "id": "49e48452",
   "metadata": {},
   "source": [
    "Q.3 What is the value of spam[int(int('3' * 2) / 11)]?"
   ]
  },
  {
   "cell_type": "code",
   "execution_count": 21,
   "id": "98b93c75",
   "metadata": {},
   "outputs": [
    {
     "data": {
      "text/plain": [
       "'d'"
      ]
     },
     "execution_count": 21,
     "metadata": {},
     "output_type": "execute_result"
    }
   ],
   "source": [
    "#Ans (3)\n",
    "spam[int(int('3' * 2) / 11)]"
   ]
  },
  {
   "cell_type": "code",
   "execution_count": null,
   "id": "84ac0a9a",
   "metadata": {},
   "outputs": [],
   "source": []
  },
  {
   "cell_type": "markdown",
   "id": "9688fc4f",
   "metadata": {},
   "source": [
    "Q.4. What is the value of spam[-1]?"
   ]
  },
  {
   "cell_type": "code",
   "execution_count": 22,
   "id": "d3c80535",
   "metadata": {},
   "outputs": [
    {
     "data": {
      "text/plain": [
       "'d'"
      ]
     },
     "execution_count": 22,
     "metadata": {},
     "output_type": "execute_result"
    }
   ],
   "source": [
    "#Ans(4)\n",
    "spam[-1]"
   ]
  },
  {
   "cell_type": "code",
   "execution_count": null,
   "id": "2678d0b5",
   "metadata": {},
   "outputs": [],
   "source": []
  },
  {
   "cell_type": "markdown",
   "id": "a5274339",
   "metadata": {},
   "source": [
    "Q.5. What is the value of spam[:2]?"
   ]
  },
  {
   "cell_type": "code",
   "execution_count": 24,
   "id": "dddcce53",
   "metadata": {},
   "outputs": [
    {
     "data": {
      "text/plain": [
       "['a', 'b']"
      ]
     },
     "execution_count": 24,
     "metadata": {},
     "output_type": "execute_result"
    }
   ],
   "source": [
    "#Ans(5)\n",
    "spam[:2]  #\"It will go upto index 1 . i.e 0,1 only exluding outer limit\""
   ]
  },
  {
   "cell_type": "code",
   "execution_count": null,
   "id": "553cd6c7",
   "metadata": {},
   "outputs": [],
   "source": []
  },
  {
   "cell_type": "code",
   "execution_count": 26,
   "id": "2e70e3e1",
   "metadata": {},
   "outputs": [],
   "source": [
    "bacon = [3.14, 'cat' , 11 , 'cat' , True] # for next three questions"
   ]
  },
  {
   "cell_type": "markdown",
   "id": "bfbada83",
   "metadata": {},
   "source": [
    "Q.6. What is the value of bacon.index('cat')?"
   ]
  },
  {
   "cell_type": "code",
   "execution_count": 27,
   "id": "81b637d4",
   "metadata": {},
   "outputs": [
    {
     "data": {
      "text/plain": [
       "1"
      ]
     },
     "execution_count": 27,
     "metadata": {},
     "output_type": "execute_result"
    }
   ],
   "source": [
    "#Ans(6)\n",
    "bacon.index('cat')"
   ]
  },
  {
   "cell_type": "code",
   "execution_count": null,
   "id": "4a3942ee",
   "metadata": {},
   "outputs": [],
   "source": []
  },
  {
   "cell_type": "markdown",
   "id": "b8bf3b50",
   "metadata": {},
   "source": [
    "Q.7. How does bacon.append(99) change the look of the list value in bacon?"
   ]
  },
  {
   "cell_type": "code",
   "execution_count": 34,
   "id": "66d0f006",
   "metadata": {},
   "outputs": [
    {
     "name": "stdout",
     "output_type": "stream",
     "text": [
      "[3.14, 'cat', 11, 'cat', True, 99]\n"
     ]
    }
   ],
   "source": [
    "#Ans(7)\n",
    "bacon.append(99)\n",
    "print(bacon)"
   ]
  },
  {
   "cell_type": "code",
   "execution_count": null,
   "id": "39a7d578",
   "metadata": {},
   "outputs": [],
   "source": []
  },
  {
   "cell_type": "markdown",
   "id": "1741f189",
   "metadata": {},
   "source": [
    "Q.8. How does bacon.remove('cat') change the look of the list in bacon?"
   ]
  },
  {
   "cell_type": "code",
   "execution_count": 35,
   "id": "80dab67e",
   "metadata": {},
   "outputs": [],
   "source": [
    "#Ans(8)\n",
    "bacon.remove('cat')"
   ]
  },
  {
   "cell_type": "code",
   "execution_count": 36,
   "id": "63221e55",
   "metadata": {},
   "outputs": [
    {
     "name": "stdout",
     "output_type": "stream",
     "text": [
      "[3.14, 11, 'cat', True, 99]\n"
     ]
    }
   ],
   "source": [
    "print(bacon)"
   ]
  },
  {
   "cell_type": "code",
   "execution_count": null,
   "id": "ca9c8713",
   "metadata": {},
   "outputs": [],
   "source": []
  },
  {
   "cell_type": "markdown",
   "id": "cc369ad5",
   "metadata": {},
   "source": [
    "Q.9. What are the list concatenation and list replication operators?"
   ]
  },
  {
   "cell_type": "code",
   "execution_count": 37,
   "id": "36e3b2d0",
   "metadata": {},
   "outputs": [
    {
     "data": {
      "text/plain": [
       "'List concatenation is done by using operator + ,Concatenation is supported by sequence data types(string, list, tuple). Concatenation is done between the same data types only.\\nwhile the list replication is done by using operator * , The repetition operator * will make multiple copies of that particular object and combines them together. When * is used \\nwith an integer it performs multiplication but with list, tuple or strings it performs a repetition.\\n'"
      ]
     },
     "execution_count": 37,
     "metadata": {},
     "output_type": "execute_result"
    }
   ],
   "source": [
    "#Ans(9)\n",
    "\"\"\"List concatenation is done by using operator + ,Concatenation is supported by sequence data types(string, list, tuple). Concatenation is done between the same data types only.\n",
    "while the list replication is done by using operator * , The repetition operator * will make multiple copies of that particular object and combines them together. When * is used \n",
    "with an integer it performs multiplication but with list, tuple or strings it performs a repetition.\n",
    "\"\"\"\n"
   ]
  },
  {
   "cell_type": "code",
   "execution_count": 40,
   "id": "e25e077d",
   "metadata": {},
   "outputs": [],
   "source": [
    "#e.g of list concatenation\n",
    "l1 = [1,3,34,5,6]\n",
    "l2 = [4,5,6,7]\n",
    "l = l1+l2"
   ]
  },
  {
   "cell_type": "code",
   "execution_count": 41,
   "id": "3fd0bc98",
   "metadata": {},
   "outputs": [
    {
     "data": {
      "text/plain": [
       "[1, 3, 34, 5, 6, 4, 5, 6, 7]"
      ]
     },
     "execution_count": 41,
     "metadata": {},
     "output_type": "execute_result"
    }
   ],
   "source": [
    "l"
   ]
  },
  {
   "cell_type": "code",
   "execution_count": 43,
   "id": "6a6fba0d",
   "metadata": {},
   "outputs": [],
   "source": [
    "#e.g of list replicaion\n",
    "l1 = [3,5,7,8]\n",
    "l = l1*3"
   ]
  },
  {
   "cell_type": "code",
   "execution_count": 44,
   "id": "aed1d742",
   "metadata": {},
   "outputs": [
    {
     "data": {
      "text/plain": [
       "[3, 5, 7, 8, 3, 5, 7, 8, 3, 5, 7, 8]"
      ]
     },
     "execution_count": 44,
     "metadata": {},
     "output_type": "execute_result"
    }
   ],
   "source": [
    "l"
   ]
  },
  {
   "cell_type": "code",
   "execution_count": null,
   "id": "5366a7b7",
   "metadata": {},
   "outputs": [],
   "source": []
  },
  {
   "cell_type": "markdown",
   "id": "607f04b0",
   "metadata": {},
   "source": [
    "Q.10. What is difference between the list methods append() and insert()?"
   ]
  },
  {
   "cell_type": "code",
   "execution_count": 46,
   "id": "cda1e6dc",
   "metadata": {},
   "outputs": [
    {
     "data": {
      "text/plain": [
       "'\\nAns.(10)\\nappend() will add values or object only to the end of a list, while insert() can add them anywhere in the list at the given index\\nlist.insert(index, obj).\\n'"
      ]
     },
     "execution_count": 46,
     "metadata": {},
     "output_type": "execute_result"
    }
   ],
   "source": [
    "\"\"\"\n",
    "Ans.(10)\n",
    "append() will add values or object only to the end of a list, while insert() can add them anywhere in the list at the given index\n",
    "list.insert(index, obj).\n",
    "\"\"\""
   ]
  },
  {
   "cell_type": "code",
   "execution_count": 48,
   "id": "684da7de",
   "metadata": {},
   "outputs": [],
   "source": [
    "#e.g\n",
    "l = [3,4,5,6,7]\n",
    "l.insert(2, 333333)"
   ]
  },
  {
   "cell_type": "code",
   "execution_count": 49,
   "id": "eb05fb50",
   "metadata": {},
   "outputs": [
    {
     "data": {
      "text/plain": [
       "[3, 4, 333333, 5, 6, 7]"
      ]
     },
     "execution_count": 49,
     "metadata": {},
     "output_type": "execute_result"
    }
   ],
   "source": [
    "l"
   ]
  },
  {
   "cell_type": "code",
   "execution_count": 50,
   "id": "1eb133f5",
   "metadata": {},
   "outputs": [],
   "source": [
    "l.append(9999)"
   ]
  },
  {
   "cell_type": "code",
   "execution_count": 51,
   "id": "4356f6ea",
   "metadata": {},
   "outputs": [
    {
     "data": {
      "text/plain": [
       "[3, 4, 333333, 5, 6, 7, 9999]"
      ]
     },
     "execution_count": 51,
     "metadata": {},
     "output_type": "execute_result"
    }
   ],
   "source": [
    "l"
   ]
  },
  {
   "cell_type": "code",
   "execution_count": null,
   "id": "64b3b318",
   "metadata": {},
   "outputs": [],
   "source": []
  },
  {
   "cell_type": "markdown",
   "id": "f519047b",
   "metadata": {},
   "source": [
    "11. What are the two methods for removing items from a list?"
   ]
  },
  {
   "cell_type": "code",
   "execution_count": 52,
   "id": "1bfbe93b",
   "metadata": {},
   "outputs": [
    {
     "data": {
      "text/plain": [
       "'\\nAns.(11)\\nThe remove () method removes the specified item:\\nThe pop () method removes the specified index, (or the last item if index is not specified):\\nThe del keyword can delete the list completely:\\n'"
      ]
     },
     "execution_count": 52,
     "metadata": {},
     "output_type": "execute_result"
    }
   ],
   "source": [
    "\"\"\"\n",
    "Ans.(11)\n",
    "The remove () method removes the specified item:\n",
    "The pop () method removes the specified index, (or the last item if index is not specified):\n",
    "The del keyword can delete the list completely:\n",
    "\"\"\""
   ]
  },
  {
   "cell_type": "code",
   "execution_count": null,
   "id": "efd8b6f1",
   "metadata": {},
   "outputs": [],
   "source": []
  },
  {
   "cell_type": "markdown",
   "id": "63300592",
   "metadata": {},
   "source": [
    "Q.12. Describe how list values and string values are identical."
   ]
  },
  {
   "cell_type": "code",
   "execution_count": 60,
   "id": "133f10be",
   "metadata": {},
   "outputs": [
    {
     "data": {
      "text/plain": [
       "'\\nAns.(12)\\nList values and string values are indentical in sense that some functions\\ncan be applicable for both . For e.g The count () is a built-in function in Python. \\nIt will return us the count of a given element in a list or a string. Similarly \\nindexing operation can also be performed for both string and list values. Both list\\nand string values  can be passed in to len() function.\\n\\n'"
      ]
     },
     "execution_count": 60,
     "metadata": {},
     "output_type": "execute_result"
    }
   ],
   "source": [
    "\"\"\"\n",
    "Ans.(12)\n",
    "List values and string values are indentical in sense that some functions are\n",
    "applicable for both . For e.g The count () is a built-in function in Python. \n",
    "It will return us the count of a given element in a list or a string. Similarly \n",
    "indexing operation can also be performed for both string and list values. Both list\n",
    "and string values  can be passed in to len() function.\n",
    "\n",
    "\"\"\""
   ]
  },
  {
   "cell_type": "code",
   "execution_count": null,
   "id": "a0cf71e1",
   "metadata": {},
   "outputs": [],
   "source": []
  },
  {
   "cell_type": "markdown",
   "id": "7fcf60ff",
   "metadata": {},
   "source": [
    "Q.13. What's the difference between tuples and lists?"
   ]
  },
  {
   "cell_type": "code",
   "execution_count": 2,
   "id": "fdd2471b",
   "metadata": {
    "scrolled": true
   },
   "outputs": [
    {
     "data": {
      "text/plain": [
       "'\\nAns.(13)\\na) Lists are mutable , whereas Tuples are immutable\\n\\nb) Implication of iterations is Time-consuming , whereas the implication of iterations is comparatively Faster.\\n\\nc) The list is better for performing operations, such as insertion and deletion, whereas Tuple data type is \\n   appropriate for accessing the elements.\\n   \\nd) Lists consume more memory, whereas tuple consume less memory as compared to the list.\\n\\ne) Lists have several built-in methods, whereas Tuple does not have many built-in methods as compared to list.\\n\\nf) The unexpected changes and errors are more likely to occur in list , whereas in tuple, it is hard to take place.\\n'"
      ]
     },
     "execution_count": 2,
     "metadata": {},
     "output_type": "execute_result"
    }
   ],
   "source": [
    "\"\"\"\n",
    "Ans.(13)\n",
    "a) Lists are mutable , whereas Tuples are immutable\n",
    "\n",
    "b) Implication of iterations is Time-consuming , whereas the implication of iterations is comparatively Faster.\n",
    "\n",
    "c) The list is better for performing operations, such as insertion and deletion, whereas Tuple data type is \n",
    "   appropriate for accessing the elements.\n",
    "   \n",
    "d) Lists consume more memory, whereas tuple consume less memory as compared to the list.\n",
    "\n",
    "e) Lists have several built-in methods, whereas Tuple does not have many built-in methods as compared to list.\n",
    "\n",
    "f) The unexpected changes and errors are more likely to occur in list , whereas in tuple, it is hard to take place.\n",
    "\"\"\""
   ]
  },
  {
   "cell_type": "code",
   "execution_count": null,
   "id": "bd464d46",
   "metadata": {},
   "outputs": [],
   "source": []
  },
  {
   "cell_type": "markdown",
   "id": "099df9ba",
   "metadata": {},
   "source": [
    "Q.14. How do you type a tuple value that only contains the integer   42?"
   ]
  },
  {
   "cell_type": "code",
   "execution_count": 7,
   "id": "4f27149e",
   "metadata": {},
   "outputs": [],
   "source": [
    "#Ans.(14)\n",
    "t = (42,)  # By putting single comma after item we can create tuple with single item"
   ]
  },
  {
   "cell_type": "code",
   "execution_count": 8,
   "id": "7d55aefe",
   "metadata": {
    "scrolled": true
   },
   "outputs": [
    {
     "data": {
      "text/plain": [
       "tuple"
      ]
     },
     "execution_count": 8,
     "metadata": {},
     "output_type": "execute_result"
    }
   ],
   "source": [
    "type(t)"
   ]
  },
  {
   "cell_type": "code",
   "execution_count": null,
   "id": "322055a9",
   "metadata": {},
   "outputs": [],
   "source": []
  },
  {
   "cell_type": "markdown",
   "id": "8e131738",
   "metadata": {},
   "source": [
    "Q.15. How do you get a list value's tuple form? How do you get a     tuple value's list form?"
   ]
  },
  {
   "cell_type": "code",
   "execution_count": 14,
   "id": "f9c78fa3",
   "metadata": {},
   "outputs": [],
   "source": [
    "#15.\n",
    "#We can get the required result by type casting .See the bewlow example\n",
    "l = [1,2,3,4,\"tan\"] # list()\n",
    "t = (2,6,7,\"tan\",7,8,9) # tuple()"
   ]
  },
  {
   "cell_type": "code",
   "execution_count": 10,
   "id": "03bee785",
   "metadata": {},
   "outputs": [
    {
     "data": {
      "text/plain": [
       "(1, 2, 3, 4, 'tan')"
      ]
     },
     "execution_count": 10,
     "metadata": {},
     "output_type": "execute_result"
    }
   ],
   "source": [
    "tuple(l)"
   ]
  },
  {
   "cell_type": "code",
   "execution_count": 11,
   "id": "1744e7fa",
   "metadata": {},
   "outputs": [
    {
     "data": {
      "text/plain": [
       "[2, 6, 7, 'tan', 7, 8, 9]"
      ]
     },
     "execution_count": 11,
     "metadata": {},
     "output_type": "execute_result"
    }
   ],
   "source": [
    "list(t)"
   ]
  },
  {
   "cell_type": "code",
   "execution_count": null,
   "id": "e97a5500",
   "metadata": {},
   "outputs": [],
   "source": []
  },
  {
   "cell_type": "markdown",
   "id": "f91f1ebf",
   "metadata": {},
   "source": [
    "Q.16. Variables that \"contain\" list values are not necessarily        lists themselves. Instead, what do they contain?"
   ]
  },
  {
   "cell_type": "code",
   "execution_count": 15,
   "id": "34d26e5b",
   "metadata": {},
   "outputs": [],
   "source": [
    "#Ans.(16)\n",
    "# They contain references to list values."
   ]
  },
  {
   "cell_type": "code",
   "execution_count": null,
   "id": "d2ce4bda",
   "metadata": {},
   "outputs": [],
   "source": []
  },
  {
   "cell_type": "markdown",
   "id": "f6065e3b",
   "metadata": {},
   "source": [
    "Q.17. How do you distinguish between copy.copy() and                     copy.deepcopy()?"
   ]
  },
  {
   "cell_type": "code",
   "execution_count": 17,
   "id": "1dfb1f46",
   "metadata": {},
   "outputs": [
    {
     "data": {
      "text/plain": [
       "'\\nAns.(17)\\nIn Python, there are two ways to create copies : In order to make \\nthese copy, we use copy module. We use copy module for shallow and \\ndeep copy operations.\\nThe copy.copy() function will do a shallow copy of a list, while the\\ncopy.deepcopy() function will do a deep copy of a list. That is, \\nonly copy.deepcopy() will duplicate any lists inside the list.\\n'"
      ]
     },
     "execution_count": 17,
     "metadata": {},
     "output_type": "execute_result"
    }
   ],
   "source": [
    "\"\"\"\n",
    "Ans.(17)\n",
    "In Python, there are two ways to create copies : In order to make \n",
    "these copy, we use copy module. We use copy module for shallow and \n",
    "deep copy operations.\n",
    "The copy.copy() function will do a shallow copy of a list, while the\n",
    "copy.deepcopy() function will do a deep copy of a list. That is, \n",
    "only copy.deepcopy() will duplicate any lists inside the list.\n",
    "\"\"\""
   ]
  },
  {
   "cell_type": "code",
   "execution_count": 24,
   "id": "5778241f",
   "metadata": {},
   "outputs": [
    {
     "name": "stdout",
     "output_type": "stream",
     "text": [
      "l1 = [[3, 4, 5], [8, 9, 6]]\n",
      "l2 = [[3, 4, 5], [8, 9, 6]]\n"
     ]
    }
   ],
   "source": [
    "#e.g of Shallow copy\n",
    "import copy\n",
    "l1 = [[3,4,5], [8,9,6] ]\n",
    "\n",
    "l2 =  copy.copy(l1)\n",
    "print('l1 =' ,l1)\n",
    "print('l2 =' ,l2)"
   ]
  },
  {
   "cell_type": "code",
   "execution_count": 29,
   "id": "fa4e4f32",
   "metadata": {},
   "outputs": [
    {
     "name": "stdout",
     "output_type": "stream",
     "text": [
      "l1 = [[3, 4, 'tan'], [8, 9, 6]]\n",
      "l2 = [[3, 4, 5], [8, 9, 6]]\n"
     ]
    }
   ],
   "source": [
    "#if we change something in the old list l1 then it will\n",
    "# reflect in the new one list l2\n",
    "l1[0][2] = \"tan\"\n",
    "print('l1 =' ,l1)\n",
    "print('l2 =' ,l2)"
   ]
  },
  {
   "cell_type": "code",
   "execution_count": 30,
   "id": "8b06bd92",
   "metadata": {},
   "outputs": [
    {
     "name": "stdout",
     "output_type": "stream",
     "text": [
      "l1 = [[3, 4, 5], [8, 9, 6]]\n",
      "l2 = [[3, 4, 5], [8, 9, 6]]\n"
     ]
    }
   ],
   "source": [
    "#e.g of deep copy\n",
    "import copy\n",
    "l1 = [[3,4,5], [8,9,6] ]\n",
    "\n",
    "l2 =  copy.deepcopy(l1)\n",
    "print('l1 =' ,l1)\n",
    "print('l2 =' ,l2)"
   ]
  },
  {
   "cell_type": "code",
   "execution_count": 31,
   "id": "014c8e2f",
   "metadata": {},
   "outputs": [],
   "source": [
    "#However if we change any value in nested old list\n",
    "#then it wont be reflected in the new one l2\n"
   ]
  },
  {
   "cell_type": "code",
   "execution_count": 32,
   "id": "b637fbf1",
   "metadata": {},
   "outputs": [
    {
     "name": "stdout",
     "output_type": "stream",
     "text": [
      "l1 = [[3, 4, 'tan'], [8, 9, 6]]\n",
      "l2 = [[3, 4, 5], [8, 9, 6]]\n"
     ]
    }
   ],
   "source": [
    "l1[0][2] = \"tan\"\n",
    "print('l1 =' ,l1)\n",
    "print('l2 =' ,l2)"
   ]
  },
  {
   "cell_type": "code",
   "execution_count": null,
   "id": "47d44d2c",
   "metadata": {},
   "outputs": [],
   "source": []
  },
  {
   "cell_type": "code",
   "execution_count": null,
   "id": "e8cbfe03",
   "metadata": {},
   "outputs": [],
   "source": []
  },
  {
   "cell_type": "code",
   "execution_count": null,
   "id": "96ca54c1",
   "metadata": {},
   "outputs": [],
   "source": []
  },
  {
   "cell_type": "code",
   "execution_count": null,
   "id": "965aca6b",
   "metadata": {},
   "outputs": [],
   "source": []
  },
  {
   "cell_type": "code",
   "execution_count": null,
   "id": "001a802d",
   "metadata": {},
   "outputs": [],
   "source": []
  },
  {
   "cell_type": "code",
   "execution_count": null,
   "id": "f1059620",
   "metadata": {},
   "outputs": [],
   "source": []
  },
  {
   "cell_type": "code",
   "execution_count": null,
   "id": "9ed50318",
   "metadata": {},
   "outputs": [],
   "source": []
  },
  {
   "cell_type": "code",
   "execution_count": null,
   "id": "edb2b8e9",
   "metadata": {},
   "outputs": [],
   "source": []
  },
  {
   "cell_type": "code",
   "execution_count": null,
   "id": "7b54a00a",
   "metadata": {},
   "outputs": [],
   "source": []
  },
  {
   "cell_type": "code",
   "execution_count": null,
   "id": "3266d64c",
   "metadata": {},
   "outputs": [],
   "source": []
  },
  {
   "cell_type": "code",
   "execution_count": null,
   "id": "1fd9736c",
   "metadata": {},
   "outputs": [],
   "source": []
  },
  {
   "cell_type": "code",
   "execution_count": null,
   "id": "94f107b7",
   "metadata": {},
   "outputs": [],
   "source": []
  },
  {
   "cell_type": "code",
   "execution_count": null,
   "id": "6ef0a0c2",
   "metadata": {},
   "outputs": [],
   "source": []
  },
  {
   "cell_type": "code",
   "execution_count": null,
   "id": "14d4b0b7",
   "metadata": {},
   "outputs": [],
   "source": []
  },
  {
   "cell_type": "code",
   "execution_count": null,
   "id": "b53dfc2e",
   "metadata": {},
   "outputs": [],
   "source": []
  },
  {
   "cell_type": "code",
   "execution_count": null,
   "id": "533d7ea5",
   "metadata": {},
   "outputs": [],
   "source": []
  },
  {
   "cell_type": "code",
   "execution_count": null,
   "id": "7fe66894",
   "metadata": {},
   "outputs": [],
   "source": []
  },
  {
   "cell_type": "code",
   "execution_count": null,
   "id": "36450dbb",
   "metadata": {},
   "outputs": [],
   "source": []
  },
  {
   "cell_type": "code",
   "execution_count": null,
   "id": "00a70a52",
   "metadata": {},
   "outputs": [],
   "source": []
  },
  {
   "cell_type": "code",
   "execution_count": null,
   "id": "fbd7fb29",
   "metadata": {},
   "outputs": [],
   "source": []
  },
  {
   "cell_type": "code",
   "execution_count": null,
   "id": "b4ae4427",
   "metadata": {},
   "outputs": [],
   "source": []
  },
  {
   "cell_type": "code",
   "execution_count": null,
   "id": "d39a8062",
   "metadata": {},
   "outputs": [],
   "source": []
  },
  {
   "cell_type": "code",
   "execution_count": null,
   "id": "cec43530",
   "metadata": {},
   "outputs": [],
   "source": []
  },
  {
   "cell_type": "code",
   "execution_count": null,
   "id": "bf27cdbe",
   "metadata": {},
   "outputs": [],
   "source": []
  },
  {
   "cell_type": "code",
   "execution_count": null,
   "id": "ead34f2b",
   "metadata": {},
   "outputs": [],
   "source": []
  },
  {
   "cell_type": "code",
   "execution_count": null,
   "id": "dee65754",
   "metadata": {},
   "outputs": [],
   "source": []
  },
  {
   "cell_type": "code",
   "execution_count": null,
   "id": "2ae1c8ae",
   "metadata": {},
   "outputs": [],
   "source": []
  },
  {
   "cell_type": "code",
   "execution_count": null,
   "id": "835b6f57",
   "metadata": {},
   "outputs": [],
   "source": []
  }
 ],
 "metadata": {
  "kernelspec": {
   "display_name": "Python 3 (ipykernel)",
   "language": "python",
   "name": "python3"
  },
  "language_info": {
   "codemirror_mode": {
    "name": "ipython",
    "version": 3
   },
   "file_extension": ".py",
   "mimetype": "text/x-python",
   "name": "python",
   "nbconvert_exporter": "python",
   "pygments_lexer": "ipython3",
   "version": "3.9.7"
  }
 },
 "nbformat": 4,
 "nbformat_minor": 5
}
