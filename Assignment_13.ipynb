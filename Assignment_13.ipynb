{
 "cells": [
  {
   "cell_type": "markdown",
   "id": "86bb43bd",
   "metadata": {},
   "source": [
    "1. What advantages do Excel spreadsheets have over CSV spreadsheets?\n",
    "2. What do you pass to csv.reader() and csv.writer() to create reader and writer objects?\n",
    "3. What modes do File objects for reader and writer objects need to be opened in?\n",
    "4. What method takes a list argument and writes it to a CSV file?\n",
    "5. What do the keyword arguments delimiter and line terminator do?\n",
    "6. What function takes a string of JSON data and returns a Python data structure?\n",
    "7. What function takes a Python data structure and returns a string of JSON data?\n"
   ]
  },
  {
   "cell_type": "markdown",
   "id": "70ddf9b1",
   "metadata": {},
   "source": [
    "### 1. What advantages do Excel spreadsheets have over CSV spreadsheets?"
   ]
  },
  {
   "cell_type": "markdown",
   "id": "b6c666ca",
   "metadata": {},
   "source": [
    "    Ans.1) Following are the advantages of the excel over csv :\n",
    "    \n",
    "    - csv files don’t have types for their values—everything is a string.\n",
    "    \n",
    "    - csv files don’t have settings for font size or color.\n",
    "    \n",
    "    - csv don’t have multiple worksheets.\n",
    "    \n",
    "    - In csv can’t specify cell widths and heights.\n",
    "     \n",
    "    - csv can’t have merged cells.\n",
    "    \n",
    "    - csv can’t have images or charts embedded in them\n",
    "    \n",
    "    \n",
    "    - An Excel not only stores data but can also do operations on the data. While A CSV file is just a text file, it stores data but does not contain formatting, formulas, macros, etc. It is also known as flat files.\n",
    "    \n",
    "    - In data-warehouse, Excel is preferable for detailed standardized schema specification. In data-warehouse, CSV follows a fairly flat, simple schema.\n",
    "    \n",
    "    -Reading large files user is much easier in Excel for the end user. Also, we can have additional functions like selecting individual cells for import, convert dates and time automatically, reading formulas and their results, filters, sorting, etc. Reading large files in CSV will not be as easier as Excel for the End User\n",
    "    \n",
    "    - Apart from text, data can also be stored in form of charts and graphs in excel spreadsheet unlike csv/\n",
    "    \n",
    "    - Excel can connect to external data sources to fetch data. we can use custom add-in in Excel to increase its functionality. All this functionality is not possible in CSV.\n",
    "    \n",
    " "
   ]
  },
  {
   "cell_type": "code",
   "execution_count": null,
   "id": "1d8e726f",
   "metadata": {},
   "outputs": [],
   "source": []
  },
  {
   "cell_type": "markdown",
   "id": "c8241209",
   "metadata": {},
   "source": [
    "### 2. What do you pass to csv.reader() and csv.writer() to create reader and writer objects?"
   ]
  },
  {
   "cell_type": "markdown",
   "id": "6b8eebfa",
   "metadata": {},
   "source": [
    "    Ans.2) We don’t pass a filename string directly to the csv.reader() and csv.writer() functions. We pass \n",
    "    the File object."
   ]
  },
  {
   "cell_type": "code",
   "execution_count": 5,
   "id": "e75e5ea8",
   "metadata": {
    "scrolled": true
   },
   "outputs": [
    {
     "data": {
      "text/plain": [
       "[['CustomerID',\n",
       "  'Genre',\n",
       "  'Age',\n",
       "  'Annual Income (k$)',\n",
       "  'Spending Score (1-100)'],\n",
       " ['0001', 'Male', '19', '15', '39'],\n",
       " ['0002', 'Male', '21', '15', '81'],\n",
       " ['0003', 'Female', '20', '16', '6'],\n",
       " ['0004', 'Female', '23', '16', '77'],\n",
       " ['0005', 'Female', '31', '17', '40'],\n",
       " ['0006', 'Female', '22', '17', '76'],\n",
       " ['0007', 'Female', '35', '18', '6'],\n",
       " ['0008', 'Female', '23', '18', '94'],\n",
       " ['0009', 'Male', '64', '19', '3'],\n",
       " ['0010', 'Female', '30', '19', '72'],\n",
       " ['0011', 'Male', '67', '19', '14'],\n",
       " ['0012', 'Female', '35', '19', '99'],\n",
       " ['0013', 'Female', '58', '20', '15'],\n",
       " ['0014', 'Female', '24', '20', '77'],\n",
       " ['0015', 'Male', '37', '20', '13'],\n",
       " ['0016', 'Male', '22', '20', '79'],\n",
       " ['0017', 'Female', '35', '21', '35'],\n",
       " ['0018', 'Male', '20', '21', '66'],\n",
       " ['0019', 'Male', '52', '23', '29'],\n",
       " ['0020', 'Female', '35', '23', '98'],\n",
       " ['0021', 'Male', '35', '24', '35'],\n",
       " ['0022', 'Male', '25', '24', '73'],\n",
       " ['0023', 'Female', '46', '25', '5'],\n",
       " ['0024', 'Male', '31', '25', '73'],\n",
       " ['0025', 'Female', '54', '28', '14'],\n",
       " ['0026', 'Male', '29', '28', '82'],\n",
       " ['0027', 'Female', '45', '28', '32'],\n",
       " ['0028', 'Male', '35', '28', '61'],\n",
       " ['0029', 'Female', '40', '29', '31'],\n",
       " ['0030', 'Female', '23', '29', '87'],\n",
       " ['0031', 'Male', '60', '30', '4'],\n",
       " ['0032', 'Female', '21', '30', '73'],\n",
       " ['0033', 'Male', '53', '33', '4'],\n",
       " ['0034', 'Male', '18', '33', '92'],\n",
       " ['0035', 'Female', '49', '33', '14'],\n",
       " ['0036', 'Female', '21', '33', '81'],\n",
       " ['0037', 'Female', '42', '34', '17'],\n",
       " ['0038', 'Female', '30', '34', '73'],\n",
       " ['0039', 'Female', '36', '37', '26'],\n",
       " ['0040', 'Female', '20', '37', '75'],\n",
       " ['0041', 'Female', '65', '38', '35'],\n",
       " ['0042', 'Male', '24', '38', '92'],\n",
       " ['0043', 'Male', '48', '39', '36'],\n",
       " ['0044', 'Female', '31', '39', '61'],\n",
       " ['0045', 'Female', '49', '39', '28'],\n",
       " ['0046', 'Female', '24', '39', '65'],\n",
       " ['0047', 'Female', '50', '40', '55'],\n",
       " ['0048', 'Female', '27', '40', '47'],\n",
       " ['0049', 'Female', '29', '40', '42'],\n",
       " ['0050', 'Female', '31', '40', '42'],\n",
       " ['0051', 'Female', '49', '42', '52'],\n",
       " ['0052', 'Male', '33', '42', '60'],\n",
       " ['0053', 'Female', '31', '43', '54'],\n",
       " ['0054', 'Male', '59', '43', '60'],\n",
       " ['0055', 'Female', '50', '43', '45'],\n",
       " ['0056', 'Male', '47', '43', '41'],\n",
       " ['0057', 'Female', '51', '44', '50'],\n",
       " ['0058', 'Male', '69', '44', '46'],\n",
       " ['0059', 'Female', '27', '46', '51'],\n",
       " ['0060', 'Male', '53', '46', '46'],\n",
       " ['0061', 'Male', '70', '46', '56'],\n",
       " ['0062', 'Male', '19', '46', '55'],\n",
       " ['0063', 'Female', '67', '47', '52'],\n",
       " ['0064', 'Female', '54', '47', '59'],\n",
       " ['0065', 'Male', '63', '48', '51'],\n",
       " ['0066', 'Male', '18', '48', '59'],\n",
       " ['0067', 'Female', '43', '48', '50'],\n",
       " ['0068', 'Female', '68', '48', '48'],\n",
       " ['0069', 'Male', '19', '48', '59'],\n",
       " ['0070', 'Female', '32', '48', '47'],\n",
       " ['0071', 'Male', '70', '49', '55'],\n",
       " ['0072', 'Female', '47', '49', '42'],\n",
       " ['0073', 'Female', '60', '50', '49'],\n",
       " ['0074', 'Female', '60', '50', '56'],\n",
       " ['0075', 'Male', '59', '54', '47'],\n",
       " ['0076', 'Male', '26', '54', '54'],\n",
       " ['0077', 'Female', '45', '54', '53'],\n",
       " ['0078', 'Male', '40', '54', '48'],\n",
       " ['0079', 'Female', '23', '54', '52'],\n",
       " ['0080', 'Female', '49', '54', '42'],\n",
       " ['0081', 'Male', '57', '54', '51'],\n",
       " ['0082', 'Male', '38', '54', '55'],\n",
       " ['0083', 'Male', '67', '54', '41'],\n",
       " ['0084', 'Female', '46', '54', '44'],\n",
       " ['0085', 'Female', '21', '54', '57'],\n",
       " ['0086', 'Male', '48', '54', '46'],\n",
       " ['0087', 'Female', '55', '57', '58'],\n",
       " ['0088', 'Female', '22', '57', '55'],\n",
       " ['0089', 'Female', '34', '58', '60'],\n",
       " ['0090', 'Female', '50', '58', '46'],\n",
       " ['0091', 'Female', '68', '59', '55'],\n",
       " ['0092', 'Male', '18', '59', '41'],\n",
       " ['0093', 'Male', '48', '60', '49'],\n",
       " ['0094', 'Female', '40', '60', '40'],\n",
       " ['0095', 'Female', '32', '60', '42'],\n",
       " ['0096', 'Male', '24', '60', '52'],\n",
       " ['0097', 'Female', '47', '60', '47'],\n",
       " ['0098', 'Female', '27', '60', '50'],\n",
       " ['0099', 'Male', '48', '61', '42'],\n",
       " ['0100', 'Male', '20', '61', '49'],\n",
       " ['0101', 'Female', '23', '62', '41'],\n",
       " ['0102', 'Female', '49', '62', '48'],\n",
       " ['0103', 'Male', '67', '62', '59'],\n",
       " ['0104', 'Male', '26', '62', '55'],\n",
       " ['0105', 'Male', '49', '62', '56'],\n",
       " ['0106', 'Female', '21', '62', '42'],\n",
       " ['0107', 'Female', '66', '63', '50'],\n",
       " ['0108', 'Male', '54', '63', '46'],\n",
       " ['0109', 'Male', '68', '63', '43'],\n",
       " ['0110', 'Male', '66', '63', '48'],\n",
       " ['0111', 'Male', '65', '63', '52'],\n",
       " ['0112', 'Female', '19', '63', '54'],\n",
       " ['0113', 'Female', '38', '64', '42'],\n",
       " ['0114', 'Male', '19', '64', '46'],\n",
       " ['0115', 'Female', '18', '65', '48'],\n",
       " ['0116', 'Female', '19', '65', '50'],\n",
       " ['0117', 'Female', '63', '65', '43'],\n",
       " ['0118', 'Female', '49', '65', '59'],\n",
       " ['0119', 'Female', '51', '67', '43'],\n",
       " ['0120', 'Female', '50', '67', '57'],\n",
       " ['0121', 'Male', '27', '67', '56'],\n",
       " ['0122', 'Female', '38', '67', '40'],\n",
       " ['0123', 'Female', '40', '69', '58'],\n",
       " ['0124', 'Male', '39', '69', '91'],\n",
       " ['0125', 'Female', '23', '70', '29'],\n",
       " ['0126', 'Female', '31', '70', '77'],\n",
       " ['0127', 'Male', '43', '71', '35'],\n",
       " ['0128', 'Male', '40', '71', '95'],\n",
       " ['0129', 'Male', '59', '71', '11'],\n",
       " ['0130', 'Male', '38', '71', '75'],\n",
       " ['0131', 'Male', '47', '71', '9'],\n",
       " ['0132', 'Male', '39', '71', '75'],\n",
       " ['0133', 'Female', '25', '72', '34'],\n",
       " ['0134', 'Female', '31', '72', '71'],\n",
       " ['0135', 'Male', '20', '73', '5'],\n",
       " ['0136', 'Female', '29', '73', '88'],\n",
       " ['0137', 'Female', '44', '73', '7'],\n",
       " ['0138', 'Male', '32', '73', '73'],\n",
       " ['0139', 'Male', '19', '74', '10'],\n",
       " ['0140', 'Female', '35', '74', '72'],\n",
       " ['0141', 'Female', '57', '75', '5'],\n",
       " ['0142', 'Male', '32', '75', '93'],\n",
       " ['0143', 'Female', '28', '76', '40'],\n",
       " ['0144', 'Female', '32', '76', '87'],\n",
       " ['0145', 'Male', '25', '77', '12'],\n",
       " ['0146', 'Male', '28', '77', '97'],\n",
       " ['0147', 'Male', '48', '77', '36'],\n",
       " ['0148', 'Female', '32', '77', '74'],\n",
       " ['0149', 'Female', '34', '78', '22'],\n",
       " ['0150', 'Male', '34', '78', '90'],\n",
       " ['0151', 'Male', '43', '78', '17'],\n",
       " ['0152', 'Male', '39', '78', '88'],\n",
       " ['0153', 'Female', '44', '78', '20'],\n",
       " ['0154', 'Female', '38', '78', '76'],\n",
       " ['0155', 'Female', '47', '78', '16'],\n",
       " ['0156', 'Female', '27', '78', '89'],\n",
       " ['0157', 'Male', '37', '78', '1'],\n",
       " ['0158', 'Female', '30', '78', '78'],\n",
       " ['0159', 'Male', '34', '78', '1'],\n",
       " ['0160', 'Female', '30', '78', '73'],\n",
       " ['0161', 'Female', '56', '79', '35'],\n",
       " ['0162', 'Female', '29', '79', '83'],\n",
       " ['0163', 'Male', '19', '81', '5'],\n",
       " ['0164', 'Female', '31', '81', '93'],\n",
       " ['0165', 'Male', '50', '85', '26'],\n",
       " ['0166', 'Female', '36', '85', '75'],\n",
       " ['0167', 'Male', '42', '86', '20'],\n",
       " ['0168', 'Female', '33', '86', '95'],\n",
       " ['0169', 'Female', '36', '87', '27'],\n",
       " ['0170', 'Male', '32', '87', '63'],\n",
       " ['0171', 'Male', '40', '87', '13'],\n",
       " ['0172', 'Male', '28', '87', '75'],\n",
       " ['0173', 'Male', '36', '87', '10'],\n",
       " ['0174', 'Male', '36', '87', '92'],\n",
       " ['0175', 'Female', '52', '88', '13'],\n",
       " ['0176', 'Female', '30', '88', '86'],\n",
       " ['0177', 'Male', '58', '88', '15'],\n",
       " ['0178', 'Male', '27', '88', '69'],\n",
       " ['0179', 'Male', '59', '93', '14'],\n",
       " ['0180', 'Male', '35', '93', '90'],\n",
       " ['0181', 'Female', '37', '97', '32'],\n",
       " ['0182', 'Female', '32', '97', '86'],\n",
       " ['0183', 'Male', '46', '98', '15'],\n",
       " ['0184', 'Female', '29', '98', '88'],\n",
       " ['0185', 'Female', '41', '99', '39'],\n",
       " ['0186', 'Male', '30', '99', '97'],\n",
       " ['0187', 'Female', '54', '101', '24'],\n",
       " ['0188', 'Male', '28', '101', '68'],\n",
       " ['0189', 'Female', '41', '103', '17'],\n",
       " ['0190', 'Female', '36', '103', '85'],\n",
       " ['0191', 'Female', '34', '103', '23'],\n",
       " ['0192', 'Female', '32', '103', '69'],\n",
       " ['0193', 'Male', '33', '113', '8'],\n",
       " ['0194', 'Female', '38', '113', '91'],\n",
       " ['0195', 'Female', '47', '120', '16'],\n",
       " ['0196', 'Female', '35', '120', '79'],\n",
       " ['0197', 'Female', '45', '126', '28'],\n",
       " ['0198', 'Male', '32', '126', '74'],\n",
       " ['0199', 'Male', '32', '137', '18'],\n",
       " ['0200', 'Male', '30', '137', '83']]"
      ]
     },
     "execution_count": 5,
     "metadata": {},
     "output_type": "execute_result"
    }
   ],
   "source": [
    "import csv\n",
    "exampleFile = open('example.csv', mode ='r')  # File object\n",
    "exampleReader = csv.reader(exampleFile)\n",
    "exampleData = list(exampleReader)\n",
    "exampleData"
   ]
  },
  {
   "cell_type": "markdown",
   "id": "dc25edf0",
   "metadata": {},
   "source": [
    "    In above example we have the CSV file as a list of lists, we can access the value at a particular row and column with the expression exampleData[row][col], where row is the index of one of the lists in exampleData, and col is the index of the item you want from that list"
   ]
  },
  {
   "cell_type": "code",
   "execution_count": 3,
   "id": "fd7ca616",
   "metadata": {},
   "outputs": [
    {
     "data": {
      "text/plain": [
       "'CustomerID'"
      ]
     },
     "execution_count": 3,
     "metadata": {},
     "output_type": "execute_result"
    }
   ],
   "source": [
    "exampleData[0][0]"
   ]
  },
  {
   "cell_type": "code",
   "execution_count": null,
   "id": "3521babc",
   "metadata": {},
   "outputs": [],
   "source": []
  },
  {
   "cell_type": "markdown",
   "id": "012e7c19",
   "metadata": {},
   "source": [
    "### 3. What modes do File objects for reader and writer objects need to be opened in?"
   ]
  },
  {
   "cell_type": "markdown",
   "id": "10790a1c",
   "metadata": {},
   "source": [
    "    Ans.3) For reader - read mode \"r\"\n",
    "           For write - write mode \"w\""
   ]
  },
  {
   "cell_type": "code",
   "execution_count": 6,
   "id": "760a4177",
   "metadata": {},
   "outputs": [],
   "source": [
    "#Example of read mode \"r\" already shown above . Lets see example of write mode \"w\"\n",
    "\n",
    "# Python program to demonstrate\n",
    "# writing to CSV\n",
    "  \n",
    "import csv \n",
    "    \n",
    "# field names \n",
    "fields = ['Name', 'Branch', 'Year', 'CGPA'] \n",
    "    \n",
    "# data rows of csv file \n",
    "rows = [ ['Nikhil', 'COE', '2', '9.0'], \n",
    "         ['Sanchit', 'COE', '2', '9.1'], \n",
    "         ['Aditya', 'IT', '2', '9.3'], \n",
    "         ['Sagar', 'SE', '1', '9.5'], \n",
    "         ['Prateek', 'MCE', '3', '7.8'], \n",
    "         ['Sahil', 'EP', '2', '9.1']] \n",
    "    \n",
    "# name of csv file \n",
    "filename = \"output_WRITEMODE.csv\"\n",
    "    \n",
    "# writing to csv file \n",
    "with open(filename, 'w') as csvfile: \n",
    "    # creating a csv writer object \n",
    "    csvwriter = csv.writer(csvfile) \n",
    "        \n",
    "    # writing the fields \n",
    "    csvwriter.writerow(fields) \n",
    "        \n",
    "    # writing the data rows \n",
    "    csvwriter.writerows(rows)"
   ]
  },
  {
   "cell_type": "code",
   "execution_count": null,
   "id": "4ae174a5",
   "metadata": {},
   "outputs": [],
   "source": []
  },
  {
   "cell_type": "markdown",
   "id": "2923b1ae",
   "metadata": {},
   "source": [
    "### 4. What method takes a list argument and writes it to a CSV file?"
   ]
  },
  {
   "cell_type": "code",
   "execution_count": 7,
   "id": "58958583",
   "metadata": {},
   "outputs": [],
   "source": [
    "salary = [['Alice', 'Data Scientist', 122000],\n",
    "          ['Bob', 'Engineer', 77000],\n",
    "          ['Ann', 'Manager', 119000]]\n",
    "\n",
    "import csv\n",
    "with open('List_to_CSV.csv', 'w', newline='') as f:\n",
    "    writer = csv.writer(f)\n",
    "    writer.writerows(salary)"
   ]
  },
  {
   "cell_type": "code",
   "execution_count": 8,
   "id": "e9b31c25",
   "metadata": {},
   "outputs": [
    {
     "data": {
      "text/plain": [
       "[['Alice', 'Data Scientist', '122000'],\n",
       " ['Bob', 'Engineer', '77000'],\n",
       " ['Ann', 'Manager', '119000']]"
      ]
     },
     "execution_count": 8,
     "metadata": {},
     "output_type": "execute_result"
    }
   ],
   "source": [
    "readfile = open('List_to_CSV.csv', \"r\")\n",
    "reader = csv.reader(readfile)\n",
    "output = list(reader)\n",
    "output"
   ]
  },
  {
   "cell_type": "code",
   "execution_count": 9,
   "id": "0ebc2461",
   "metadata": {},
   "outputs": [
    {
     "data": {
      "text/html": [
       "<div>\n",
       "<style scoped>\n",
       "    .dataframe tbody tr th:only-of-type {\n",
       "        vertical-align: middle;\n",
       "    }\n",
       "\n",
       "    .dataframe tbody tr th {\n",
       "        vertical-align: top;\n",
       "    }\n",
       "\n",
       "    .dataframe thead th {\n",
       "        text-align: right;\n",
       "    }\n",
       "</style>\n",
       "<table border=\"1\" class=\"dataframe\">\n",
       "  <thead>\n",
       "    <tr style=\"text-align: right;\">\n",
       "      <th></th>\n",
       "      <th>Alice</th>\n",
       "      <th>Data Scientist</th>\n",
       "      <th>122000</th>\n",
       "    </tr>\n",
       "  </thead>\n",
       "  <tbody>\n",
       "    <tr>\n",
       "      <th>0</th>\n",
       "      <td>Bob</td>\n",
       "      <td>Engineer</td>\n",
       "      <td>77000</td>\n",
       "    </tr>\n",
       "    <tr>\n",
       "      <th>1</th>\n",
       "      <td>Ann</td>\n",
       "      <td>Manager</td>\n",
       "      <td>119000</td>\n",
       "    </tr>\n",
       "  </tbody>\n",
       "</table>\n",
       "</div>"
      ],
      "text/plain": [
       "  Alice Data Scientist  122000\n",
       "0   Bob       Engineer   77000\n",
       "1   Ann        Manager  119000"
      ]
     },
     "execution_count": 9,
     "metadata": {},
     "output_type": "execute_result"
    }
   ],
   "source": [
    "import pandas as pd\n",
    "pd.read_csv(\"List_to_CSV.csv\")"
   ]
  },
  {
   "cell_type": "code",
   "execution_count": null,
   "id": "328aa62a",
   "metadata": {},
   "outputs": [],
   "source": []
  },
  {
   "cell_type": "markdown",
   "id": "8dd1ebdb",
   "metadata": {},
   "source": [
    "### 5. What do the keyword arguments delimiter and line terminator do?"
   ]
  },
  {
   "cell_type": "markdown",
   "id": "867f9988",
   "metadata": {},
   "source": [
    "    Ans.) The delimiter is the character that appears between cells on a row. By default, the delimiter for a CSV file is a comma. The line terminator is the character that comes at the end of a row. By default, the line terminator is a newline. You can change characters to different values by using the delimiter and lineterminator keyword arguments with csv.writer(). "
   ]
  },
  {
   "cell_type": "code",
   "execution_count": 12,
   "id": "5d4ea02f",
   "metadata": {},
   "outputs": [],
   "source": [
    "import csv\n",
    "csvFile = open('delim_and_linetermin.tsv', 'w', newline='')\n",
    "csvWriter = csv.writer(csvFile, delimiter='\\t', lineterminator='\\n\\n')\n",
    "\n",
    "csvWriter.writerow(['apples', 'oranges', 'grapes'])\n",
    "csvWriter.writerow(['eggs', 'bacon', 'ham'])\n",
    "csvWriter.writerow(['spam', 'spam', 'spam', 'spam', 'spam', 'spam'])\n",
    "\n",
    "csvFile.close()"
   ]
  },
  {
   "cell_type": "markdown",
   "id": "b9c4a363",
   "metadata": {},
   "source": [
    "    Passing delimeter='\\t' and lineterminator='\\n\\n'changes the character between cells to a tab and the character between rows to two newlines. Here our cells are separated by tabs, we’re using the file extension .tsv, for tab-separated values."
   ]
  },
  {
   "cell_type": "code",
   "execution_count": null,
   "id": "205a04f1",
   "metadata": {},
   "outputs": [],
   "source": []
  },
  {
   "cell_type": "markdown",
   "id": "a7aaa38e",
   "metadata": {},
   "source": [
    "### 6. What function takes a Python data structure and returns a string of JSON data?"
   ]
  },
  {
   "cell_type": "markdown",
   "id": "295407ec",
   "metadata": {},
   "source": [
    "    Ans.7) Serialization is the process of converting a native data type to the JSON format.\n",
    "\n",
    "    The JSON module converts a Python dictionary object into a JSON object. The json.dump() and the json.dumps() methods are used to serialize Python data to JSON format.\n",
    "    \n",
    "    "
   ]
  },
  {
   "cell_type": "code",
   "execution_count": 15,
   "id": "abed461d",
   "metadata": {},
   "outputs": [],
   "source": [
    "import json\n",
    "# Data to be written\n",
    "details = {\n",
    "        \"name\": \"T.Raza\",\n",
    "        \"years\": 26,\n",
    "        \"school\": \"iNeuron\"\n",
    "}\n",
    "# Serializing JSON and writing JSON file\n",
    "with open(\"serialised.json\", \"w\") as file_object:\n",
    "    json.dump(details, file_object) "
   ]
  },
  {
   "cell_type": "code",
   "execution_count": null,
   "id": "932ed353",
   "metadata": {},
   "outputs": [],
   "source": []
  },
  {
   "cell_type": "markdown",
   "id": "b902ad2e",
   "metadata": {},
   "source": [
    "### 7. What function takes a string of JSON data and returns a Python data structure?"
   ]
  },
  {
   "cell_type": "markdown",
   "id": "afd1ca3d",
   "metadata": {},
   "source": [
    "    Ans.7) Deserialization is the process of converting JSON data into a native data type. Here, we convert JSON data back to a dictionary in Python.\n",
    "\n",
    "    We use the json.loads() method to deserialize JSON data to a Python object. The json.load() method is also used to deserialize a JSON formatted file to a Python object."
   ]
  },
  {
   "cell_type": "code",
   "execution_count": 20,
   "id": "68e60fce",
   "metadata": {},
   "outputs": [
    {
     "name": "stdout",
     "output_type": "stream",
     "text": [
      "data before deserailizing\n",
      "{\"name\": \"T.Raza\",\"years\": 26,\"school\": \"iNeuron\"}\n",
      "data after deserailizing\n",
      "{'name': 'T.Raza', 'years': 26, 'school': 'iNeuron'}\n"
     ]
    }
   ],
   "source": [
    "# importing the module\n",
    "import json\n",
    "  \n",
    "# creating the JSON data as a string\n",
    "data = '{\"name\": \"T.Raza\",\"years\": 26,\"school\": \"iNeuron\"}'  #Json string\n",
    "print(\"data before deserailizing\")\n",
    "print(data) #json string\n",
    "   \n",
    "# deserailizing the data\n",
    "h = json.loads(data)\n",
    "print(\"data after deserailizing\")\n",
    "print(h) #python dictionary"
   ]
  },
  {
   "cell_type": "code",
   "execution_count": 21,
   "id": "d3655809",
   "metadata": {},
   "outputs": [
    {
     "name": "stdout",
     "output_type": "stream",
     "text": [
      "Datatype before deserialization : \n",
      "<_io.TextIOWrapper name='serialised.json' mode='r' encoding='cp1252'>\n",
      "Datatype after deserialization : \n",
      "{'name': 'T.Raza', 'years': 26, 'school': 'iNeuron'}\n"
     ]
    }
   ],
   "source": [
    "import json\n",
    "# opening the JSON file \n",
    "data = open('serialised.json','r') \n",
    "print(\"Datatype before deserialization : \")\n",
    "print(data) # prints the contents of the file\n",
    "     \n",
    "# deserailizing the data\n",
    "h = json.load(data) \n",
    "print(\"Datatype after deserialization : \")\n",
    "print(h)  # prints a python dictionary"
   ]
  },
  {
   "cell_type": "code",
   "execution_count": null,
   "id": "0c899c06",
   "metadata": {},
   "outputs": [],
   "source": []
  },
  {
   "cell_type": "code",
   "execution_count": null,
   "id": "f96630bb",
   "metadata": {},
   "outputs": [],
   "source": []
  },
  {
   "cell_type": "markdown",
   "id": "c3c5374b",
   "metadata": {},
   "source": [
    "### How JSON and Python Dictionaries Work Together\n",
    "\n",
    "#####   When we work with JSON files in Python, we can't just read them and use the data in our program directly. This is because the entire file would be represented as a single string and we would not be able to access the key-value pairs individually.Unless...\n",
    "##### We use the key-value pairs of the JSON file to create a Python dictionary that we can use in our program to read the data, use it, and modify it (if needed).This is the main connection between JSON and Python Dictionaries. JSON is the string representation of the data and dictionaries are the actual data structures in memory that are created when the program runs.\n",
    "\n",
    "    "
   ]
  },
  {
   "cell_type": "code",
   "execution_count": null,
   "id": "0a2d5b65",
   "metadata": {},
   "outputs": [],
   "source": []
  }
 ],
 "metadata": {
  "kernelspec": {
   "display_name": "Python 3 (ipykernel)",
   "language": "python",
   "name": "python3"
  },
  "language_info": {
   "codemirror_mode": {
    "name": "ipython",
    "version": 3
   },
   "file_extension": ".py",
   "mimetype": "text/x-python",
   "name": "python",
   "nbconvert_exporter": "python",
   "pygments_lexer": "ipython3",
   "version": "3.9.7"
  }
 },
 "nbformat": 4,
 "nbformat_minor": 5
}
