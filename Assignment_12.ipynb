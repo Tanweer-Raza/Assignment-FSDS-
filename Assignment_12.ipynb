{
 "cells": [
  {
   "cell_type": "markdown",
   "id": "177d6ca9",
   "metadata": {},
   "source": [
    "### Q.1. In what modes should the PdfFileReader() and PdfFileWriter() File objects will be opened?"
   ]
  },
  {
   "cell_type": "markdown",
   "id": "366f5986",
   "metadata": {},
   "source": [
    "    Ans.1) PdfFileReader() and PdfFileWriter() File objects will be opened in binary mode: read binary (rb) \n",
    "    mode for PdfFileREader() and write binary(wb) mode for PdfFileWriter()."
   ]
  },
  {
   "cell_type": "code",
   "execution_count": 11,
   "id": "ec7248b1",
   "metadata": {
    "scrolled": false
   },
   "outputs": [
    {
     "name": "stdout",
     "output_type": "stream",
     "text": [
      "Collecting PyPDF2\n",
      "  Downloading PyPDF2-2.10.7-py3-none-any.whl (217 kB)\n",
      "Requirement already satisfied: typing-extensions>=3.10.0.0 in c:\\users\\tanat\\anaconda3\\lib\\site-packages (from PyPDF2) (3.10.0.2)\n",
      "Installing collected packages: PyPDF2\n",
      "Successfully installed PyPDF2-2.10.7\n",
      "Note: you may need to restart the kernel to use updated packages.\n"
     ]
    }
   ],
   "source": [
    "pip install PyPDF2"
   ]
  },
  {
   "cell_type": "markdown",
   "id": "316f9a11",
   "metadata": {},
   "source": [
    "    import PyPDF2\n",
    "    #Reading example 'rb' stands for reading binary\n",
    "    \n",
    "    pdfFileObj = open('Statistics_Simplified.pdf', 'rb') \n",
    "    pdfReader = PyPDF2.PdfFileReader(pdfFileObj)    #PdfFileReader object \n",
    "\n",
    "    #Writing example 'wb' stands for writing binary\n",
    "    \n",
    "    pdfFileObj = open('Statistics_Simplified.pdf', 'wb')         \n",
    "    pdfWrite = PyPDF2.PdfFileWriter(pdfFileObj)    #PdfFileWriter object"
   ]
  },
  {
   "cell_type": "code",
   "execution_count": 3,
   "id": "04cd0f59",
   "metadata": {},
   "outputs": [],
   "source": [
    "import PyPDF2\n",
    "#Reading example 'rb' stands for reading binary\n",
    "pdfFileObj = open('Statistics_Simplified.pdf', 'rb') \n",
    "pdfReader = PyPDF2.PdfFileReader(pdfFileObj)    #PdfFileReader object "
   ]
  },
  {
   "cell_type": "markdown",
   "id": "ede5dddb",
   "metadata": {},
   "source": [
    "### Q. 2. From a PdfFileReader object, how do you get a Page object for page 5?"
   ]
  },
  {
   "cell_type": "markdown",
   "id": "4152fd65",
   "metadata": {},
   "source": [
    "    Ans.2) To extract text from a page, we need to get a Page object, which represents a single page of a PDF,\n",
    "    from a PdfFileReader object. we can get a Page object by calling the getPage() method on a PdfFileReader \n",
    "    object and passing it the page number of the page we’re interested in—in our case, 5.\n",
    "    \n",
    "    refer above example:\n",
    "    \n",
    "    pageObj = pdfReader.getPage(5)\n",
    "    "
   ]
  },
  {
   "cell_type": "code",
   "execution_count": 9,
   "id": "64b9becf",
   "metadata": {},
   "outputs": [
    {
     "data": {
      "text/plain": [
       "' \\n \\n \\nPre-Requisites\\n \\nTo begin with Inferential Statistics, one must have a good grasp over the following concepts:\\n\\xa0\\n1.\\nProbability\\n\\xa0\\n2.\\nBasic knowledge of Probability Distributions\\n\\xa0\\n3.\\nDescriptive Statistics\\n\\xa0\\nIf\\nyou\\nare\\nnot\\ncomfortable\\nwith\\neither\\nof\\nthe\\nthree\\nconcepts\\nmentioned\\nabove,\\nyou\\nmust\\ngo\\nthrough\\nthem\\n\\xa0\\n\\xa0\\n\\xa0\\n\\xa0\\n\\xa0\\n\\xa0\\n\\xa0\\n\\xa0\\n\\xa0\\n\\xa0\\n\\xa0\\n\\xa0\\n\\xa0\\n\\xa0\\n\\xa0\\n\\xa0\\n\\xa0\\n\\xa0\\nbefore proceeding further.\\n\\xa0\\nThroughout\\nthe\\nentire\\narticle,we\\nwill\\nbe\\nusing\\na\\nfew\\nterminologies\\nquite\\noften.\\nSo,\\nhere\\nis\\na\\nbrief\\n\\xa0\\n\\xa0\\n\\xa0\\n\\xa0\\n\\xa0\\n\\xa0\\n\\xa0\\n\\xa0\\n\\xa0\\n\\xa0\\n\\xa0\\n\\xa0\\n\\xa0\\n\\xa0\\n\\xa0\\n\\xa0\\n\\xa0\\ndescription of them:\\n\\xa0\\n●\\n\\u200b\\nStatistic\\n\\u200b\\n–\\nA\\nSingle\\nmeasure\\nof\\nsome\\nattribute\\nof\\na\\nsample.\\nFor\\neg:\\nMean/Median/Mode\\nof\\na\\n \\n\\xa0\\n\\xa0\\n\\xa0\\n\\xa0\\n\\xa0\\n\\xa0\\n\\xa0\\n\\xa0\\n\\xa0\\n\\xa0\\n\\xa0\\n\\xa0\\n\\xa0\\n\\xa0\\n\\xa0\\n\\xa0\\nsample of Data Scientists in Bangalore.\\n\\xa0\\n●\\n\\u200b\\nPopulation\\nStatistic\\n\\u200b\\n–\\nThe\\nstatistic\\nof\\nthe\\nentire\\npopulation\\nin\\ncontext.\\nFor\\neg:\\nPopulation\\n \\n\\xa0\\n\\xa0\\n\\xa0\\n\\xa0\\n\\xa0\\n\\xa0\\n\\xa0\\n\\xa0\\n\\xa0\\n\\xa0\\n\\xa0\\n\\xa0\\n\\xa0\\n\\xa0\\nmean for the salary of the entire population of Data Scientists across India.\\n\\xa0\\n●\\n\\u200b\\nSample\\nStatistic\\n–\\nThe\\nstatistics\\nof\\na\\ngroup\\ntaken\\nfrom\\na\\npopulation.\\nFor\\neg:\\nMean\\nof\\nsalaries\\n \\n\\xa0\\n\\xa0\\n\\xa0\\n\\xa0\\n\\xa0\\n\\xa0\\n\\xa0\\n\\xa0\\n\\xa0\\n\\xa0\\n\\xa0\\n\\xa0\\n\\xa0\\n\\xa0\\n\\xa0\\n\\xa0\\n\\xa0\\nof all Data Scientists in Bangalore.\\n\\xa0\\n●\\n\\u200b\\n        \\n\\u200b\\nStandard Deviation \\u200b\\n– It is the amount of variation in the population data. It is given by σ.\\n\\xa0\\n●\\n\\u200b\\nStandard\\nError\\n\\u200b\\n–\\nIt\\nis\\nthe\\namount\\nof\\nvariation\\nin\\nthe\\nsample\\ndata.\\nIt\\nis\\nrelated\\nto\\nStandard\\n \\n\\xa0\\n\\xa0\\n \\n \\n \\n \\n \\n \\n \\n \\n \\n \\n \\n \\n \\n \\n \\n \\nDeviation as σ/√n, where, n is the sample size.\\n \\n \\n \\n \\n \\n \\n \\n \\n \\n \\n \\n \\n \\n \\n \\n'"
      ]
     },
     "execution_count": 9,
     "metadata": {},
     "output_type": "execute_result"
    }
   ],
   "source": [
    "pageObj = pdfReader.getPage(5)\n",
    "pageObj.extractText()"
   ]
  },
  {
   "cell_type": "markdown",
   "id": "7be683f0",
   "metadata": {},
   "source": [
    "### 3. What PdfFileReader variable stores the number of pages in the PDF document?"
   ]
  },
  {
   "cell_type": "markdown",
   "id": "ab150676",
   "metadata": {},
   "source": [
    "    Ans.3) pdfReader.numPages"
   ]
  },
  {
   "cell_type": "code",
   "execution_count": 10,
   "id": "3f106260",
   "metadata": {},
   "outputs": [
    {
     "data": {
      "text/plain": [
       "30"
      ]
     },
     "execution_count": 10,
     "metadata": {},
     "output_type": "execute_result"
    }
   ],
   "source": [
    "pdfReader.numPages"
   ]
  },
  {
   "cell_type": "code",
   "execution_count": null,
   "id": "fb7cb322",
   "metadata": {},
   "outputs": [],
   "source": []
  },
  {
   "cell_type": "markdown",
   "id": "e37ba3b6",
   "metadata": {},
   "source": [
    "###  4. If a PdfFileReader object’s PDF is encrypted with the password swordfish, what must you do before you can obtain Page objects from it?"
   ]
  },
  {
   "cell_type": "markdown",
   "id": "87df0779",
   "metadata": {},
   "source": [
    "    Ans.4)Some PDF documents have an encryption feature that will keep them from being read until whoever is opening the document provides a password.In that case we must pass password in the following code below,then only after this we will be able to get the page object.\n",
    "    \n",
    "    pdfReader.decrypt('swordfish')\n",
    "    \n",
    "    pageObj = pdfReader.getPage(5) # 5 is page number \n",
    "    \n",
    "    pageObj.extractText()    "
   ]
  },
  {
   "cell_type": "code",
   "execution_count": null,
   "id": "584ca24c",
   "metadata": {},
   "outputs": [],
   "source": [
    "import PyPDF2\n",
    "pdfFileObj = open('encrypted_file.pdf', 'rb') \n",
    "pdfReader = PyPDF2.PdfFileReader(pdfFileObj)  \n",
    "pdfReader.decrypt('swordfish')\n",
    "pageObj = pdfReader.getPage(5) # 5 is page number \n",
    "pageObj.extractText()"
   ]
  },
  {
   "cell_type": "code",
   "execution_count": null,
   "id": "baf923eb",
   "metadata": {},
   "outputs": [],
   "source": []
  },
  {
   "cell_type": "markdown",
   "id": "d3ce9880",
   "metadata": {},
   "source": [
    "###  5. What methods do you use to rotate a page?"
   ]
  },
  {
   "cell_type": "markdown",
   "id": "214a3799",
   "metadata": {},
   "source": [
    "    Ans.5)The pages of a PDF can also be rotated in 90-degree increments with the rotateClockwise() and \n",
    "    rotateCounterClockwise() methods. Pass one of the integers 90, 180, or 270 to these methods.\n",
    "    \n",
    "    we use getPage(5) to select the 5th page of the PDF , and then we call rotateClockwise(90) on that page We write a new PDF with the rotated page and save it as rotatedPage.pdf .The resulting PDF will have one page, rotated 90 degrees clockwise"
   ]
  },
  {
   "cell_type": "code",
   "execution_count": 60,
   "id": "b76d0741",
   "metadata": {},
   "outputs": [],
   "source": [
    "import PyPDF2\n",
    "pdfFileObj = open('Statistics_Simplified.pdf', 'rb') \n",
    "pdfReader = PyPDF2.PdfFileReader(pdfFileObj)\n",
    "pageObj = pdfReader.getPage(5) # 5 is page number. \n",
    "pageObj.rotateClockwise(90)  # page number 5 is rotated by 90 degree here.\n",
    "\n",
    "pdfWriter = PyPDF2.PdfFileWriter()\n",
    "pdfWriter.addPage(pageObj)\n",
    "\n",
    "resultPdfFile = open('rotatedPage.pdf', 'wb')\n",
    "pdfWriter.write(resultPdfFile)\n",
    "resultPdfFile.close()\n",
    "pdfFileObj.close()"
   ]
  },
  {
   "cell_type": "code",
   "execution_count": null,
   "id": "eb5a1e2b",
   "metadata": {},
   "outputs": [],
   "source": []
  },
  {
   "cell_type": "markdown",
   "id": "fa0156e2",
   "metadata": {},
   "source": [
    "###  6. What is the difference between a Run object and a Paragraph object?"
   ]
  },
  {
   "cell_type": "markdown",
   "id": "e770e6b8",
   "metadata": {},
   "source": [
    "    Ans.6)Compared to plaintext, .docx files have a lot of structure. This structure is represented by three different data types in Python-Docx. \n",
    "    \n",
    "    At the highest level, a Document object represents the entire document. The Document object contains a list of Paragraph objects for the paragraphs in the document. (A new paragraph begins whenever the user presses ENTER or RETURN while typing in a Word document.)\n",
    "    \n",
    "    Each of these Paragraph objects contains a list of one or more Run objects. \n",
    "    \n",
    "    The text in a Word document is more than just a string. It has font, size, color, and other styling information associated with it. A style in Word is a collection of these attributes. A Run object is a contiguous run of text with the same style. A new Run object is needed whenever the text style changes."
   ]
  },
  {
   "attachments": {
    "000138.jpg": {
     "image/jpeg": "[encoded data removed]"
    }
   },
   "cell_type": "markdown",
   "id": "986502a0",
   "metadata": {},
   "source": [
    "![000138.jpg](attachment:000138.jpg)\n",
    "\n",
    "The single-sentence paragraph in above Figure has four runs."
   ]
  },
  {
   "cell_type": "code",
   "execution_count": null,
   "id": "57a275bb",
   "metadata": {},
   "outputs": [],
   "source": []
  },
  {
   "cell_type": "markdown",
   "id": "d7a3e2f4",
   "metadata": {},
   "source": [
    "###  7. How do you obtain a list of Paragraph objects for a Document object that’s stored in a variable named doc?"
   ]
  },
  {
   "cell_type": "markdown",
   "id": "a7dc5d89",
   "metadata": {},
   "source": [
    "    Ans.7) If we care only about the text, not the styling information, in the Word document, we can use the getText() function written below. It accepts a filename of a .docx file and returns a single string value of its text. \n",
    "    \n",
    "    The getText() function opens the Word document, loops over all the Paragraph objects in the paragraphs list, and then appends their text to the list in fullText. After the loop, the strings in fullText are joined together with newline characters. Refer below code:"
   ]
  },
  {
   "cell_type": "code",
   "execution_count": 69,
   "id": "191b296b",
   "metadata": {},
   "outputs": [
    {
     "name": "stdout",
     "output_type": "stream",
     "text": [
      "Collecting python-docx\n",
      "  Downloading python-docx-0.8.11.tar.gz (5.6 MB)\n",
      "Requirement already satisfied: lxml>=2.3.2 in c:\\users\\tanat\\anaconda3\\lib\\site-packages (from python-docx) (4.6.3)\n",
      "Building wheels for collected packages: python-docx\n",
      "  Building wheel for python-docx (setup.py): started\n",
      "  Building wheel for python-docx (setup.py): finished with status 'done'\n",
      "  Created wheel for python-docx: filename=python_docx-0.8.11-py3-none-any.whl size=184508 sha256=c56a7bdf287e4e97e161b3c591bccd660322341e5a3664fc6595c1e3bab54825\n",
      "  Stored in directory: c:\\users\\tanat\\appdata\\local\\pip\\cache\\wheels\\83\\8b\\7c\\09ae60c42c7ba4ed2dddaf2b8b9186cb105255856d6ed3dba5\n",
      "Successfully built python-docx\n",
      "Installing collected packages: python-docx\n",
      "Successfully installed python-docx-0.8.11\n",
      "Note: you may need to restart the kernel to use updated packages.\n"
     ]
    }
   ],
   "source": [
    "pip install python-docx\n"
   ]
  },
  {
   "cell_type": "code",
   "execution_count": 89,
   "id": "676a1a35",
   "metadata": {},
   "outputs": [],
   "source": [
    "import docx\n",
    "\n",
    "def getText(filename):\n",
    "    doc = docx.Document(filename)\n",
    "    fullText = []\n",
    "    for para in doc.paragraphs:\n",
    "        fullText.append(para.text)\n",
    "    return '\\n'.join(fullText)"
   ]
  },
  {
   "cell_type": "code",
   "execution_count": 90,
   "id": "08593b8e",
   "metadata": {},
   "outputs": [
    {
     "data": {
      "text/plain": [
       "'This is a word file created with an intention to check and call the function in python \\nWhich will read any word file.\\nThis function is one of the function which is given in the task problems by Sudhanshu sir.\\nHi I am Tanweer . I am new to this coding world.I am learning day by day but its very difficult for me to go through this phase of learning coding as I never been to coding. Although its is tough for me but I am trying. '"
      ]
     },
     "execution_count": 90,
     "metadata": {},
     "output_type": "execute_result"
    }
   ],
   "source": [
    "getText('wordfile.docx')"
   ]
  },
  {
   "cell_type": "markdown",
   "id": "18e30ff8",
   "metadata": {},
   "source": [
    "###  8. What type of object has bold, underline, italic, strike, and outline variables?"
   ]
  },
  {
   "cell_type": "markdown",
   "id": "f1807729",
   "metadata": {},
   "source": [
    "    Ans.8)  A Run object has bold, underline,italic,strike and outline variables"
   ]
  },
  {
   "cell_type": "code",
   "execution_count": null,
   "id": "6d9cf3d5",
   "metadata": {},
   "outputs": [],
   "source": []
  },
  {
   "cell_type": "markdown",
   "id": "6b0db70a",
   "metadata": {},
   "source": [
    "###  9. What is the difference between False, True, and None for the bold variable?"
   ]
  },
  {
   "cell_type": "markdown",
   "id": "7ce14992",
   "metadata": {},
   "source": [
    "    Ans.9) Runs can be styled using text attributes. Each attribute can be set to one of three values:\n",
    "    \n",
    "    True (the attribute is always enabled, no matter what other styles are applied to the run),\n",
    "    \n",
    "    False (the attribute is always disabled),\n",
    "    \n",
    "    None (defaults to whatever the run’s style is set to)\n",
    "\n",
    "    True always makes the Run object bolded and False makes it always bold being disabled, no matter what the style’s bold setting is. None will make the Run object just use the style’s bold setting."
   ]
  },
  {
   "cell_type": "code",
   "execution_count": null,
   "id": "6d514afb",
   "metadata": {},
   "outputs": [],
   "source": []
  },
  {
   "cell_type": "markdown",
   "id": "e5ef9784",
   "metadata": {},
   "source": [
    "###  10. How do you create a Document object for a new Word document?"
   ]
  },
  {
   "cell_type": "markdown",
   "id": "c4768c64",
   "metadata": {},
   "source": [
    "    Ans.10) By Calling the docx.Document() function."
   ]
  },
  {
   "cell_type": "code",
   "execution_count": null,
   "id": "8ada3a87",
   "metadata": {},
   "outputs": [],
   "source": []
  },
  {
   "cell_type": "markdown",
   "id": "0926c302",
   "metadata": {},
   "source": [
    "###  11. How do you add a paragraph with the text 'Hello, there!' to a Document object stored in a variable named doc?"
   ]
  },
  {
   "cell_type": "code",
   "execution_count": 91,
   "id": "a2ad05c3",
   "metadata": {},
   "outputs": [],
   "source": [
    "import docx\n",
    "doc = docx.Document()\n",
    "\n",
    "doc.add_paragraph('Hello there!')\n",
    "doc.save('hellothere.docx')"
   ]
  },
  {
   "cell_type": "code",
   "execution_count": null,
   "id": "8b505c11",
   "metadata": {},
   "outputs": [],
   "source": []
  },
  {
   "cell_type": "markdown",
   "id": "1f5d4c1a",
   "metadata": {},
   "source": [
    "###  12. What integers represent the levels of headings available in Word documents?"
   ]
  },
  {
   "cell_type": "markdown",
   "id": "2af7f842",
   "metadata": {},
   "source": [
    "    Ans.12) Calling add_heading() adds a paragraph with different levels of the heading styles.\n",
    "    \n",
    "    The arguments to add_heading() are a string of the heading text and an integer from 0 to 4. The integer 0 makes the heading the Title style, which is used for the top of the document. Integers 1 to 4 are for various heading levels, with 1 being the main heading and 4 the lowest subheading."
   ]
  },
  {
   "cell_type": "code",
   "execution_count": null,
   "id": "0e913598",
   "metadata": {},
   "outputs": [],
   "source": []
  },
  {
   "cell_type": "code",
   "execution_count": null,
   "id": "370ee846",
   "metadata": {},
   "outputs": [],
   "source": []
  },
  {
   "cell_type": "code",
   "execution_count": null,
   "id": "004d87ba",
   "metadata": {},
   "outputs": [],
   "source": []
  },
  {
   "cell_type": "code",
   "execution_count": null,
   "id": "11fdba9a",
   "metadata": {},
   "outputs": [],
   "source": []
  }
 ],
 "metadata": {
  "kernelspec": {
   "display_name": "Python 3 (ipykernel)",
   "language": "python",
   "name": "python3"
  },
  "language_info": {
   "codemirror_mode": {
    "name": "ipython",
    "version": 3
   },
   "file_extension": ".py",
   "mimetype": "text/x-python",
   "name": "python",
   "nbconvert_exporter": "python",
   "pygments_lexer": "ipython3",
   "version": "3.9.7"
  }
 },
 "nbformat": 4,
 "nbformat_minor": 5
}
