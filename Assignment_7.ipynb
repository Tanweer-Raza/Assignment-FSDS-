{
 "cells": [
  {
   "cell_type": "markdown",
   "id": "0cd6b38a",
   "metadata": {},
   "source": [
    "### Q. 1. What is the name of the feature responsible for generating Regex objects?"
   ]
  },
  {
   "cell_type": "code",
   "execution_count": null,
   "id": "67cab155",
   "metadata": {},
   "outputs": [],
   "source": [
    "\"\"\"\n",
    "Ans.1) \n",
    "A Regular Expressions (RegEx) is a special sequence of characters that uses a search pattern to find a string or set of strings.\n",
    "Python provides a re module that supports the use of regex in Python.\n",
    "The re.compile() function returns Regex objects\n",
    "\"\"\""
   ]
  },
  {
   "cell_type": "code",
   "execution_count": 1,
   "id": "c564ea77",
   "metadata": {},
   "outputs": [
    {
     "name": "stdout",
     "output_type": "stream",
     "text": [
      "<re.Match object; span=(35, 42), match='special'>\n",
      "<re.Match object; span=(143, 150), match='special'>\n",
      "<re.Match object; span=(176, 183), match='special'>\n",
      "<re.Match object; span=(276, 283), match='special'>\n"
     ]
    }
   ],
   "source": [
    "#Example 1\n",
    "import re\n",
    "My_string = \"\"\"A Regular Expressions (RegEx) is a special sequence of characters that uses a search pattern to find a string or set of strings.\n",
    "       Python specialprovides a re module that special supports the use of regex in Python.\n",
    "       The re.compile() function returns Regex objects special\"\"\"\n",
    "\n",
    "Pattern = re.compile(r'special')\n",
    "matches = Pattern.finditer(My_string)\n",
    "for match in matches:\n",
    "    print(match)\n",
    "\n"
   ]
  },
  {
   "cell_type": "code",
   "execution_count": 2,
   "id": "7b791d80",
   "metadata": {},
   "outputs": [
    {
     "name": "stdout",
     "output_type": "stream",
     "text": [
      "['Expression', 'characters', 'specialpro']\n"
     ]
    }
   ],
   "source": [
    "# Example 2\n",
    "Pattern = re.compile(r\"\\w{10}\")   # Return the words with 10 character\n",
    "res = Pattern.findall(My_string)  # findall - Returns a list containing all matches\n",
    "print(res)"
   ]
  },
  {
   "cell_type": "code",
   "execution_count": null,
   "id": "7ffa8e86",
   "metadata": {},
   "outputs": [],
   "source": []
  },
  {
   "cell_type": "markdown",
   "id": "7110b161",
   "metadata": {},
   "source": [
    "### Q. 2. Why do raw strings often appear in Regex objects?"
   ]
  },
  {
   "cell_type": "code",
   "execution_count": null,
   "id": "8aa71477",
   "metadata": {},
   "outputs": [],
   "source": [
    "\"\"\"\n",
    "Ans.2) \n",
    "Raw strings are used so that backslashes \"\\\" do not have to be escaped.\n",
    "Raw string notation (r\"text\") keeps regular expressions meaningful and confusion-free. \n",
    "Without it, every backslash ('\\') in a regular expression would have to be prefixed with \n",
    "another one to escape it.\n",
    "\"\"\""
   ]
  },
  {
   "cell_type": "code",
   "execution_count": 3,
   "id": "17f007c1",
   "metadata": {},
   "outputs": [
    {
     "name": "stdout",
     "output_type": "stream",
     "text": [
      "Result wihtout raw string : None \n",
      "\n",
      "Result with raw string :<re.Match object; span=(1, 2), match='L'> \n",
      "\n",
      "Result with two backslash as it is not a raw string : <re.Match object; span=(1, 2), match='L'>\n"
     ]
    }
   ],
   "source": [
    "# Example\n",
    "import re\n",
    "text = \" Let's go to Haveli \"  # \\b - Returns a match where the specified characters are at the beginning or at the end of a word .here L\n",
    "srch1 = re.search(\"\\bL\",text)  # search - Returns a Match object if there is a match anywhere in the string\n",
    "srch2 = re.search(r\"\\bL\",text)\n",
    "srch3 = re.search(\"\\\\bL\",text)\n",
    "print(f\"Result wihtout raw string : {srch1} \\n\\nResult with raw string :{srch2} \\n\\nResult with two backslash as it is not a raw string : {srch3}\" )\n"
   ]
  },
  {
   "cell_type": "code",
   "execution_count": null,
   "id": "ac4c49dd",
   "metadata": {},
   "outputs": [],
   "source": []
  },
  {
   "cell_type": "markdown",
   "id": "506b7218",
   "metadata": {},
   "source": [
    "### Q.3. What is the return value of the search() method?"
   ]
  },
  {
   "cell_type": "code",
   "execution_count": null,
   "id": "fe0da353",
   "metadata": {},
   "outputs": [],
   "source": [
    "\"\"\"\n",
    "Ans.3)\n",
    "Python re.search() is an inbuilt regex function that searches the string for a match and returns the \n",
    "match object if there is a match. If there is more than one match, only the first occurrence of the \n",
    "match will be returned. If no matches are found, the value None is returned.\n",
    "\"\"\""
   ]
  },
  {
   "cell_type": "code",
   "execution_count": 8,
   "id": "73cd5cf7",
   "metadata": {},
   "outputs": [
    {
     "name": "stdout",
     "output_type": "stream",
     "text": [
      "<re.Match object; span=(7, 8), match=' '>\n",
      "The first white-space character is located in position: 7\n"
     ]
    }
   ],
   "source": [
    "#Example\n",
    "import re\n",
    "txt = \"iNeuron data science\"\n",
    "srch = re.search(\"\\s\", txt)  #\\s - Returns a match where the string contains a white space character\n",
    "print(srch)\n",
    "\n",
    "\n",
    "print(\"The first white-space character is located in position:\", srch.start())"
   ]
  },
  {
   "cell_type": "code",
   "execution_count": null,
   "id": "a13fd14a",
   "metadata": {},
   "outputs": [],
   "source": []
  },
  {
   "cell_type": "markdown",
   "id": "8cfb62e2",
   "metadata": {},
   "source": [
    "### Q. 4. From a Match item, how do you get the actual strings that match the pattern?"
   ]
  },
  {
   "cell_type": "code",
   "execution_count": null,
   "id": "0f8822cc",
   "metadata": {},
   "outputs": [],
   "source": [
    "\"\"\"\n",
    "Ans.4)\n",
    "A Regex object’s search() method searches the string it is passed for any matches to the regex. \n",
    "Match objects have a group() method that will return the actual matched text from the searched string.\n",
    "\"\"\""
   ]
  },
  {
   "cell_type": "code",
   "execution_count": 9,
   "id": "aea7e76b",
   "metadata": {},
   "outputs": [
    {
     "name": "stdout",
     "output_type": "stream",
     "text": [
      "Phone number found: 123-4567890\n"
     ]
    }
   ],
   "source": [
    "#Example\n",
    "import re\n",
    "text = \"My contact number is 123-4567890.\"\n",
    "phone_number = re.compile(r'\\d\\d\\d-\\d\\d\\d\\d\\d\\d\\d')\n",
    "srch = phone_number.search(text)\n",
    "print('Phone number found: ' + srch.group())"
   ]
  },
  {
   "cell_type": "code",
   "execution_count": null,
   "id": "aeae623e",
   "metadata": {},
   "outputs": [],
   "source": []
  },
  {
   "cell_type": "markdown",
   "id": "24a81fd1",
   "metadata": {},
   "source": [
    "### Q.5 In the regex which created from the r'(\\d\\d\\d)-(\\d\\d\\d-\\d\\d\\d\\d)', what does group zero cover? Group 2? Group 1?"
   ]
  },
  {
   "cell_type": "code",
   "execution_count": 102,
   "id": "e888d365",
   "metadata": {},
   "outputs": [
    {
     "name": "stdout",
     "output_type": "stream",
     "text": [
      "group zero cover 123-456-7890\n",
      "group 1 cover 123\n",
      "group 2 cover 456-7890\n"
     ]
    }
   ],
   "source": [
    "#Ans.5\n",
    "import re\n",
    "text = \"My contact number is 123-456-7890.\"\n",
    "phone_number = re.compile(r'(\\d\\d\\d)-(\\d\\d\\d-\\d\\d\\d\\d)')\n",
    "pat = phone_number.search(text)\n",
    "print(\"group zero cover\" , pat.group(0))    # Covers entire group\n",
    "print(\"group 1 cover\" , pat.group(1))       # group 1 covers the first set of parentheses,\n",
    "print(\"group 2 cover\" , pat.group(2))       # group 2 covers the second set of parentheses."
   ]
  },
  {
   "cell_type": "code",
   "execution_count": null,
   "id": "470a18e8",
   "metadata": {},
   "outputs": [],
   "source": []
  },
  {
   "cell_type": "markdown",
   "id": "f2de4d68",
   "metadata": {},
   "source": [
    "### Q.6. In standard expression syntax, parentheses and intervals have distinct meanings. How can you tell a regex that you want it to fit real parentheses and periods?"
   ]
  },
  {
   "cell_type": "code",
   "execution_count": null,
   "id": "6aea6ee1",
   "metadata": {},
   "outputs": [],
   "source": [
    "\"\"\"\n",
    "Ans.6)\n",
    "Periods and parentheses can be escaped with a backslash: \\., \\(, and \\).\n",
    "\"\"\""
   ]
  },
  {
   "cell_type": "code",
   "execution_count": 13,
   "id": "eee2f7d5",
   "metadata": {},
   "outputs": [
    {
     "name": "stdout",
     "output_type": "stream",
     "text": [
      "<re.Match object; span=(21, 22), match='('>\n"
     ]
    }
   ],
   "source": [
    "#Example\n",
    "import re\n",
    "text = \"This is . parenthesis( )\"\n",
    "srch = re.compile(r\"\\(\")\n",
    "pat = srch.search(text)\n",
    "print(pat)\n"
   ]
  },
  {
   "cell_type": "code",
   "execution_count": null,
   "id": "763415f3",
   "metadata": {},
   "outputs": [],
   "source": []
  },
  {
   "cell_type": "markdown",
   "id": "16560f4c",
   "metadata": {},
   "source": [
    "### Q.7 The findall() method returns a string list or a list of string tuples. What causes it to return one of the two options?"
   ]
  },
  {
   "cell_type": "code",
   "execution_count": null,
   "id": "6994d5d4",
   "metadata": {},
   "outputs": [],
   "source": []
  },
  {
   "cell_type": "code",
   "execution_count": 130,
   "id": "ff58dde6",
   "metadata": {},
   "outputs": [
    {
     "name": "stdout",
     "output_type": "stream",
     "text": [
      "List of string tuples [('123', '456-7890')]\n",
      "List of string ['123-456-7890']\n"
     ]
    }
   ],
   "source": [
    "#Ans.7 Grouping returns list of string tuples .\n",
    "import re\n",
    "text = \"My contact number is 123-456-7890.\"\n",
    "phone_number1 = re.compile(r'(\\d\\d\\d)-(\\d\\d\\d-\\d\\d\\d\\d)') # Having groups\n",
    "phone_number2 = re.compile(r'\\d\\d\\d-\\d\\d\\d-\\d\\d\\d\\d') # Having no groups\n",
    "pat1 = phone_number1.findall(text)\n",
    "pat2 = phone_number2.findall(text)\n",
    "  \n",
    "print(\"List of string tuples\" , pat1)   \n",
    "print(\"List of string\" , pat2) \n",
    "       "
   ]
  },
  {
   "cell_type": "code",
   "execution_count": null,
   "id": "3747a536",
   "metadata": {},
   "outputs": [],
   "source": []
  },
  {
   "cell_type": "markdown",
   "id": "2ea802a4",
   "metadata": {},
   "source": [
    "### Q.8. In standard expressions, what does the | character mean?"
   ]
  },
  {
   "cell_type": "code",
   "execution_count": null,
   "id": "151e1f77",
   "metadata": {},
   "outputs": [],
   "source": [
    "\"\"\"\n",
    "Ans.8) \n",
    "In standard expressions,the | character mean the OR Bitwise Operators(Bitwise operators are used to compare (binary) numbers)\n",
    "\n",
    "\"\"\""
   ]
  },
  {
   "cell_type": "code",
   "execution_count": 19,
   "id": "923ae7cb",
   "metadata": {},
   "outputs": [
    {
     "data": {
      "text/plain": [
       "1"
      ]
     },
     "execution_count": 19,
     "metadata": {},
     "output_type": "execute_result"
    }
   ],
   "source": [
    "#e.g Bitwise OR operation with 1 and 0\n",
    "1 | 0"
   ]
  },
  {
   "cell_type": "code",
   "execution_count": 23,
   "id": "e0365e19",
   "metadata": {},
   "outputs": [
    {
     "data": {
      "text/plain": [
       "110"
      ]
     },
     "execution_count": 23,
     "metadata": {},
     "output_type": "execute_result"
    }
   ],
   "source": [
    "100|110"
   ]
  },
  {
   "cell_type": "markdown",
   "id": "7bef9720",
   "metadata": {},
   "source": [
    "### Q.9. In regular expressions, what does the I character stand for?"
   ]
  },
  {
   "cell_type": "code",
   "execution_count": null,
   "id": "dca2e46c",
   "metadata": {},
   "outputs": [],
   "source": [
    "\"\"\"\n",
    "Ans. 9)\n",
    "The | character signifies matching \"either, or\" between two groups in regular expression.\n",
    "\"\"\""
   ]
  },
  {
   "cell_type": "code",
   "execution_count": 26,
   "id": "1fccd928",
   "metadata": {},
   "outputs": [
    {
     "name": "stdout",
     "output_type": "stream",
     "text": [
      "['struggling ']\n",
      "Yes, there is at least one match!\n"
     ]
    }
   ],
   "source": [
    "import re\n",
    "\n",
    "txt = \"Hello I am struggling a lot in learning Data-Science\"\n",
    "\n",
    "#Check if the string contains either \"struggling\" or \"Data-Science\":\n",
    "\n",
    "x = re.findall(\"struggling | Data-Engg\", txt)\n",
    "\n",
    "print(x)\n",
    "\n",
    "if x:\n",
    "  print(\"Yes, there is at least one match!\")\n",
    "else:\n",
    "  print(\"No match\")"
   ]
  },
  {
   "cell_type": "markdown",
   "id": "25a3c588",
   "metadata": {},
   "source": [
    "### Q.10. In regular expressions, what is the difference between the + and * characters?"
   ]
  },
  {
   "cell_type": "code",
   "execution_count": null,
   "id": "1dc84b4c",
   "metadata": {},
   "outputs": [],
   "source": [
    "\"\"\"\n",
    "Ans.10)\n",
    "In regular expression + character signifies Greedily matches the expression to its left(i.e to left of '+') 1 or more times.\n",
    "\n",
    "and * character signifies Greedily matches the expression to its left(i.e to left of '+') 0 or more times\n",
    "\"\"\""
   ]
  },
  {
   "cell_type": "code",
   "execution_count": 32,
   "id": "f287f59a",
   "metadata": {
    "scrolled": true
   },
   "outputs": [
    {
     "name": "stdout",
     "output_type": "stream",
     "text": [
      "['iNNN', 'i', 'i', 'iN']\n",
      "['iNNN', 'iN']\n"
     ]
    }
   ],
   "source": [
    "# Example\n",
    "import re\n",
    "text = \"iNNNeuron Data Science data course Data bhai iNeuron\"\n",
    "print(re.findall(\"iN*\" ,text))\n",
    "print(re.findall(\"iN+\" ,text))\n",
    "\n",
    "\n",
    "# Here in exp \"iN*\" , it will serch for \"i\" and print and then look for \"N\" for zero or more occurances. i.e \n",
    "# it will give result ix (where x can be any character) or iN.\n",
    "\n",
    "## Here in exp \"iN+\" , it will serch look for \"iN\" for one or more occurances. i.e N shoulf be atleast one. iN,iN,iNNNNN"
   ]
  },
  {
   "cell_type": "code",
   "execution_count": null,
   "id": "3097b69c",
   "metadata": {},
   "outputs": [],
   "source": []
  },
  {
   "cell_type": "markdown",
   "id": "c6a6adf8",
   "metadata": {},
   "source": [
    "### Q. 11. What is the difference between {4} and {4,5} in regular expression?"
   ]
  },
  {
   "cell_type": "code",
   "execution_count": null,
   "id": "463178eb",
   "metadata": {},
   "outputs": [],
   "source": [
    "\"\"\"\n",
    "Ans.11)\n",
    "{m} Matches exactly m repetitions of the preceding regex.Here m = 4 for this problem.\n",
    "{m,n} Matches any number of repetitions of the preceding regex from m to n, inclusive. \n",
    "Here m=4, n= 5\n",
    "\"\"\""
   ]
  },
  {
   "cell_type": "code",
   "execution_count": 72,
   "id": "55f6f517",
   "metadata": {
    "scrolled": true
   },
   "outputs": [
    {
     "name": "stdout",
     "output_type": "stream",
     "text": [
      "<re.Match object; span=(1, 7), match='ellllo'>\n"
     ]
    }
   ],
   "source": [
    "#Example\n",
    "import re\n",
    "string = \"HelllloooooJi\"\n",
    "print(re.search('el{4}o' ,string))"
   ]
  },
  {
   "cell_type": "code",
   "execution_count": 67,
   "id": "7742a57b",
   "metadata": {},
   "outputs": [
    {
     "name": "stdout",
     "output_type": "stream",
     "text": [
      "<re.Match object; span=(5, 12), match='loooooJ'>\n"
     ]
    },
    {
     "data": {
      "text/plain": [
       "\"The match succeeds when there are four or five characters (Here 'o') between the mentioned\\ncharacters(Here  between l and j) but fails otherwise \""
      ]
     },
     "execution_count": 67,
     "metadata": {},
     "output_type": "execute_result"
    }
   ],
   "source": [
    "print(re.search('lo{4,5}J', string)) \n",
    "\"\"\"The match succeeds when there are four or five characters (Here 'o') between the mentioned\n",
    "characters(Here  between l and j) but fails otherwise \"\"\""
   ]
  },
  {
   "cell_type": "code",
   "execution_count": 62,
   "id": "42d7b98f",
   "metadata": {},
   "outputs": [
    {
     "name": "stdout",
     "output_type": "stream",
     "text": [
      "4  x----x     <re.Match object; span=(0, 6), match='x----x'>\n"
     ]
    }
   ],
   "source": [
    " for i in range(4,5):\n",
    "    s = f\"x{'-' * i}x\"\n",
    "    print(f'{i}  {s:10}', re.search('x-{4,5}x', s))"
   ]
  },
  {
   "cell_type": "code",
   "execution_count": null,
   "id": "d5f77b14",
   "metadata": {},
   "outputs": [],
   "source": []
  },
  {
   "cell_type": "markdown",
   "id": "0e6eef31",
   "metadata": {},
   "source": [
    "### Q.12 . What do you mean by the \\d, \\w, and \\s shorthand character classes signify in regular expressions?"
   ]
  },
  {
   "cell_type": "markdown",
   "id": "b4d03594",
   "metadata": {},
   "source": [
    "Ans.12)\n",
    "\n",
    "\\d\tReturns a match where the string contains digits (numbers from 0-9)\n",
    "\n",
    "\\w\tReturns a match where the string contains any word characters (characters from a to Z, digits from 0-9, and the underscore _ character)\n",
    "\n",
    "\\s\tReturns a match where the string contains a white space character\t"
   ]
  },
  {
   "cell_type": "code",
   "execution_count": 13,
   "id": "ae9c0acb",
   "metadata": {},
   "outputs": [
    {
     "name": "stdout",
     "output_type": "stream",
     "text": [
      "['9', '2', '0', '2', '2']\n",
      "['T', 'o', 'd', 'a', 'y', 'i', 's', '9', '_', 't', 'h', 's', 'e', 'p', 't', 'e', 'm', 'b', 'e', 'r', '2', '0', '2', '2', 'T', 'h', 'i', 's', 'i', 's', 't', 'o', 'u', 'g', 'h', 'f', 'o', 'r', 'm', 'e', 'b', 'u', 't', 'i', 'w', 'i', 'l', 'l', 'f', 'i', 'g', 'h', 't']\n",
      "[' ', ' ', ' ', ' ', ' ', ' ', ' ', ' ', ' ', ' ', ' ', ' ', ' ']\n"
     ]
    }
   ],
   "source": [
    "#Example\n",
    "import re\n",
    "text = \"Today is 9_th september, 2022 .This is tough for me but i will fight\"\n",
    "print(re.findall(\"\\d\", text))\n",
    "print(re.findall(\"\\w\", text))\n",
    "print(re.findall(\"\\s\", text))"
   ]
  },
  {
   "cell_type": "code",
   "execution_count": null,
   "id": "18f40404",
   "metadata": {},
   "outputs": [],
   "source": []
  },
  {
   "cell_type": "markdown",
   "id": "4b19a79b",
   "metadata": {},
   "source": [
    "### Q.13. What do means by \\D, \\W, and \\S shorthand character classes signify in regular expressions?"
   ]
  },
  {
   "cell_type": "markdown",
   "id": "11f330b0",
   "metadata": {},
   "source": [
    "Ans 13.)\n",
    "\n",
    "\\D Returns a match where the string DOES NOT contain digits\n",
    "\n",
    "\\S Returns a match where the string DOES NOT contain a white space character\n",
    "\n",
    "\\W Returns a match where the string DOES NOT contain any word characters (characters from a to Z, digits from 0-9, and the underscore _ character)\n",
    "\n"
   ]
  },
  {
   "cell_type": "code",
   "execution_count": 32,
   "id": "76dcb0c4",
   "metadata": {},
   "outputs": [
    {
     "name": "stdout",
     "output_type": "stream",
     "text": [
      "<re.Match object; span=(0, 1), match='T'>\n",
      "<re.Match object; span=(0, 1), match='T'>\n",
      "<re.Match object; span=(5, 6), match=' '>\n"
     ]
    }
   ],
   "source": [
    "#Example\n",
    "import re\n",
    "text = \"Today is 9_th september, 2022 .This is tough for me but i will fight\"\n",
    "print(re.search(\"\\D\",text))\n",
    "print(re.search(\"\\S\",text))\n",
    "print(re.search(\"\\W\",text))"
   ]
  },
  {
   "cell_type": "code",
   "execution_count": null,
   "id": "87ac2e92",
   "metadata": {},
   "outputs": [],
   "source": []
  },
  {
   "cell_type": "markdown",
   "id": "154ec696",
   "metadata": {},
   "source": [
    "### Q.14. What is the difference between .* and .* ?"
   ]
  },
  {
   "cell_type": "markdown",
   "id": "e36a30ff",
   "metadata": {},
   "source": [
    "Ans.14)\n",
    "\n",
    ".*\tZero or more occurrences\n",
    "\n",
    ".?\tZero or one occurrences\n"
   ]
  },
  {
   "cell_type": "code",
   "execution_count": 43,
   "id": "f2b62c12",
   "metadata": {},
   "outputs": [
    {
     "name": "stdout",
     "output_type": "stream",
     "text": [
      "['hello o']\n"
     ]
    }
   ],
   "source": [
    "#example\n",
    "import re\n",
    "\n",
    "txt = \"hello ops man \"\n",
    "\n",
    "#Search for a sequence that starts with \"he\", followed by zero or more  (any) characters, and an \"o\":\n",
    "\n",
    "x = re.findall(\"he.*o\", txt)\n",
    "\n",
    "print(x)"
   ]
  },
  {
   "cell_type": "code",
   "execution_count": 47,
   "id": "162c3ec6",
   "metadata": {},
   "outputs": [
    {
     "name": "stdout",
     "output_type": "stream",
     "text": [
      "[]\n"
     ]
    }
   ],
   "source": [
    "#example\n",
    "import re\n",
    "\n",
    "txt = \"hello ops man\"\n",
    "\n",
    "#Search for a sequence that starts with \"he\", followed by 0 or 1  (any) character, and an \"o\":\n",
    "\n",
    "x = re.findall(\"he.?o\", txt)\n",
    "\n",
    "print(x)\n",
    "\n",
    "#This time we got no match, because there were not zero, not one, but two characters between \"he\" and the \"o\"\n"
   ]
  },
  {
   "cell_type": "code",
   "execution_count": null,
   "id": "9137bb9e",
   "metadata": {},
   "outputs": [],
   "source": []
  },
  {
   "cell_type": "markdown",
   "id": "8f7da167",
   "metadata": {},
   "source": [
    "### Q.15. What is the syntax for matching both numbers and lowercase letters with a character class?"
   ]
  },
  {
   "cell_type": "markdown",
   "id": "ba241672",
   "metadata": {},
   "source": [
    "Ans.15) The syntax is [0-9a-z] or [a-z0-9]"
   ]
  },
  {
   "cell_type": "code",
   "execution_count": 50,
   "id": "cf0414b1",
   "metadata": {},
   "outputs": [
    {
     "data": {
      "text/plain": [
       "['i', 't', 's', 'e', '0', '0', '7']"
      ]
     },
     "execution_count": 50,
     "metadata": {},
     "output_type": "execute_result"
    }
   ],
   "source": [
    "#example \n",
    "import re\n",
    "string = \"Hi Its Me 007 TAN\"\n",
    "re.findall(\"[0-9a-z]\",string)\n",
    "# Or   re.findall(\"[a-z0-9]\",string)\n"
   ]
  },
  {
   "cell_type": "code",
   "execution_count": null,
   "id": "c3a763c3",
   "metadata": {},
   "outputs": [],
   "source": []
  },
  {
   "cell_type": "markdown",
   "id": "7dc974bb",
   "metadata": {},
   "source": [
    "###  Q.16. What is the procedure for making a normal expression in regax case insensitive?"
   ]
  },
  {
   "cell_type": "markdown",
   "id": "010b299e",
   "metadata": {},
   "source": [
    "Ans.16) The re.IGNORECASE is used as a flag to enable case insensitive searching within a text. It will consider the characters [A-Z] the same as [a-z] for a string.\n"
   ]
  },
  {
   "cell_type": "code",
   "execution_count": 51,
   "id": "f55f34ed",
   "metadata": {},
   "outputs": [
    {
     "data": {
      "text/plain": [
       "['Hello', 'HELLO', 'heLLo', 'hElLO']"
      ]
     },
     "execution_count": 51,
     "metadata": {},
     "output_type": "execute_result"
    }
   ],
   "source": [
    "#Example\n",
    "text = \"Hello HELLO heLLo hElLO\"\n",
    "re.findall(\"hello\",text , re.IGNORECASE)"
   ]
  },
  {
   "cell_type": "code",
   "execution_count": null,
   "id": "7522b478",
   "metadata": {},
   "outputs": [],
   "source": []
  },
  {
   "cell_type": "markdown",
   "id": "410caadc",
   "metadata": {},
   "source": [
    "### Q. 17. What does the . character normally match? What does it match if re.DOTALL is passed as 2nd argument in re.compile()?"
   ]
  },
  {
   "cell_type": "markdown",
   "id": "30297f9e",
   "metadata": {},
   "source": [
    "Ans.17)\n",
    "\n",
    "The ‘.’ special character in Python matches with any character excluding the new line, but using DOTALL flag in python we can extend its functionality.\n",
    "\n",
    "With the help of DOTALL flag the ‘.’ character can match any character including newline.\n",
    "\n",
    "While working on real-life projects there may arise scenarios where we have to process multi-line strings(separated by newline characters – ‘\\n’). In such situations, we use re.DOTALL."
   ]
  },
  {
   "cell_type": "code",
   "execution_count": 73,
   "id": "460f26dc",
   "metadata": {},
   "outputs": [
    {
     "name": "stdout",
     "output_type": "stream",
     "text": [
      "None\n",
      "<re.Match object; span=(0, 41), match='This is assignment string for example \\n Z'>\n"
     ]
    }
   ],
   "source": [
    "#Example    \n",
    "import re\n",
    "text = 'This is assignment string for example \\n ZThis one is second line string for testing re expression'\n",
    "match1 = re.search(\"T.+Z\",text)\n",
    "print(match1)\n",
    "\n",
    "match2 = re.search(\"T.+Z\", text, re.DOTALL)\n",
    "print(match2)\n",
    "\n"
   ]
  },
  {
   "cell_type": "markdown",
   "id": "f1aadc31",
   "metadata": {},
   "source": [
    "Here, the regular expression matches one or more characters (‘. +’). At the time when the engine reaches the newline character, it stops, because the dot character doesn’t match the line breaks. Let’s look into the code that makes use of the DOTALL flag."
   ]
  },
  {
   "cell_type": "code",
   "execution_count": null,
   "id": "fe71c517",
   "metadata": {},
   "outputs": [],
   "source": []
  },
  {
   "cell_type": "markdown",
   "id": "40734731",
   "metadata": {},
   "source": [
    "### Q. 18. If numRegex = re.compile(r'\\d+'), what will numRegex.sub('X', '11 drummers, 10 pipers, five rings, 4 hen') return?"
   ]
  },
  {
   "cell_type": "code",
   "execution_count": 79,
   "id": "2d5fc708",
   "metadata": {},
   "outputs": [
    {
     "data": {
      "text/plain": [
       "'X drummers, X pipers, five rings, X hen'"
      ]
     },
     "execution_count": 79,
     "metadata": {},
     "output_type": "execute_result"
    }
   ],
   "source": [
    "#Ans.18) sub replaces one or many matches with a string\n",
    "\n",
    "import re\n",
    "numRegex = re.compile(r'\\d+')\n",
    "numRegex.sub('X', '11 drummers, 10 pipers, five rings, 4 hen')"
   ]
  },
  {
   "cell_type": "code",
   "execution_count": null,
   "id": "282f400d",
   "metadata": {},
   "outputs": [],
   "source": []
  },
  {
   "cell_type": "markdown",
   "id": "6b4f7721",
   "metadata": {},
   "source": [
    "### Q. 19. What does passing re.VERBOSE as the 2nd argument to re.compile() allow to do?"
   ]
  },
  {
   "cell_type": "markdown",
   "id": "6f9206db",
   "metadata": {},
   "source": [
    "Ans.19) It allows representing a regular expression in a more readable way.The Verbose flag treats # character as a comment character and also ignores all the whitespace characters including the line break."
   ]
  },
  {
   "cell_type": "code",
   "execution_count": 116,
   "id": "6493a8ee",
   "metadata": {},
   "outputs": [
    {
     "name": "stdout",
     "output_type": "stream",
     "text": [
      "Ram\n",
      "80000\n"
     ]
    }
   ],
   "source": [
    "#example\n",
    "import re\n",
    "\n",
    "string = \"Ram babu is a Python developer, and her salary is 80000\"\n",
    "\n",
    "result = re.search(r\"\"\"(^\\w{3})  # return word at the start\n",
    "                        .*(\\d{5}$) # match 4-digit number at the end \"\"\", string, re.VERBOSE)\n",
    "\n",
    "print(result.group(1))\n",
    "print(result.group(2))"
   ]
  },
  {
   "cell_type": "code",
   "execution_count": 80,
   "id": "e8b8b4f6",
   "metadata": {},
   "outputs": [],
   "source": []
  },
  {
   "cell_type": "markdown",
   "id": "e4c782b7",
   "metadata": {},
   "source": [
    "### Q. 20. How would you write a regex that match a number with comma for every three digits? It must match the given following:\n",
    "\n",
    "'42'\n",
    "\n",
    "'1,234'\n",
    "\n",
    "'6,368,745'\n",
    "\n",
    "but not the following:\n",
    "\n",
    "'12,34,567' (which has only two digits between the commas)\n",
    "\n",
    "'1234' (which lacks commas)\n"
   ]
  },
  {
   "cell_type": "code",
   "execution_count": 169,
   "id": "8bac2420",
   "metadata": {},
   "outputs": [],
   "source": [
    "#ans.20)  re.compile(r'^\\d{1,2}(,\\d{3})*$')"
   ]
  },
  {
   "cell_type": "code",
   "execution_count": 168,
   "id": "7ab86576",
   "metadata": {},
   "outputs": [
    {
     "name": "stdout",
     "output_type": "stream",
     "text": [
      "<re.Match object; span=(0, 5), match='1,234'>\n",
      "<re.Match object; span=(0, 9), match='6,368,745'>\n",
      "<re.Match object; span=(0, 2), match='42'>\n"
     ]
    }
   ],
   "source": [
    "import re\n",
    "target = ['1,234', \"6,368,745\" ,\"42\", '12,34,567' ,'1234' ]\n",
    "for j in target:\n",
    "    match = re.compile(r'^\\d{1,2}(,\\d{3})*$')\n",
    "    srch = match.finditer(j)\n",
    "    for i in srch:\n",
    "        print(i)\n",
    "    \n"
   ]
  },
  {
   "cell_type": "code",
   "execution_count": null,
   "id": "8000d1b5",
   "metadata": {},
   "outputs": [],
   "source": []
  },
  {
   "cell_type": "markdown",
   "id": "c2bbb1fb",
   "metadata": {},
   "source": [
    "### Q.21. How would you write a regex that matches the full name of someone whose last name is Watanabe? You can assume that the first name that comes before it will always be one word that begins with a capital letter. The regex must match the following:\n",
    "\n",
    "'Haruto Watanabe'\n",
    "\n",
    "'Alice Watanabe'\n",
    "\n",
    "'RoboCop Watanabe'\n",
    "\n",
    "but not the following:\n",
    "\n",
    "'haruto Watanabe' (where the first name is not capitalized)\n",
    "\n",
    "'Mr. Watanabe' (where the preceding word has a nonletter character)\n",
    "\n",
    "'Watanabe' (which has no first name)\n",
    "\n",
    "'Haruto watanabe' (where Watanabe is not capitalized)\n",
    " "
   ]
  },
  {
   "cell_type": "code",
   "execution_count": 203,
   "id": "b9ebb443",
   "metadata": {},
   "outputs": [],
   "source": [
    "target = ['Haruto Watanabe','Alice Watanabe','RoboCop Watanabe', 'haruto Watanabe', 'Mr. Watanabe' , 'Watanabe','Haruto watanabe']"
   ]
  },
  {
   "cell_type": "code",
   "execution_count": 204,
   "id": "b709d63d",
   "metadata": {},
   "outputs": [
    {
     "name": "stdout",
     "output_type": "stream",
     "text": [
      "<re.Match object; span=(0, 15), match='Haruto Watanabe'>\n",
      "<re.Match object; span=(0, 14), match='Alice Watanabe'>\n",
      "<re.Match object; span=(4, 16), match='Cop Watanabe'>\n"
     ]
    }
   ],
   "source": [
    "import re\n",
    "for j in target:\n",
    "    match = re.compile(r'[A-Z][a-z]*\\sWatanabe')\n",
    "    srch = match.finditer(j)\n",
    "    for i in srch:\n",
    "        print(i)"
   ]
  },
  {
   "cell_type": "code",
   "execution_count": null,
   "id": "0286be1b",
   "metadata": {},
   "outputs": [],
   "source": []
  },
  {
   "cell_type": "markdown",
   "id": "ee880db9",
   "metadata": {},
   "source": [
    "### 22. How would you write a regex that matches a sentence where the first word is either Alice, Bob, or Carol; the second word is either eats, pets, or throws; the third word is apples, cats, or baseballs; and the sentence ends with a period? This regex should be case-insensitive. It must match the following:\n",
    "\n",
    "'Alice eats apples.'\n",
    "\n",
    "'Bob pets cats.'\n",
    "\n",
    "'Carol throws baseballs.'\n",
    "\n",
    "'Alice throws Apples.'\n",
    "\n",
    "'BOB EATS CATS.'\n",
    "\n",
    "but not the following:\n",
    "\n",
    "'RoboCop eats apples.'\n",
    "\n",
    "'ALICE THROWS FOOTBALLS.'\n",
    "\n",
    "'Carol eats 7 cats.'\n",
    "\n"
   ]
  },
  {
   "cell_type": "code",
   "execution_count": 228,
   "id": "da856247",
   "metadata": {},
   "outputs": [],
   "source": [
    "target = ['Alice eats apples.',\n",
    "\n",
    "'Bob pets cats.',\n",
    "\n",
    "'Carol throws baseballs.',\n",
    "\n",
    "'Alice throws Apples.',\n",
    "\n",
    "'BOB EATS CATS.',\n",
    "\n",
    "'RoboCop eats apples.',\n",
    "\n",
    "'ALICE THROWS FOOTBALLS.',\n",
    "\n",
    "'Carol eats 7 cats.']"
   ]
  },
  {
   "cell_type": "code",
   "execution_count": 229,
   "id": "14a34e52",
   "metadata": {},
   "outputs": [
    {
     "name": "stdout",
     "output_type": "stream",
     "text": [
      "<re.Match object; span=(0, 18), match='Alice eats apples.'>\n",
      "<re.Match object; span=(0, 14), match='Bob pets cats.'>\n",
      "<re.Match object; span=(0, 23), match='Carol throws baseballs.'>\n",
      "<re.Match object; span=(0, 20), match='Alice throws Apples.'>\n",
      "<re.Match object; span=(0, 14), match='BOB EATS CATS.'>\n"
     ]
    }
   ],
   "source": [
    "import re\n",
    "for j in target:\n",
    "    match = re.compile(r\"(Alice|Bob|Carol)\\s(eats|pets|throws)\\s(apples|cats|baseballs)\\.\" , re.IGNORECASE)\n",
    "    search = match.finditer(j)\n",
    "    for i in search:\n",
    "        print(i)"
   ]
  },
  {
   "cell_type": "code",
   "execution_count": null,
   "id": "8d3c1be1",
   "metadata": {},
   "outputs": [],
   "source": []
  },
  {
   "cell_type": "code",
   "execution_count": null,
   "id": "dd481540",
   "metadata": {},
   "outputs": [],
   "source": []
  },
  {
   "cell_type": "code",
   "execution_count": null,
   "id": "4d327bfe",
   "metadata": {},
   "outputs": [],
   "source": []
  },
  {
   "cell_type": "code",
   "execution_count": null,
   "id": "c5f02a5e",
   "metadata": {},
   "outputs": [],
   "source": []
  },
  {
   "cell_type": "code",
   "execution_count": null,
   "id": "84b9e6b4",
   "metadata": {},
   "outputs": [],
   "source": []
  },
  {
   "cell_type": "code",
   "execution_count": null,
   "id": "ac2f92c1",
   "metadata": {},
   "outputs": [],
   "source": []
  },
  {
   "cell_type": "code",
   "execution_count": null,
   "id": "18291fc3",
   "metadata": {},
   "outputs": [],
   "source": []
  },
  {
   "cell_type": "code",
   "execution_count": null,
   "id": "c14e7a1a",
   "metadata": {},
   "outputs": [],
   "source": []
  },
  {
   "cell_type": "code",
   "execution_count": null,
   "id": "cb45be41",
   "metadata": {},
   "outputs": [],
   "source": []
  },
  {
   "cell_type": "code",
   "execution_count": null,
   "id": "2d6356c6",
   "metadata": {},
   "outputs": [],
   "source": []
  },
  {
   "cell_type": "code",
   "execution_count": null,
   "id": "b428cfc5",
   "metadata": {},
   "outputs": [],
   "source": []
  },
  {
   "cell_type": "code",
   "execution_count": null,
   "id": "4e4d419a",
   "metadata": {},
   "outputs": [],
   "source": []
  },
  {
   "cell_type": "code",
   "execution_count": null,
   "id": "cd6805d5",
   "metadata": {},
   "outputs": [],
   "source": []
  },
  {
   "cell_type": "code",
   "execution_count": null,
   "id": "2c1efa81",
   "metadata": {},
   "outputs": [],
   "source": []
  },
  {
   "cell_type": "code",
   "execution_count": null,
   "id": "ffbdaed6",
   "metadata": {},
   "outputs": [],
   "source": []
  },
  {
   "cell_type": "code",
   "execution_count": null,
   "id": "7bb8426b",
   "metadata": {},
   "outputs": [],
   "source": []
  },
  {
   "cell_type": "code",
   "execution_count": null,
   "id": "e67ecacd",
   "metadata": {},
   "outputs": [],
   "source": []
  },
  {
   "cell_type": "code",
   "execution_count": null,
   "id": "ba2253c7",
   "metadata": {},
   "outputs": [],
   "source": []
  },
  {
   "cell_type": "code",
   "execution_count": null,
   "id": "d234736c",
   "metadata": {},
   "outputs": [],
   "source": []
  },
  {
   "cell_type": "code",
   "execution_count": null,
   "id": "77cd9b17",
   "metadata": {},
   "outputs": [],
   "source": []
  },
  {
   "cell_type": "code",
   "execution_count": null,
   "id": "67e5bec4",
   "metadata": {},
   "outputs": [],
   "source": []
  },
  {
   "cell_type": "code",
   "execution_count": null,
   "id": "4286d538",
   "metadata": {},
   "outputs": [],
   "source": []
  },
  {
   "cell_type": "code",
   "execution_count": null,
   "id": "9d204a2f",
   "metadata": {},
   "outputs": [],
   "source": []
  },
  {
   "cell_type": "code",
   "execution_count": null,
   "id": "aa618f4f",
   "metadata": {},
   "outputs": [],
   "source": []
  },
  {
   "cell_type": "code",
   "execution_count": null,
   "id": "175524d8",
   "metadata": {},
   "outputs": [],
   "source": []
  },
  {
   "cell_type": "code",
   "execution_count": null,
   "id": "b1c6f94b",
   "metadata": {},
   "outputs": [],
   "source": []
  },
  {
   "cell_type": "code",
   "execution_count": null,
   "id": "2fbfbe31",
   "metadata": {},
   "outputs": [],
   "source": []
  },
  {
   "cell_type": "code",
   "execution_count": null,
   "id": "ece34be8",
   "metadata": {},
   "outputs": [],
   "source": []
  },
  {
   "cell_type": "code",
   "execution_count": null,
   "id": "f6f2d809",
   "metadata": {},
   "outputs": [],
   "source": []
  },
  {
   "cell_type": "code",
   "execution_count": null,
   "id": "40ea5d43",
   "metadata": {},
   "outputs": [],
   "source": []
  },
  {
   "cell_type": "code",
   "execution_count": null,
   "id": "e177cd6c",
   "metadata": {},
   "outputs": [],
   "source": []
  },
  {
   "cell_type": "code",
   "execution_count": null,
   "id": "c0189e51",
   "metadata": {},
   "outputs": [],
   "source": []
  },
  {
   "cell_type": "code",
   "execution_count": null,
   "id": "a071ce65",
   "metadata": {},
   "outputs": [],
   "source": []
  },
  {
   "cell_type": "code",
   "execution_count": null,
   "id": "04157754",
   "metadata": {},
   "outputs": [],
   "source": []
  },
  {
   "cell_type": "code",
   "execution_count": null,
   "id": "d92378a2",
   "metadata": {},
   "outputs": [],
   "source": []
  },
  {
   "cell_type": "code",
   "execution_count": null,
   "id": "d97b99bd",
   "metadata": {},
   "outputs": [],
   "source": []
  },
  {
   "cell_type": "code",
   "execution_count": null,
   "id": "739be5c9",
   "metadata": {},
   "outputs": [],
   "source": []
  },
  {
   "cell_type": "code",
   "execution_count": null,
   "id": "ade4b82f",
   "metadata": {},
   "outputs": [],
   "source": []
  },
  {
   "cell_type": "code",
   "execution_count": null,
   "id": "f0c0571e",
   "metadata": {},
   "outputs": [],
   "source": []
  },
  {
   "cell_type": "code",
   "execution_count": null,
   "id": "efe05cd4",
   "metadata": {},
   "outputs": [],
   "source": []
  },
  {
   "cell_type": "code",
   "execution_count": null,
   "id": "478eb48f",
   "metadata": {},
   "outputs": [],
   "source": []
  },
  {
   "cell_type": "code",
   "execution_count": null,
   "id": "0d3c6c68",
   "metadata": {},
   "outputs": [],
   "source": []
  },
  {
   "cell_type": "code",
   "execution_count": null,
   "id": "a60e58bf",
   "metadata": {},
   "outputs": [],
   "source": []
  }
 ],
 "metadata": {
  "kernelspec": {
   "display_name": "Python 3 (ipykernel)",
   "language": "python",
   "name": "python3"
  },
  "language_info": {
   "codemirror_mode": {
    "name": "ipython",
    "version": 3
   },
   "file_extension": ".py",
   "mimetype": "text/x-python",
   "name": "python",
   "nbconvert_exporter": "python",
   "pygments_lexer": "ipython3",
   "version": "3.9.7"
  }
 },
 "nbformat": 4,
 "nbformat_minor": 5
}
