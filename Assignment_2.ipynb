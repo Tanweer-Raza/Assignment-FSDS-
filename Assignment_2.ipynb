{
 "cells": [
  {
   "cell_type": "markdown",
   "id": "290c2eca",
   "metadata": {},
   "source": [
    "Q.1.What are the two values of the Boolean data type? How do you write them?"
   ]
  },
  {
   "cell_type": "code",
   "execution_count": 1,
   "id": "2cb57669",
   "metadata": {},
   "outputs": [
    {
     "data": {
      "text/plain": [
       "'\\nThe two values of Boolean data type are\\n    a) True\\n    b) False    \\n'"
      ]
     },
     "execution_count": 1,
     "metadata": {},
     "output_type": "execute_result"
    }
   ],
   "source": [
    "\"\"\"\n",
    "Answer(1.)\n",
    "The two values of Boolean data type are\n",
    "    a) True\n",
    "    b) False    \n",
    "\"\"\""
   ]
  },
  {
   "cell_type": "code",
   "execution_count": 22,
   "id": "cd1468a0",
   "metadata": {},
   "outputs": [
    {
     "data": {
      "text/plain": [
       "False"
      ]
     },
     "execution_count": 22,
     "metadata": {},
     "output_type": "execute_result"
    }
   ],
   "source": [
    "#e.g of Boolean data type\n",
    "4 > 6"
   ]
  },
  {
   "cell_type": "code",
   "execution_count": 24,
   "id": "1f637f70",
   "metadata": {},
   "outputs": [
    {
     "data": {
      "text/plain": [
       "True"
      ]
     },
     "execution_count": 24,
     "metadata": {},
     "output_type": "execute_result"
    }
   ],
   "source": [
    "10<20"
   ]
  },
  {
   "cell_type": "code",
   "execution_count": 9,
   "id": "ebf28e73",
   "metadata": {
    "scrolled": true
   },
   "outputs": [
    {
     "name": "stdout",
     "output_type": "stream",
     "text": [
      "99\n",
      "Please enter valid number\n"
     ]
    }
   ],
   "source": [
    "#e.g of Boolean data type\n",
    "a = int(input())\n",
    "while (a < 6) is True :\n",
    "    for i in range(0,a) :\n",
    "        print(i)\n",
    "    break    \n",
    "else :\n",
    "    print(\"Please enter valid number\")\n",
    "        \n",
    "    \n",
    "    \n"
   ]
  },
  {
   "cell_type": "code",
   "execution_count": null,
   "id": "be5cce6f",
   "metadata": {},
   "outputs": [],
   "source": []
  },
  {
   "cell_type": "markdown",
   "id": "686d4eee",
   "metadata": {},
   "source": [
    "Q.2. What are the three different types of Boolean operators?"
   ]
  },
  {
   "cell_type": "code",
   "execution_count": 10,
   "id": "e2c28950",
   "metadata": {},
   "outputs": [
    {
     "data": {
      "text/plain": [
       "'\\nThe three different types of Boolean operators are :\\n    a) AND boolean operator \\n    b) NOT boolean operator\\n    c) OR boolean operator\\n'"
      ]
     },
     "execution_count": 10,
     "metadata": {},
     "output_type": "execute_result"
    }
   ],
   "source": [
    "'''\n",
    "Answer(2.)\n",
    "The three different types of Boolean operators are :\n",
    "    a) AND boolean operator \n",
    "    b) NOT boolean operator\n",
    "    c) OR boolean operator\n",
    "'''"
   ]
  },
  {
   "cell_type": "code",
   "execution_count": null,
   "id": "a8976c19",
   "metadata": {},
   "outputs": [],
   "source": []
  },
  {
   "cell_type": "markdown",
   "id": "a41094d0",
   "metadata": {},
   "source": [
    "Q.3. Make a list of each Boolean operator's truth tables (i.e. every possible combination of Boolean values for the operator and what it evaluate )."
   ]
  },
  {
   "cell_type": "code",
   "execution_count": null,
   "id": "4de4aa6e",
   "metadata": {},
   "outputs": [],
   "source": [
    "'''\n",
    "Answer(3.)\n",
    "The  three basic Boolean operators are \n",
    "    a) AND    b) OR     c) NOT\n",
    "    \n",
    "Truth table of a) AND \n",
    "\n",
    "\n",
    "False and False           False\n",
    "False and True             False\n",
    "True and False             False\n",
    "True and True               False\n",
    "\n",
    "\n",
    "Truth table of b) OR\n",
    "\n",
    "False and False           False\n",
    "False and True             True\n",
    "True and False             True\n",
    "True and True               True\n",
    "\n",
    "\n",
    "Truth table of c) NOT\n",
    "\n",
    "True                              False\n",
    "False                            True                           \n",
    "'''"
   ]
  },
  {
   "cell_type": "code",
   "execution_count": null,
   "id": "1a2b5a79",
   "metadata": {},
   "outputs": [],
   "source": []
  },
  {
   "cell_type": "markdown",
   "id": "65372435",
   "metadata": {},
   "source": [
    "Q.4. What are the values of the following expressions?\n",
    "\n",
    "(5 > 4) and (3 == 5)\n",
    "\n",
    "not (5 > 4)\n",
    "\n",
    "(5 > 4) or (3 == 5)\n",
    "\n",
    "not ((5 > 4) or (3 == 5))\n",
    "\n",
    "(True and True) and (True == False)\n",
    "\n",
    "(not False) or (not True)\n"
   ]
  },
  {
   "cell_type": "code",
   "execution_count": 13,
   "id": "85acf232",
   "metadata": {},
   "outputs": [
    {
     "data": {
      "text/plain": [
       "False"
      ]
     },
     "execution_count": 13,
     "metadata": {},
     "output_type": "execute_result"
    }
   ],
   "source": [
    "(5 > 4) and (3 == 5)"
   ]
  },
  {
   "cell_type": "code",
   "execution_count": 14,
   "id": "355ee797",
   "metadata": {},
   "outputs": [
    {
     "data": {
      "text/plain": [
       "False"
      ]
     },
     "execution_count": 14,
     "metadata": {},
     "output_type": "execute_result"
    }
   ],
   "source": [
    "not (5 > 4)"
   ]
  },
  {
   "cell_type": "code",
   "execution_count": 15,
   "id": "149b2f70",
   "metadata": {},
   "outputs": [
    {
     "data": {
      "text/plain": [
       "True"
      ]
     },
     "execution_count": 15,
     "metadata": {},
     "output_type": "execute_result"
    }
   ],
   "source": [
    "(5 > 4) or (3 == 5)"
   ]
  },
  {
   "cell_type": "code",
   "execution_count": 16,
   "id": "6c9c15e3",
   "metadata": {},
   "outputs": [
    {
     "data": {
      "text/plain": [
       "False"
      ]
     },
     "execution_count": 16,
     "metadata": {},
     "output_type": "execute_result"
    }
   ],
   "source": [
    "not ((5 > 4) or (3 == 5))"
   ]
  },
  {
   "cell_type": "code",
   "execution_count": 17,
   "id": "bc6da55c",
   "metadata": {},
   "outputs": [
    {
     "data": {
      "text/plain": [
       "False"
      ]
     },
     "execution_count": 17,
     "metadata": {},
     "output_type": "execute_result"
    }
   ],
   "source": [
    "(True and True) and (True == False)"
   ]
  },
  {
   "cell_type": "code",
   "execution_count": 18,
   "id": "9aee77c3",
   "metadata": {},
   "outputs": [
    {
     "data": {
      "text/plain": [
       "True"
      ]
     },
     "execution_count": 18,
     "metadata": {},
     "output_type": "execute_result"
    }
   ],
   "source": [
    "(not False) or (not True)"
   ]
  },
  {
   "cell_type": "code",
   "execution_count": null,
   "id": "d34bed5a",
   "metadata": {},
   "outputs": [],
   "source": []
  },
  {
   "cell_type": "markdown",
   "id": "191aa741",
   "metadata": {},
   "source": [
    "Q.5. What are the six comparison operators?"
   ]
  },
  {
   "cell_type": "code",
   "execution_count": 21,
   "id": "6e436825",
   "metadata": {},
   "outputs": [
    {
     "data": {
      "text/plain": [
       "'\\nAnswer(5.)\\nThe six comparison operators are :\\na)   <     (less than)\\nb)   >     (greater than) \\nc)  <=     (less than or equal to)\\nd)  >=     (greater than or equal to)\\ne)  ==     (equal to)\\nf)   =!       (not equal to)\\n\\n'"
      ]
     },
     "execution_count": 21,
     "metadata": {},
     "output_type": "execute_result"
    }
   ],
   "source": [
    "'''\n",
    "Answer(5.)\n",
    "The six comparison operators are :\n",
    "a)   <     (less than)\n",
    "b)   >     (greater than) \n",
    "c)  <=     (less than or equal to)\n",
    "d)  >=     (greater than or equal to)\n",
    "e)  ==     (equal to)\n",
    "f)   =!       (not equal to)\n",
    "\n",
    "'''"
   ]
  },
  {
   "cell_type": "code",
   "execution_count": null,
   "id": "31579968",
   "metadata": {},
   "outputs": [],
   "source": []
  },
  {
   "cell_type": "markdown",
   "id": "a1cbf328",
   "metadata": {},
   "source": [
    "Q.6. How do you tell the difference between the equal to and assignment operators?Describe a condition and when you would use one."
   ]
  },
  {
   "cell_type": "code",
   "execution_count": 9,
   "id": "139e4b4e",
   "metadata": {},
   "outputs": [
    {
     "data": {
      "text/plain": [
       "\"\\nAnswer(6.)\\nThe difference between the equal to and assignment operators can be found by the operator sign .\\nFor equal to double equal to '==' is used but for assignment only single equal to '=' is used.\\n a = 10  ----------- Assignment\\n a == b ----------- Equal to\\n \\nAssignment operator '=' is used when we have to alot or assign some value to some variable.\\nWhile equal to operator '==' is used generally when we have to check the comparison between two values. Refer below example.\\n\""
      ]
     },
     "execution_count": 9,
     "metadata": {},
     "output_type": "execute_result"
    }
   ],
   "source": [
    "'''\n",
    "Answer(6.)\n",
    "The difference between the equal to and assignment operators can be found by the operator sign .\n",
    "For equal to double equal to '==' is used but for assignment only single equal to '=' is used.\n",
    " a = 10  ----------- Assignment\n",
    " a == b ----------- Equal to\n",
    " \n",
    "Assignment operator '=' is used when we have to alot or assign some value to some variable.\n",
    "While equal to operator '==' is used generally when we have to check the comparison between two values. Refer below example.\n",
    "'''"
   ]
  },
  {
   "cell_type": "code",
   "execution_count": 7,
   "id": "eb916ac8",
   "metadata": {},
   "outputs": [
    {
     "name": "stdout",
     "output_type": "stream",
     "text": [
      "Enter your list[55,77,88,99]\n",
      "[2, 4, 5, 55, 77, 88, 99]\n"
     ]
    }
   ],
   "source": [
    "#e.g of eqaul to and assignment operator\n",
    "\n",
    "a = [2,4,5]         # assignment operator\n",
    "b = eval(input(\"Enter your list\"))        # assignment operator\n",
    "if type(b) == list :            # equal to operator\n",
    "    a.extend(b)\n",
    "print(a)\n"
   ]
  },
  {
   "cell_type": "markdown",
   "id": "6f8e2a14",
   "metadata": {},
   "source": [
    "Q.7. Identify the three blocks in this code:\n",
    "\n",
    "spam = 0\n",
    "\n",
    "if spam == 10:\n",
    "    print('eggs')\n",
    "\n",
    "if spam > 5:\n",
    "    print('bacon')\n",
    "\n",
    "else:\n",
    "    print('ham')\n",
    "\n",
    "print('spam')\n",
    "\n",
    "print('spam')\n",
    "\n"
   ]
  },
  {
   "cell_type": "code",
   "execution_count": 13,
   "id": "b59608df",
   "metadata": {},
   "outputs": [
    {
     "name": "stdout",
     "output_type": "stream",
     "text": [
      "ham\n",
      "spam\n",
      "spam\n"
     ]
    }
   ],
   "source": [
    "#Answer(7.)\n",
    "spam = 0\n",
    "\n",
    "if spam == 10:\n",
    "    print('eggs')\n",
    "\n",
    "if spam > 5:\n",
    "    print('bacon')\n",
    "\n",
    "else:\n",
    "    print('ham')\n",
    "\n",
    "print('spam')\n",
    "\n",
    "print('spam')\n"
   ]
  },
  {
   "cell_type": "code",
   "execution_count": null,
   "id": "17f05d58",
   "metadata": {},
   "outputs": [],
   "source": []
  },
  {
   "cell_type": "markdown",
   "id": "db025461",
   "metadata": {},
   "source": [
    "Q.8. Write code that prints Hello if 1 is stored in spam, prints Howdy if 2 is stored in spam, and prints Greetings! if anything else is stored in spam."
   ]
  },
  {
   "cell_type": "code",
   "execution_count": 1,
   "id": "5feb2d5b",
   "metadata": {},
   "outputs": [
    {
     "name": "stdout",
     "output_type": "stream",
     "text": [
      "1\n",
      "Hello\n"
     ]
    }
   ],
   "source": [
    "#Answer(8)\n",
    "spam = int(input())\n",
    "if spam == 1 :\n",
    "    print(\"Hello\")\n",
    "elif spam == 2 :\n",
    "    print(\"Howdy\")\n",
    "else :\n",
    "    print(\"Greetings\")\n",
    "    "
   ]
  },
  {
   "cell_type": "code",
   "execution_count": null,
   "id": "6b87f006",
   "metadata": {},
   "outputs": [],
   "source": []
  },
  {
   "cell_type": "markdown",
   "id": "eb5ba25e",
   "metadata": {},
   "source": [
    "Q.9.If your programme is stuck in an endless loop, what keys you’ll press?"
   ]
  },
  {
   "cell_type": "code",
   "execution_count": 9,
   "id": "50505706",
   "metadata": {},
   "outputs": [
    {
     "data": {
      "text/plain": [
       "'\\nAnswer(9).\\nIf the programme is stuck in the infnite\\\\endless loop then in that case we simply interrupt \\nthe kernal to trerminate the program execution and get out of the loop.\\n'"
      ]
     },
     "execution_count": 9,
     "metadata": {},
     "output_type": "execute_result"
    }
   ],
   "source": [
    "'''\n",
    "Answer(9).\n",
    "If the programme is stuck in the infnite\\endless loop then in that case we simply interrupt \n",
    "the kernal to trerminate the program execution and get out of the loop.\n",
    "'''"
   ]
  },
  {
   "cell_type": "code",
   "execution_count": null,
   "id": "46018816",
   "metadata": {},
   "outputs": [],
   "source": []
  },
  {
   "cell_type": "markdown",
   "id": "54afafe6",
   "metadata": {},
   "source": [
    "Q.10. How can you tell the difference between break and continue?"
   ]
  },
  {
   "cell_type": "code",
   "execution_count": 10,
   "id": "074f55f1",
   "metadata": {},
   "outputs": [
    {
     "data": {
      "text/plain": [
       "\"\\nAnswer(10.)\\nThe main difference between break and continue lies in the termination of programme. The break statement is used to terminate\\nthe execution of the statement and iteration of the loop. It will move out from the previous loop by skipping the execution of the\\nremaining statement of the loop to the next statement .\\nWhile continue statement will terminate only the current iteration of loop.The ‘continue’ will resume the control of the program\\nto next iteration of that loop enclosing ‘continue'.\\n\""
      ]
     },
     "execution_count": 10,
     "metadata": {},
     "output_type": "execute_result"
    }
   ],
   "source": [
    "'''\n",
    "Answer(10.)\n",
    "The main difference between break and continue lies in the termination of programme. The break statement is used to terminate\n",
    "the execution of the statement and iteration of the loop. It will move out from the previous loop by skipping the execution of the\n",
    "remaining statement of the loop to the next statement .\n",
    "While continue statement will terminate only the current iteration of loop.The ‘continue’ will resume the control of the program\n",
    "to next iteration of that loop enclosing ‘continue'.\n",
    "'''"
   ]
  },
  {
   "cell_type": "code",
   "execution_count": 16,
   "id": "36670cd2",
   "metadata": {},
   "outputs": [
    {
     "name": "stdout",
     "output_type": "stream",
     "text": [
      "6 7 8 9 10 11 12 13 14 15 16 17 18 19 20 "
     ]
    }
   ],
   "source": [
    "#e.g\n",
    "a = 0 \n",
    "while (True) :\n",
    "    if a+1 < 7 :\n",
    "        a = a+1\n",
    "        continue                  # jumping to While line for next iteration\n",
    "    print(a, end =\" \")\n",
    "    \n",
    "    if (a == 20 ):\n",
    "        break                      #  Getting out of the loop \n",
    "    a = a+1\n",
    "        "
   ]
  },
  {
   "cell_type": "code",
   "execution_count": null,
   "id": "2ea57222",
   "metadata": {},
   "outputs": [],
   "source": []
  },
  {
   "cell_type": "markdown",
   "id": "cc0fb8f0",
   "metadata": {},
   "source": [
    "Q.11. In a for loop, what is the difference between range(10), range(0, 10), and range(0, 10, 1)?"
   ]
  },
  {
   "cell_type": "code",
   "execution_count": 24,
   "id": "33a34c76",
   "metadata": {},
   "outputs": [
    {
     "data": {
      "text/plain": [
       "'#Answer(11.)\\n\\nThere will be no difference between range(10), range(0, 10), and range(0, 10, 1) in a for loop because by default \\nthe first argument if not given is considered as 0 and simillarly the last argument which is step size if not given \\nis considered as 1.\\n\\nrange(stop)  ---------- range(10)\\nrange(start, stop)------range(0,10)\\nrange(start,stop,step)--range(0,10,1)\\n'"
      ]
     },
     "execution_count": 24,
     "metadata": {},
     "output_type": "execute_result"
    }
   ],
   "source": [
    "'''#Answer(11.)\n",
    "\n",
    "There will be no difference between range(10), range(0, 10), and range(0, 10, 1) in a for loop because by default \n",
    "the first argument if not given is considered as 0 and simillarly the last argument which is step size if not given \n",
    "is considered as 1.\n",
    "\n",
    "range(stop)  ---------- range(10)\n",
    "range(start, stop)------range(0,10)\n",
    "range(start,stop,step)--range(0,10,1)\n",
    "'''"
   ]
  },
  {
   "cell_type": "markdown",
   "id": "0b4b98d5",
   "metadata": {},
   "source": [
    "for i in range(10) :\n",
    "    print(i , end = \" \")"
   ]
  },
  {
   "cell_type": "code",
   "execution_count": 22,
   "id": "2cc99779",
   "metadata": {},
   "outputs": [
    {
     "name": "stdout",
     "output_type": "stream",
     "text": [
      "0 1 2 3 4 5 6 7 8 9 "
     ]
    }
   ],
   "source": [
    "for i in range(0,10) :\n",
    "    print(i, end = \" \")"
   ]
  },
  {
   "cell_type": "code",
   "execution_count": 23,
   "id": "457d7bfd",
   "metadata": {
    "scrolled": true
   },
   "outputs": [
    {
     "name": "stdout",
     "output_type": "stream",
     "text": [
      "0 1 2 3 4 5 6 7 8 9 "
     ]
    }
   ],
   "source": [
    "for i in range(0,10,1) :\n",
    "    print(i, end =\" \")"
   ]
  },
  {
   "cell_type": "code",
   "execution_count": null,
   "id": "e2ed089b",
   "metadata": {},
   "outputs": [],
   "source": []
  },
  {
   "cell_type": "markdown",
   "id": "c8948948",
   "metadata": {},
   "source": [
    "Q.12. Write a short program that prints the numbers 1 to 10 using a for loop. Then write an equivalent program that prints the numbers 1 to 10 using a while loop."
   ]
  },
  {
   "cell_type": "code",
   "execution_count": 27,
   "id": "74975ae4",
   "metadata": {},
   "outputs": [
    {
     "name": "stdout",
     "output_type": "stream",
     "text": [
      "1  2  3  4  5  6  7  8  9  10  "
     ]
    }
   ],
   "source": [
    "#Using for loop\n",
    "for i in range(1,11) :\n",
    "    print(i , end = \"  \")"
   ]
  },
  {
   "cell_type": "code",
   "execution_count": 34,
   "id": "003da5a5",
   "metadata": {},
   "outputs": [
    {
     "name": "stdout",
     "output_type": "stream",
     "text": [
      "1  2  3  4  5  6  7  8  9  10  "
     ]
    }
   ],
   "source": [
    "#Using while loop\n",
    "a = 1\n",
    "while a < 11 :\n",
    "    print(a , end = \"  \")\n",
    "    a = a+1\n",
    "    "
   ]
  },
  {
   "cell_type": "code",
   "execution_count": null,
   "id": "08feb451",
   "metadata": {},
   "outputs": [],
   "source": []
  },
  {
   "cell_type": "markdown",
   "id": "97004461",
   "metadata": {},
   "source": [
    "Q.13. If you had a function named bacon() inside a module named spam, how would you call it after importing spam?"
   ]
  },
  {
   "cell_type": "code",
   "execution_count": 36,
   "id": "49e51f7b",
   "metadata": {},
   "outputs": [
    {
     "data": {
      "text/plain": [
       "'\\nfrom spam import bacon\\n'"
      ]
     },
     "execution_count": 36,
     "metadata": {},
     "output_type": "execute_result"
    }
   ],
   "source": [
    "'''\n",
    "from spam import bacon\n",
    "'''"
   ]
  },
  {
   "cell_type": "code",
   "execution_count": null,
   "id": "a40dbb0a",
   "metadata": {},
   "outputs": [],
   "source": []
  }
 ],
 "metadata": {
  "kernelspec": {
   "display_name": "Python 3 (ipykernel)",
   "language": "python",
   "name": "python3"
  },
  "language_info": {
   "codemirror_mode": {
    "name": "ipython",
    "version": 3
   },
   "file_extension": ".py",
   "mimetype": "text/x-python",
   "name": "python",
   "nbconvert_exporter": "python",
   "pygments_lexer": "ipython3",
   "version": "3.9.7"
  }
 },
 "nbformat": 4,
 "nbformat_minor": 5
}
