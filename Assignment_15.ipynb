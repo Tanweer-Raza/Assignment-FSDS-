{
 "cells": [
  {
   "cell_type": "code",
   "execution_count": null,
   "id": "64bee4a7",
   "metadata": {},
   "outputs": [],
   "source": [
    "1. How many seconds are in an hour? Use the interactive interpreter as a calculator and multiply the number of seconds in a minute (60) by the number of minutes in an hour (also 60).\n",
    "2. Assign the result from the previous task (seconds in an hour) to a variable called seconds_per_hour.\n",
    "3. How many seconds do you think there are in a day? Make use of the variables seconds per hour and minutes per hour.\n",
    "4. Calculate seconds per day again, but this time save the result in a variable called seconds_per_day\n",
    "5. Divide seconds_per_day by seconds_per_hour. Use floating-point (/) division.\n",
    "6. Divide seconds_per_day by seconds_per_hour, using integer (//) division. Did this number agree with the floating-point value from the previous question, aside from the final .0?\n",
    "7. Write a generator, genPrimes, that returns the sequence of prime numbers on successive calls to its next() method: 2, 3, 5, 7, 11, ...\n"
   ]
  },
  {
   "cell_type": "code",
   "execution_count": null,
   "id": "c1689050",
   "metadata": {},
   "outputs": [],
   "source": []
  },
  {
   "cell_type": "markdown",
   "id": "9ea4d8ad",
   "metadata": {},
   "source": [
    "### Q.1. How many seconds are in an hour? Use the interactive interpreter as a calculator and multiply the number of seconds in a minute (60) by the number of minutes in an hour (also 60)."
   ]
  },
  {
   "cell_type": "code",
   "execution_count": 1,
   "id": "d5adce85",
   "metadata": {},
   "outputs": [],
   "source": [
    "seconds_hour = 60*60"
   ]
  },
  {
   "cell_type": "code",
   "execution_count": null,
   "id": "175f4bfa",
   "metadata": {},
   "outputs": [],
   "source": []
  },
  {
   "cell_type": "markdown",
   "id": "e0253e07",
   "metadata": {},
   "source": [
    "### Q.2. Assign the result from the previous task (seconds in an hour) to a variable called seconds_per_hour. "
   ]
  },
  {
   "cell_type": "code",
   "execution_count": 2,
   "id": "f78d287f",
   "metadata": {},
   "outputs": [],
   "source": [
    "seconds_per_hour = seconds_hour"
   ]
  },
  {
   "cell_type": "code",
   "execution_count": null,
   "id": "3718c390",
   "metadata": {},
   "outputs": [],
   "source": []
  },
  {
   "cell_type": "markdown",
   "id": "58762b74",
   "metadata": {},
   "source": [
    "### Q.3. How many seconds do you think there are in a day? Make use of the variables seconds per hour and minutes per hour. "
   ]
  },
  {
   "cell_type": "code",
   "execution_count": 3,
   "id": "a1beb6b1",
   "metadata": {},
   "outputs": [],
   "source": [
    "seconds_day = seconds_per_hour * 24"
   ]
  },
  {
   "cell_type": "code",
   "execution_count": null,
   "id": "5edb5d5d",
   "metadata": {},
   "outputs": [],
   "source": []
  },
  {
   "cell_type": "markdown",
   "id": "f1c125f5",
   "metadata": {},
   "source": [
    "### Q.4. Calculate seconds per day again, but this time save the result in a variable called seconds_per_day "
   ]
  },
  {
   "cell_type": "code",
   "execution_count": 4,
   "id": "3c630121",
   "metadata": {},
   "outputs": [],
   "source": [
    " seconds_per_day = seconds_day "
   ]
  },
  {
   "cell_type": "code",
   "execution_count": null,
   "id": "94fc3ef8",
   "metadata": {},
   "outputs": [],
   "source": []
  },
  {
   "cell_type": "markdown",
   "id": "0a1307ee",
   "metadata": {},
   "source": [
    "### Q.5  Divide seconds_per_day by seconds_per_hour. Use floating-point (/) division."
   ]
  },
  {
   "cell_type": "code",
   "execution_count": 5,
   "id": "3e18dbd5",
   "metadata": {},
   "outputs": [
    {
     "data": {
      "text/plain": [
       "24.0"
      ]
     },
     "execution_count": 5,
     "metadata": {},
     "output_type": "execute_result"
    }
   ],
   "source": [
    "seconds_per_day / seconds_per_hour"
   ]
  },
  {
   "cell_type": "code",
   "execution_count": null,
   "id": "7ce19b84",
   "metadata": {},
   "outputs": [],
   "source": []
  },
  {
   "cell_type": "markdown",
   "id": "971bf3c4",
   "metadata": {},
   "source": [
    "### Q.6. Divide seconds_per_day by seconds_per_hour, using integer (//) division. Did this number agree with the floating-point value from the previous question, aside from the final .0? "
   ]
  },
  {
   "cell_type": "code",
   "execution_count": null,
   "id": "15758be9",
   "metadata": {},
   "outputs": [],
   "source": [
    "seconds_per_day // seconds_per_hour"
   ]
  },
  {
   "cell_type": "code",
   "execution_count": null,
   "id": "be59d31a",
   "metadata": {},
   "outputs": [],
   "source": []
  },
  {
   "cell_type": "markdown",
   "id": "ad295b85",
   "metadata": {},
   "source": [
    "### Q.7. Write a generator, genPrimes, that returns the sequence of prime numbers on successive calls to its next() method: 2, 3, 5, 7, 11, ...\n",
    " "
   ]
  },
  {
   "cell_type": "code",
   "execution_count": 199,
   "id": "26b2c9bd",
   "metadata": {},
   "outputs": [],
   "source": [
    "def genPrimes():\n",
    "    primes = []   # primes generated so far\n",
    "    last_no = 1      # last number tried\n",
    "    while True:   #If we write while True then the loop will run forever.\n",
    "        last_no += 1\n",
    "        for p in primes:\n",
    "            if last_no % p == 0:\n",
    "                break\n",
    "        else:   #The else block just after for/while is executed only when the loop is NOT terminated by a break statement.\n",
    "            primes.append(last_no)\n",
    "            yield last_no"
   ]
  },
  {
   "cell_type": "code",
   "execution_count": 200,
   "id": "f79ea181",
   "metadata": {},
   "outputs": [],
   "source": [
    "g = genPrimes()"
   ]
  },
  {
   "cell_type": "code",
   "execution_count": 201,
   "id": "63132523",
   "metadata": {},
   "outputs": [
    {
     "data": {
      "text/plain": [
       "2"
      ]
     },
     "execution_count": 201,
     "metadata": {},
     "output_type": "execute_result"
    }
   ],
   "source": [
    "next(g)"
   ]
  },
  {
   "cell_type": "code",
   "execution_count": 202,
   "id": "1b6d2be5",
   "metadata": {},
   "outputs": [
    {
     "data": {
      "text/plain": [
       "3"
      ]
     },
     "execution_count": 202,
     "metadata": {},
     "output_type": "execute_result"
    }
   ],
   "source": [
    "next(g)"
   ]
  },
  {
   "cell_type": "code",
   "execution_count": 203,
   "id": "cd92fa08",
   "metadata": {},
   "outputs": [
    {
     "data": {
      "text/plain": [
       "5"
      ]
     },
     "execution_count": 203,
     "metadata": {},
     "output_type": "execute_result"
    }
   ],
   "source": [
    "next(g)"
   ]
  },
  {
   "cell_type": "code",
   "execution_count": 204,
   "id": "6c914be5",
   "metadata": {},
   "outputs": [
    {
     "data": {
      "text/plain": [
       "7"
      ]
     },
     "execution_count": 204,
     "metadata": {},
     "output_type": "execute_result"
    }
   ],
   "source": [
    "next(g)"
   ]
  },
  {
   "cell_type": "markdown",
   "id": "9dfb1316",
   "metadata": {},
   "source": [
    "#### What does the yield keyword do?\n",
    "    \n",
    "    yield in Python can be used like the return statement in a function. When done so, the function instead of returning the output, it returns a generator that can be iterated upon.\n",
    "    \n",
    "    We can then iterate through the generator to extract items. Iterating is done using a for loop or simply using the next() function. \n",
    "    \n",
    "    Each time you iterate, Python runs the code until it encounters a yield statement inside the function. Then, it sends the yielded value and pauses the function in that state without exiting.\n",
    "\n",
    "    When the function is invoked the next time, the state at which it was last paused is remembered and execution is continued from that point onwards. This continues until the generator is exhausted."
   ]
  },
  {
   "cell_type": "markdown",
   "id": "dbf5cdff",
   "metadata": {},
   "source": [
    "#### how yield is different from using the return keyword?\n",
    "   \n",
    "       if we had used return in place of yield, the function would have returned the respective value, all the \n",
    "       local variable values that the function had earlier computed would be cleared off and the next time the \n",
    "       function is called, the function execution will start fresh."
   ]
  },
  {
   "cell_type": "code",
   "execution_count": null,
   "id": "b19884e3",
   "metadata": {},
   "outputs": [],
   "source": []
  },
  {
   "cell_type": "code",
   "execution_count": 182,
   "id": "365c82e4",
   "metadata": {},
   "outputs": [],
   "source": [
    "def PrimeNumbers(n):\n",
    "    \"\"\"\n",
    "    Getting first n prime numbers\n",
    "    \"\"\"\n",
    "    prime_no = []\n",
    "    m = 2\n",
    "    while m <= n:\n",
    "        for p in prime_no:\n",
    "            if m % p == 0:\n",
    "                m += 1\n",
    "                break\n",
    "                     \n",
    "        else:\n",
    "            prime_no.append(m)\n",
    "    return prime_no           "
   ]
  },
  {
   "cell_type": "code",
   "execution_count": 185,
   "id": "5906dad8",
   "metadata": {
    "scrolled": true
   },
   "outputs": [],
   "source": [
    "a = PrimeNumbers(10)"
   ]
  },
  {
   "cell_type": "code",
   "execution_count": 186,
   "id": "f336e860",
   "metadata": {
    "scrolled": true
   },
   "outputs": [
    {
     "name": "stdout",
     "output_type": "stream",
     "text": [
      "[2, 3, 5, 7]\n"
     ]
    }
   ],
   "source": [
    "print(a)"
   ]
  },
  {
   "cell_type": "code",
   "execution_count": null,
   "id": "dd6645d7",
   "metadata": {},
   "outputs": [],
   "source": []
  }
 ],
 "metadata": {
  "kernelspec": {
   "display_name": "Python 3 (ipykernel)",
   "language": "python",
   "name": "python3"
  },
  "language_info": {
   "codemirror_mode": {
    "name": "ipython",
    "version": 3
   },
   "file_extension": ".py",
   "mimetype": "text/x-python",
   "name": "python",
   "nbconvert_exporter": "python",
   "pygments_lexer": "ipython3",
   "version": "3.9.7"
  }
 },
 "nbformat": 4,
 "nbformat_minor": 5
}
