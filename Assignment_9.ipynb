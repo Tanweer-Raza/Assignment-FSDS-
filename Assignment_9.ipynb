{
 "cells": [
  {
   "cell_type": "markdown",
   "id": "8f8e413c",
   "metadata": {},
   "source": [
    "### Q. 1. To what does a relative path refer?"
   ]
  },
  {
   "cell_type": "markdown",
   "id": "73e7d34f",
   "metadata": {},
   "source": [
    "    Ans.1) Relative path means the path of a certain file relative to the current working directory.\n",
    "    The absolute path is helpful, but it can become complex very soon. So, to minimize this complexity, a relative path is used. Relative path means the path of a certain file relative to the current working directory.\n",
    "\n",
    "    A relative path starts with /, ./ or ../\n",
    "\n",
    "    For example, if the current working directory is C:\\PythonProjects\\Tutorials, the path.py file’s relative path would be \\Paths\\paths.py which is shorter and easier to use than the absolute path C:\\PythonProjects\\Tutorials\\Paths\\paths.py."
   ]
  },
  {
   "cell_type": "code",
   "execution_count": null,
   "id": "979637a1",
   "metadata": {},
   "outputs": [],
   "source": []
  },
  {
   "cell_type": "markdown",
   "id": "36b1182d",
   "metadata": {},
   "source": [
    "### Q.2. What does an absolute path start with your operating system? "
   ]
  },
  {
   "cell_type": "markdown",
   "id": "b17be6f8",
   "metadata": {},
   "source": [
    "    Ans.2) An absolute path refers to the complete details needed to locate a file or folder, starting from the root element and ending with the other subdirectories."
   ]
  },
  {
   "cell_type": "code",
   "execution_count": null,
   "id": "0adac0a6",
   "metadata": {},
   "outputs": [],
   "source": []
  },
  {
   "cell_type": "markdown",
   "id": "91a541dd",
   "metadata": {},
   "source": [
    "### Q.3. What do the functions os.getcwd() and os.chdir() do? "
   ]
  },
  {
   "cell_type": "markdown",
   "id": "68bf4451",
   "metadata": {},
   "source": [
    "    Ans.3) \n",
    "     os.getcwd() : It is used to get the current working directory.\n",
    " \n",
    "     os.chdir()  : It Change the current working directory to the specified path."
   ]
  },
  {
   "cell_type": "code",
   "execution_count": 38,
   "id": "358d3725",
   "metadata": {},
   "outputs": [
    {
     "data": {
      "text/plain": [
       "'C:\\\\Users\\\\tanat\\\\iNeuron_clasees\\\\Assignment (FSDS)'"
      ]
     },
     "execution_count": 38,
     "metadata": {},
     "output_type": "execute_result"
    }
   ],
   "source": [
    "import os\n",
    "os.getcwd()"
   ]
  },
  {
   "cell_type": "code",
   "execution_count": null,
   "id": "0bc7ae77",
   "metadata": {},
   "outputs": [],
   "source": []
  },
  {
   "cell_type": "markdown",
   "id": "c58825b6",
   "metadata": {},
   "source": [
    "### Q.4. What are the . and .. folders? "
   ]
  },
  {
   "cell_type": "markdown",
   "id": "fd6de00e",
   "metadata": {},
   "source": [
    "    Ans.4) \n",
    "    A relative path refers to a location that is relative to a current directory. Relative paths make use of two special symbols, a dot (.) and a double-dot (..), which translate into the current directory and the parent directory. Double dots are used for moving up in the hierarchy.\n",
    "\n",
    "       Example:  /usr/docs/document_root/../orders/orders.txt    will be    usr/docs/orders/orders.txt Here moving up in the hierarchy by erasing the \"document_root\" part."
   ]
  },
  {
   "cell_type": "code",
   "execution_count": null,
   "id": "325101f4",
   "metadata": {},
   "outputs": [],
   "source": []
  },
  {
   "cell_type": "markdown",
   "id": "2547dde9",
   "metadata": {},
   "source": [
    "###  Q.5. In C:\\bacon\\eggs\\spam.txt, which part is the dir name, and which part is the base name?"
   ]
  },
  {
   "cell_type": "markdown",
   "id": "bff21a2d",
   "metadata": {},
   "source": [
    "    Ans.5) C:\\bacon\\eggs - dir name\n",
    "    spam.txt - base name"
   ]
  },
  {
   "cell_type": "code",
   "execution_count": null,
   "id": "45d34889",
   "metadata": {},
   "outputs": [],
   "source": [
    "open"
   ]
  },
  {
   "cell_type": "markdown",
   "id": "6afb34d4",
   "metadata": {},
   "source": [
    "### Q. 6. What are the three “mode” arguments that can be passed to the open() function?"
   ]
  },
  {
   "cell_type": "markdown",
   "id": "a7cb9cef",
   "metadata": {},
   "source": [
    "    Ans.6) Mode is an optional string that specifies the mode in which the file is opened. It defaults to 'r' which means open for reading in text mode. The other three mode arguments that can be passed are as follows:\n",
    "\n",
    "    \"w\" for write mode.\n",
    "\n",
    "    \"a\" for append mode.\n",
    "\n",
    "    \"x\" for creating and writing to a new file."
   ]
  },
  {
   "cell_type": "code",
   "execution_count": null,
   "id": "f7196dba",
   "metadata": {},
   "outputs": [],
   "source": []
  },
  {
   "cell_type": "markdown",
   "id": "232aed5a",
   "metadata": {},
   "source": [
    "### Q.7  What happens if an existing file is opened in write mode?"
   ]
  },
  {
   "cell_type": "markdown",
   "id": "7cf8d171",
   "metadata": {},
   "source": [
    "    Ans.7) If an existing file is already opened in write mode then content of the  existing file will be completely will be overwritten."
   ]
  },
  {
   "cell_type": "code",
   "execution_count": null,
   "id": "1c5bbb64",
   "metadata": {},
   "outputs": [],
   "source": []
  },
  {
   "cell_type": "markdown",
   "id": "25e27d36",
   "metadata": {},
   "source": [
    "### Q.8. How do you tell the difference between read() and readlines()? "
   ]
  },
  {
   "cell_type": "markdown",
   "id": "56c6d72f",
   "metadata": {},
   "source": [
    "    Ans.8) The read() method returns the file's entire contents as a single string value. The readlines() method returns a list of strings, where each string is a line from the file's contents."
   ]
  },
  {
   "cell_type": "code",
   "execution_count": null,
   "id": "84382e8f",
   "metadata": {},
   "outputs": [],
   "source": []
  },
  {
   "cell_type": "markdown",
   "id": "0f788055",
   "metadata": {},
   "source": [
    "### Q.9. What data structure does a shelf value resemble? "
   ]
  },
  {
   "cell_type": "markdown",
   "id": "895ddcdc",
   "metadata": {},
   "source": [
    "    Ans.9) A shelf value  resembles a dictionary value. \".dir\" file which is created using shelve module will store key-value data . Keys() and values() methods applicable here similarly to the dictionary methods of the same names."
   ]
  },
  {
   "cell_type": "code",
   "execution_count": 44,
   "id": "b78462df",
   "metadata": {},
   "outputs": [],
   "source": [
    "#Example:\n",
    "import shelve\n",
    "s = shelve.open(\"demo\")\n",
    "s['name'] = \"Ajay\"\n",
    "s['age'] = 23\n",
    "s['marks'] = 75\n",
    "s.close()"
   ]
  },
  {
   "cell_type": "code",
   "execution_count": 45,
   "id": "ca8a6415",
   "metadata": {},
   "outputs": [
    {
     "data": {
      "text/plain": [
       "23"
      ]
     },
     "execution_count": 45,
     "metadata": {},
     "output_type": "execute_result"
    }
   ],
   "source": [
    "s=shelve.open('demo')\n",
    "s['age']"
   ]
  },
  {
   "cell_type": "code",
   "execution_count": 47,
   "id": "796d8e68",
   "metadata": {},
   "outputs": [
    {
     "data": {
      "text/plain": [
       "[('name', 'Ajay'), ('age', 23), ('marks', 75)]"
      ]
     },
     "execution_count": 47,
     "metadata": {},
     "output_type": "execute_result"
    }
   ],
   "source": [
    "list(s.items())"
   ]
  },
  {
   "cell_type": "code",
   "execution_count": 48,
   "id": "66a0dc25",
   "metadata": {},
   "outputs": [
    {
     "data": {
      "text/plain": [
       "['Ajay', 23, 75]"
      ]
     },
     "execution_count": 48,
     "metadata": {},
     "output_type": "execute_result"
    }
   ],
   "source": [
    "list(s.values())"
   ]
  },
  {
   "cell_type": "code",
   "execution_count": 49,
   "id": "c77403b7",
   "metadata": {},
   "outputs": [],
   "source": [
    "s.close()"
   ]
  },
  {
   "cell_type": "code",
   "execution_count": null,
   "id": "d9d2bd91",
   "metadata": {},
   "outputs": [],
   "source": []
  },
  {
   "cell_type": "code",
   "execution_count": null,
   "id": "73440afb",
   "metadata": {},
   "outputs": [],
   "source": []
  }
 ],
 "metadata": {
  "kernelspec": {
   "display_name": "Python 3 (ipykernel)",
   "language": "python",
   "name": "python3"
  },
  "language_info": {
   "codemirror_mode": {
    "name": "ipython",
    "version": 3
   },
   "file_extension": ".py",
   "mimetype": "text/x-python",
   "name": "python",
   "nbconvert_exporter": "python",
   "pygments_lexer": "ipython3",
   "version": "3.9.7"
  }
 },
 "nbformat": 4,
 "nbformat_minor": 5
}
