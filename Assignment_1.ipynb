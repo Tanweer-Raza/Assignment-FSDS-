{
 "cells": [
  {
   "cell_type": "markdown",
   "id": "ee72df5e",
   "metadata": {},
   "source": [
    "Q.1.In the below elements which of them are values or an expression? eg:- values can be integer or string and expressions will be mathematical operators.\n",
    "\n",
    "*\n",
    "\n",
    "'hello'\n",
    "\n",
    "-87.8\n",
    "\n",
    "-\n",
    "\n",
    "/\n",
    "\n",
    "+\n",
    "\n",
    "6"
   ]
  },
  {
   "cell_type": "code",
   "execution_count": 11,
   "id": "49e47e1f",
   "metadata": {},
   "outputs": [],
   "source": [
    "# Answer  (1.)\n",
    "#      * ------------- expression\n",
    "#       'hello' ------------ value(string)\n",
    "#       -87.8 -------------value(float)\n",
    "#        -    ---------------expression\n",
    "#        /    ---------------expression\n",
    "#        +      ---------------expression\n",
    "#         6   ----------------- value(integer)"
   ]
  },
  {
   "cell_type": "code",
   "execution_count": null,
   "id": "b71f6df2",
   "metadata": {},
   "outputs": [],
   "source": []
  },
  {
   "cell_type": "code",
   "execution_count": null,
   "id": "00fb4f88",
   "metadata": {},
   "outputs": [],
   "source": [
    "Q.2 What is the difference between string and variable?"
   ]
  },
  {
   "cell_type": "code",
   "execution_count": 26,
   "id": "b78b53b9",
   "metadata": {},
   "outputs": [
    {
     "data": {
      "text/plain": [
       "'\\nAnswer (2.)\\n  A variable is something that holds a value or infromation that may change. In simple words variables are symbols \\n  that we can use to store data in a program .\\n  Where as a string is a type of information that can be stored in a variable. A string is usually words,\\n  enclose with \" string \"\\n\\n'"
      ]
     },
     "execution_count": 26,
     "metadata": {},
     "output_type": "execute_result"
    }
   ],
   "source": [
    "'''\n",
    "Answer (2.)\n",
    "  A variable is something that holds a value or infromation that may change. In simple words variables are symbols \n",
    "  that we can use to store data in a program .\n",
    "  Where as a string is a type of information that can be stored in a variable. A string is usually words,\n",
    "  enclose with \" string \"\n",
    "\n",
    "'''"
   ]
  },
  {
   "cell_type": "code",
   "execution_count": null,
   "id": "776de49f",
   "metadata": {},
   "outputs": [],
   "source": []
  },
  {
   "cell_type": "code",
   "execution_count": null,
   "id": "9d1c3b83",
   "metadata": {},
   "outputs": [],
   "source": [
    "Q.3  Describe different data types."
   ]
  },
  {
   "cell_type": "code",
   "execution_count": 31,
   "id": "d12be9ca",
   "metadata": {},
   "outputs": [
    {
     "data": {
      "text/plain": [
       "'\\nAnswer(3.).\\n    The different types of data types are as follows :\\n        a) Integer type  (e.g :  4,  8,  -34 etc)\\n        b) Floating point type (e.g :  -78.35 , 0.0 , 4.356 etc)\\n        c) String type (e.g : \"Hello Python\")\\n        d) Boolean type (e.g. : true , false)\\n'"
      ]
     },
     "execution_count": 31,
     "metadata": {},
     "output_type": "execute_result"
    }
   ],
   "source": [
    "'''\n",
    "Answer(3.).\n",
    "    The different types of data types are as follows :\n",
    "        a) Integer type  (e.g :  4,  8,  -34 etc)\n",
    "        b) Floating point type (e.g :  -78.35 , 0.0 , 4.356 etc)\n",
    "        c) String type (e.g : \"Hello Python\")\n",
    "        d) Boolean type (e.g. : true , false)\n",
    "'''"
   ]
  },
  {
   "cell_type": "code",
   "execution_count": null,
   "id": "74b0fad3",
   "metadata": {},
   "outputs": [],
   "source": []
  },
  {
   "cell_type": "code",
   "execution_count": null,
   "id": "38fe52db",
   "metadata": {},
   "outputs": [],
   "source": [
    "Q.4. What is an expression made up of? What do all expressions do"
   ]
  },
  {
   "cell_type": "code",
   "execution_count": 30,
   "id": "fcf0a31b",
   "metadata": {},
   "outputs": [
    {
     "data": {
      "text/plain": [
       "'\\nAnswer(4).\\n  An expression is a combination of operators and operands that is interpreted to produce\\n   some other value.\\n \\n   Types of expressions are as follows :\\n \\n    a) Constant Expression - Having only constant values only.\\n \\n    b) Arithematic Expression - An arithmetic expression is a combination of numeric values,\\n      operators, and sometimes parenthesis. The result of this type of expression is also a numeric value.\\n      some operators used in this expression are \\n      +      x + y       Addition\\n      –      x – y      Subtraction\\n      *       x * y       Multiplication\\n      /       x / y        Division\\n      //      x // y      Quotient\\n      %      x % y       Remainder\\n      **      x ** y      Exponentiation\\n      \\n      c) Integral Expressions: These are the kind of expressions that produce only integer results after all computations and type conversions.\\n    \\n      d) Floating Expressions: These are the kind of expressions which produce floating point numbers as result after all computations and type conversions.\\n      \\n      e) Relational Expressions: In these types of expressions, arithmetic expressions are written on both sides of relational operator (> , < , >= , <=). \\n          Those arithmetic expressions are evaluated first, and then compared as per relational operator and produce a boolean output in the end.\\n          \\n      f) Logical Expressions: These are kinds of expressions that result in either True or False. Some logical operators are OR, AND,NOT etc\\n'"
      ]
     },
     "execution_count": 30,
     "metadata": {},
     "output_type": "execute_result"
    }
   ],
   "source": [
    "'''\n",
    "Answer(4).\n",
    "  An expression is a combination of operators and operands that is interpreted to produce\n",
    "   some other value.\n",
    " \n",
    "   Types of expressions are as follows :\n",
    " \n",
    "    a) Constant Expression - Having only constant values only.\n",
    " \n",
    "    b) Arithematic Expression - An arithmetic expression is a combination of numeric values,\n",
    "      operators, and sometimes parenthesis. The result of this type of expression is also a numeric value.\n",
    "      some operators used in this expression are \n",
    "      +      x + y       Addition\n",
    "      –      x – y      Subtraction\n",
    "      *       x * y       Multiplication\n",
    "      /       x / y        Division\n",
    "      //      x // y      Quotient\n",
    "      %      x % y       Remainder\n",
    "      **      x ** y      Exponentiation\n",
    "      \n",
    "      c) Integral Expressions: These are the kind of expressions that produce only integer results after all computations and type conversions.\n",
    "    \n",
    "      d) Floating Expressions: These are the kind of expressions which produce floating point numbers as result after all computations and type conversions.\n",
    "      \n",
    "      e) Relational Expressions: In these types of expressions, arithmetic expressions are written on both sides of relational operator (> , < , >= , <=). \n",
    "          Those arithmetic expressions are evaluated first, and then compared as per relational operator and produce a boolean output in the end.\n",
    "          \n",
    "      f) Logical Expressions: These are kinds of expressions that result in either True or False. Some logical operators are OR, AND,NOT etc\n",
    "'''"
   ]
  },
  {
   "cell_type": "code",
   "execution_count": null,
   "id": "d122e08f",
   "metadata": {},
   "outputs": [],
   "source": []
  },
  {
   "cell_type": "markdown",
   "id": "24feeb86",
   "metadata": {},
   "source": [
    "Q.5 . This assignment statements, like spam = 10. What is the difference between an expression and a statement?"
   ]
  },
  {
   "cell_type": "code",
   "execution_count": 34,
   "id": "b50de806",
   "metadata": {},
   "outputs": [
    {
     "data": {
      "text/plain": [
       "'\\nAnswer(5.) \\n    Anything that evaluates to something is an expression, while on the other hand , anything that does something is a statement.\\n    Expressions always returns a value but statements never returns a value. Expressions can print the result value unlike statement. \\n    Examples of expressions are \"sudh\" + \"tan\" , 4+7 etc\\n    \\n    Examples of statements are assignment statements, conditional branching , loops ,\\n    classes , import, def , try , except , pass , del etc.\\n    \\n    \\n    In the given question spam = 10 is an assignment statement.\\n    '"
      ]
     },
     "execution_count": 34,
     "metadata": {},
     "output_type": "execute_result"
    }
   ],
   "source": [
    "'''\n",
    "Answer(5.) \n",
    "    Anything that evaluates to something is an expression, while on the other hand , anything that does something is a statement.\n",
    "    Expressions always returns a value but statements never returns a value. Expressions can print the result value unlike statement. \n",
    "    Examples of expressions are \"sudh\" + \"tan\" , 4+7 etc\n",
    "    \n",
    "    Examples of statements are assignment statements, conditional branching , loops ,\n",
    "    classes , import, def , try , except , pass , del etc.\n",
    "    \n",
    "    \n",
    "    In the given question spam = 10 is an assignment statement.\n",
    "    '''"
   ]
  },
  {
   "cell_type": "code",
   "execution_count": null,
   "id": "60b52ad4",
   "metadata": {},
   "outputs": [],
   "source": []
  },
  {
   "cell_type": "markdown",
   "id": "c417366b",
   "metadata": {},
   "source": [
    "Q.6. After running the following code, what does the variable bacon contain? \n",
    "\n",
    "    bacon = 22\n",
    "\n",
    "    bacon + 1"
   ]
  },
  {
   "cell_type": "code",
   "execution_count": 35,
   "id": "1b9ec645",
   "metadata": {},
   "outputs": [
    {
     "data": {
      "text/plain": [
       "23"
      ]
     },
     "execution_count": 35,
     "metadata": {},
     "output_type": "execute_result"
    }
   ],
   "source": [
    "#Answer (6.)\n",
    "bacon = 22\n",
    "bacon +1"
   ]
  },
  {
   "cell_type": "code",
   "execution_count": null,
   "id": "d3a3a4d8",
   "metadata": {},
   "outputs": [],
   "source": []
  },
  {
   "cell_type": "markdown",
   "id": "30d2ca35",
   "metadata": {},
   "source": [
    "Q.7. What should the values of the following two terms be? \n",
    "\n",
    "    'spam' + 'spamspam'\n",
    "    \n",
    "    'spam' * 3"
   ]
  },
  {
   "cell_type": "code",
   "execution_count": 36,
   "id": "13475d60",
   "metadata": {},
   "outputs": [
    {
     "data": {
      "text/plain": [
       "'spamspam'"
      ]
     },
     "execution_count": 36,
     "metadata": {},
     "output_type": "execute_result"
    }
   ],
   "source": [
    "'spam' + 'spam'"
   ]
  },
  {
   "cell_type": "code",
   "execution_count": 37,
   "id": "3652f980",
   "metadata": {},
   "outputs": [
    {
     "data": {
      "text/plain": [
       "'spamspamspam'"
      ]
     },
     "execution_count": 37,
     "metadata": {},
     "output_type": "execute_result"
    }
   ],
   "source": [
    "'spam' * 3"
   ]
  },
  {
   "cell_type": "code",
   "execution_count": null,
   "id": "608cb725",
   "metadata": {},
   "outputs": [],
   "source": []
  },
  {
   "cell_type": "markdown",
   "id": "0b8a82f5",
   "metadata": {},
   "source": [
    "8. Why is eggs a valid variable name while 100 is invalid?"
   ]
  },
  {
   "cell_type": "code",
   "execution_count": 40,
   "id": "5f43476a",
   "metadata": {},
   "outputs": [
    {
     "data": {
      "text/plain": [
       "'\\nAnswer(8.)\\n    A variable name can consist of alphabets (upper case, lower case), numbers (0-9), and _ (underscore) character.\\n    But the name of any variable must not start with a number. Any number is a constant value so it can not be used as a variable.\\n'"
      ]
     },
     "execution_count": 40,
     "metadata": {},
     "output_type": "execute_result"
    }
   ],
   "source": [
    "'''\n",
    "Answer(8.)\n",
    "    A variable name can consist of alphabets (upper case, lower case), numbers (0-9), and _ (underscore) character.\n",
    "    But the name of any variable must not start with a number. Any number is a constant value so it can not be used as a variable.\n",
    "'''"
   ]
  },
  {
   "cell_type": "code",
   "execution_count": null,
   "id": "519bca3b",
   "metadata": {},
   "outputs": [],
   "source": []
  },
  {
   "cell_type": "markdown",
   "id": "0b7d1273",
   "metadata": {},
   "source": [
    "Q.9. What three functions can be used to get the integer, floating-point number, or string version of a value?"
   ]
  },
  {
   "cell_type": "code",
   "execution_count": 42,
   "id": "9824e38b",
   "metadata": {},
   "outputs": [
    {
     "data": {
      "text/plain": [
       "'\\nAnswer(9.)\\n    For integer -  int     \\n    For floating point number -  float        \\n    For string    -  str         \\n'"
      ]
     },
     "execution_count": 42,
     "metadata": {},
     "output_type": "execute_result"
    }
   ],
   "source": [
    "'''\n",
    "Answer(9.)\n",
    "    For integer -  int     \n",
    "    For floating point number -  float        \n",
    "    For string    -  str         \n",
    "'''"
   ]
  },
  {
   "cell_type": "code",
   "execution_count": null,
   "id": "c64912db",
   "metadata": {},
   "outputs": [],
   "source": []
  },
  {
   "cell_type": "markdown",
   "id": "e0ba3418",
   "metadata": {},
   "source": [
    "Q.10. Why does this expression cause an error? How can you fix it?\n",
    "\n",
    "'I have eaten ' + 99 + ' burritos.'"
   ]
  },
  {
   "cell_type": "code",
   "execution_count": 43,
   "id": "0de216d5",
   "metadata": {},
   "outputs": [
    {
     "ename": "TypeError",
     "evalue": "can only concatenate str (not \"int\") to str",
     "output_type": "error",
     "traceback": [
      "\u001b[1;31m---------------------------------------------------------------------------\u001b[0m",
      "\u001b[1;31mTypeError\u001b[0m                                 Traceback (most recent call last)",
      "\u001b[1;32m~\\AppData\\Local\\Temp/ipykernel_14796/1774935878.py\u001b[0m in \u001b[0;36m<module>\u001b[1;34m\u001b[0m\n\u001b[1;32m----> 1\u001b[1;33m \u001b[1;34m'I have eaten '\u001b[0m \u001b[1;33m+\u001b[0m \u001b[1;36m99\u001b[0m \u001b[1;33m+\u001b[0m \u001b[1;34m' burritos.'\u001b[0m\u001b[1;33m\u001b[0m\u001b[1;33m\u001b[0m\u001b[0m\n\u001b[0m",
      "\u001b[1;31mTypeError\u001b[0m: can only concatenate str (not \"int\") to str"
     ]
    }
   ],
   "source": [
    "'I have eaten ' + 99 + ' burritos.'"
   ]
  },
  {
   "cell_type": "code",
   "execution_count": 44,
   "id": "d3d03807",
   "metadata": {},
   "outputs": [
    {
     "data": {
      "text/plain": [
       "'\\nAnswer(10.)\\n    We are getting the error because concatenation operation can be done only with the same types of data.\\n    We can not conctenate string with integer or vice- versa. This issue can be fixed by type casting.\\n'"
      ]
     },
     "execution_count": 44,
     "metadata": {},
     "output_type": "execute_result"
    }
   ],
   "source": [
    "'''\n",
    "Answer(10.)\n",
    "    We are getting the error because concatenation operation can be done only with the same types of data.\n",
    "    We can not conctenate string with integer or vice- versa. This issue can be fixed by type casting.\n",
    "'''"
   ]
  },
  {
   "cell_type": "code",
   "execution_count": 45,
   "id": "12d41bf0",
   "metadata": {},
   "outputs": [
    {
     "data": {
      "text/plain": [
       "'I have eaten 99 burritos.'"
      ]
     },
     "execution_count": 45,
     "metadata": {},
     "output_type": "execute_result"
    }
   ],
   "source": [
    "'I have eaten ' + str(99 )+ ' burritos.'"
   ]
  },
  {
   "cell_type": "code",
   "execution_count": null,
   "id": "97c1a8d4",
   "metadata": {},
   "outputs": [],
   "source": []
  }
 ],
 "metadata": {
  "kernelspec": {
   "display_name": "Python 3 (ipykernel)",
   "language": "python",
   "name": "python3"
  },
  "language_info": {
   "codemirror_mode": {
    "name": "ipython",
    "version": 3
   },
   "file_extension": ".py",
   "mimetype": "text/x-python",
   "name": "python",
   "nbconvert_exporter": "python",
   "pygments_lexer": "ipython3",
   "version": "3.9.7"
  }
 },
 "nbformat": 4,
 "nbformat_minor": 5
}
